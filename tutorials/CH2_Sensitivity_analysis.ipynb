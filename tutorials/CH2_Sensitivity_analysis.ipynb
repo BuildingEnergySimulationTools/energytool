{
 "cells": [
  {
   "cell_type": "code",
   "metadata": {},
   "source": [
    "import os\n",
    "from pathlib import Path\n",
    "\n",
    "TUTORIAL_DIR = Path(os.getcwd()).as_posix()"
   ],
   "outputs": [],
   "execution_count": null
  },
  {
   "cell_type": "markdown",
   "metadata": {
    "collapsed": false,
    "jupyter": {
     "outputs_hidden": false
    }
   },
   "source": [
    "# Building Sensitivity Analysis"
   ]
  },
  {
   "cell_type": "markdown",
   "metadata": {
    "collapsed": false,
    "jupyter": {
     "outputs_hidden": false
    },
    "pycharm": {
     "is_executing": true
    }
   },
   "source": [
    "\n",
    "The aim of this tutorial is to provide a workflow for building thermal simulation sensitivity analysis using\n",
    "[__EnergyPlus__](https://energyplus.net), __energytool__, and __corrAI__ sensitivity module :https://github.com/BuildingEnergySimulationTools/corrai/blob/main/corrai/sensitivity.py\n",
    "\n"
   ]
  },
  {
   "cell_type": "markdown",
   "metadata": {
    "collapsed": false,
    "jupyter": {
     "outputs_hidden": false
    }
   },
   "source": [
    "## Introduction"
   ]
  },
  {
   "cell_type": "markdown",
   "metadata": {
    "collapsed": false,
    "jupyter": {
     "outputs_hidden": false
    }
   },
   "source": [
    "Sensitivity Analysis methods are mathematical method that quantify the impact of and uncertain parameters on a specific metrics.\n",
    "Various methods exists such as Morris or Sobol.\n",
    "\n",
    "During building conception workflow, sensitivity analysis can have various benefits:\n",
    "- Screen out a number of irrelevant conception variables to focus on the important ones (does the solar absorption of the partition glass-wool have a relevant impact on building heat needs ?)\n",
    "- Sort  relevant uncertain parameter by influence on the observed metrics.\n",
    "- Help you quantify the relative importance of the modeled physical phenomenons\n",
    "\n",
    "In this example, the use case is an old building retrofitting. The objective is to insulate the south facade using double skin.\n",
    "\n",
    "|               Figure 1: Building picture               |            Figure 2: Building thermal model            |\n",
    "|:------------------------------------------------------:|:------------------------------------------------------:|\n",
    "| <img src=\"resources/building_photo.png\"  height=\"300\"> | <img src=\"resources/building_model.png\"  height=\"300\"> |\n",
    "\n",
    "The designer wants to know the impact of the following variables on the building **heat needs** and on the **thermal comfort**:\n",
    "- Double skin glazing thermal properties : Solar Heat Gain Coefficient (SHGC), thermal conductivity coefficient ($U_{value}$)\n",
    "- Envelope glazing thermal properties : Solar Heat Gain Coefficient (SHGC), thermal conductivity coefficient ($U_{value}$)\n",
    "- Envelope insulation thickness\n",
    "- Air infiltration coefficient Q4Pa [m<sup>3</sup>/h.m² @4Pa]\n",
    "\n",
    "To answer these questions, we will use an EnergyPlus building model, energytool and corrAI classes to perform Morris & Sobol sensitivity analyses."
   ]
  },
  {
   "cell_type": "markdown",
   "metadata": {
    "collapsed": false,
    "jupyter": {
     "outputs_hidden": false
    }
   },
   "source": [
    "## Building modeling"
   ]
  },
  {
   "cell_type": "markdown",
   "metadata": {
    "collapsed": false,
    "jupyter": {
     "outputs_hidden": false
    }
   },
   "source": [
    "In energytool, the <code>Building</code> class is used to simulate HVAC systems through pre-process and post process methods.\n",
    "The <code>Building</code> holds and idf file. The user specify hvac system using the <code>system</code> module."
   ]
  },
  {
   "cell_type": "code",
   "metadata": {},
   "source": [
    "from energytool.building import Building, SimuOpt"
   ],
   "outputs": [],
   "execution_count": null
  },
  {
   "cell_type": "markdown",
   "metadata": {
    "collapsed": false,
    "jupyter": {
     "outputs_hidden": false
    }
   },
   "source": [
    "The path of the idd file of EnergyPlus must be given to the <code>Building</code> class.\n",
    "Be careful idf file E+ version and idd file version must match."
   ]
  },
  {
   "cell_type": "code",
   "metadata": {},
   "source": [
    "Building.set_idd(Path(r\"C:\\EnergyPlusV9-4-0\"))"
   ],
   "outputs": [],
   "execution_count": null
  },
  {
   "cell_type": "markdown",
   "metadata": {
    "collapsed": false,
    "jupyter": {
     "outputs_hidden": false
    }
   },
   "source": [
    "Now we instantiate a building with an idf file representing the building thermal model.\n",
    "The idf can be generated manually or using a software (Openstudio, DesignBuilder).\n",
    "Keep in mind that the main advantage of the energytool <code>Building</code> class, is to simplify hvac system modeling using pre-process and post-process methods.\n",
    "Thus, we recommend using <code>IdealLoadAirSystem</code> to model HVAC and Domestic Hot Water production (DHW)."
   ]
  },
  {
   "cell_type": "code",
   "metadata": {},
   "source": [
    "building = Building(idf_path=Path(TUTORIAL_DIR) / \"resources/tuto_as.idf\")"
   ],
   "outputs": [],
   "execution_count": null
  },
  {
   "cell_type": "markdown",
   "metadata": {
    "collapsed": false,
    "jupyter": {
     "outputs_hidden": false
    }
   },
   "source": [
    "The <code>infos()</code> method display information on the building object"
   ]
  },
  {
   "cell_type": "code",
   "metadata": {},
   "source": [
    "building"
   ],
   "outputs": [],
   "execution_count": null
  },
  {
   "cell_type": "markdown",
   "metadata": {
    "collapsed": false,
    "jupyter": {
     "outputs_hidden": false
    }
   },
   "source": [
    "It is time to specify the building hvac equipments.\n",
    "Let's use the one present in the <code>system</code> module.\n",
    "Note that you can use custom class as long as they contain a <code>pre_process()</code> and a <code>post_process()</code> methods\n",
    "\n",
    "In this example, we will only use a boiler with a cop of 1 as we want to work with building heating needs.\n",
    "For more information on building system, see the dedicated tutorial."
   ]
  },
  {
   "cell_type": "code",
   "metadata": {},
   "source": "from energytool.system import Sensor, HeaterSimple",
   "outputs": [],
   "execution_count": null
  },
  {
   "cell_type": "code",
   "metadata": {},
   "source": [
    "building.add_system(HeaterSimple(name=\"IdealBoiler\", zones = [\"RX2:Zone1\", \"RX1:Zone1\", \"RDC:Zone1\"], cop=1))\n",
    "building.add_system(Sensor(name=\"Temperatures\", variables=\"Zone Mean Air Temperature\", key_values=\"*\"))"
   ],
   "outputs": [],
   "execution_count": null
  },
  {
   "cell_type": "markdown",
   "metadata": {
    "collapsed": false,
    "jupyter": {
     "outputs_hidden": false
    }
   },
   "source": [
    "We specify the parameters we are uncertain about using the class <code>UncertainParameter</code> from the <code>energytool.parameter</code> module."
   ]
  },
  {
   "cell_type": "code",
   "metadata": {},
   "source": [
    "from corrai.base.parameter import Parameter"
   ],
   "outputs": [],
   "execution_count": null
  },
  {
   "cell_type": "markdown",
   "metadata": {
    "collapsed": false,
    "jupyter": {
     "outputs_hidden": false
    }
   },
   "source": [
    "A <code>list</code> of dictionaries is used to define uncertain parameters in the model. \n",
    "Each dictionary represents one uncertain parameter and follows the structure defined by the <code>Parameter</code> enum.\n",
    "The example below defines the Solar Heat Gain Coefficient (SHGC) of the external glazing:\n",
    "```\n",
    "{\n",
    "Parameter.NAME: \"idf.WindowMaterial:SimpleGlazingSystem.Simple DSF_ext_south_glazing - 1002.Solar_Heat_Gain_Coefficient\",\n",
    "Parameter.INTERVAL: [0.3, 0.7],\n",
    "Parameter.TYPE: \"Real\",\n",
    "} \n",
    "```\n",
    "<code>Parameter.NAME</code>: Full path to the parameter in the IDF model, following the format:\n",
    "<code>\"idf.<idf_object>.<name>.<field>\"</code>.\n",
    "Use <code>\"*\"</code> for <code>name</code> if the parameter applies to all objects of the given type.\n",
    "\n",
    "<code>Parameter.INTERVAL</code>: The lower and upper bounds of the uncertainty interval.\n",
    "For discrete uncertainties, this should be a list of all possible values.\n",
    "\n",
    "<code>Parameter.TYPE</code>: Indicates the type of variable:\n",
    "<code>\"Real\"</code>, <code>\"Integer\"</code>, <code>\"Binary\"</code>, or <code>\"Choice\"</code>.\n",
    "\n",
    "- Use <code>\"Real\"</code> for continuous parameters like SHGC or U-Factor.\n",
    "- Use <code>\"Integer\"</code> for only integer values between the lower and upper bounds\n",
    "- Use <code>\"Choice\"</code> for categorical parameters (works in specific cases if more than two values are given. Not Morris)\n",
    "- use <code>\"Binary\"</code> for 0 - 1 values\n",
    "\n",
    "You can define as many uncertain parameters as needed using this structure."
   ]
  },
  {
   "cell_type": "code",
   "metadata": {},
   "source": [
    "uncertain_param_list = [\n",
    "    {\n",
    "        Parameter.NAME: \"idf.WindowMaterial:SimpleGlazingSystem.Simple DSF_ext_south_glazing - 1002.Solar_Heat_Gain_Coefficient\",\n",
    "        Parameter.INTERVAL: [0.5, 0.8],\n",
    "        Parameter.TYPE: \"Real\",\n",
    "    },\n",
    "    {\n",
    "        Parameter.NAME: \"idf.WindowMaterial:SimpleGlazingSystem.Simple DSF_ext_south_glazing - 1002.UFactor\",\n",
    "        Parameter.INTERVAL: [0.5, 0.8],\n",
    "        Parameter.TYPE: \"Real\",\n",
    "    },\n",
    "    {\n",
    "        Parameter.NAME: \"idf.Material.Wall_insulation_.1.Thickness\",\n",
    "        # Parameter.INTERVAL: [0.1, 0.2, 0.4, 0.6],\n",
    "        Parameter.INTERVAL: [0.1, 0.6],\n",
    "        Parameter.TYPE: \"Real\",\n",
    "    },\n",
    "    {\n",
    "        Parameter.NAME: \"idf.AirflowNetwork:MultiZone:Surface:Crack.*.Air_Mass_Flow_Coefficient_at_Reference_Conditions\",\n",
    "        Parameter.INTERVAL: [0.05, 0.5],\n",
    "        Parameter.TYPE: \"Real\",\n",
    "    },\n",
    "]"
   ],
   "outputs": [],
   "execution_count": null
  },
  {
   "cell_type": "markdown",
   "metadata": {
    "collapsed": false,
    "jupyter": {
     "outputs_hidden": false
    }
   },
   "source": [
    "Import the sensitivity analysis class <code>SAnalysis</code>\n",
    "As a minimal configuration, it requires the <code>Building</code> instance, en sensitivity analysis method and the previously defined list of uncertain parameter."
   ]
  },
  {
   "cell_type": "code",
   "metadata": {},
   "source": [
    "from corrai.sensitivity import SAnalysis, Method"
   ],
   "outputs": [],
   "execution_count": null
  },
  {
   "cell_type": "markdown",
   "metadata": {
    "collapsed": false,
    "jupyter": {
     "outputs_hidden": false
    }
   },
   "source": [
    "## Morris method\n",
    "To screen out parameters or to have a first estimation of the uncertain parameters rank without running too many simulation, it is often a good idea to use the Morris method."
   ]
  },
  {
   "cell_type": "code",
   "metadata": {},
   "source": [
    "sa_analysis = SAnalysis(\n",
    "    parameters_list=uncertain_param_list,\n",
    "    method=Method.MORRIS,\n",
    ")"
   ],
   "outputs": [],
   "execution_count": null
  },
  {
   "cell_type": "markdown",
   "metadata": {
    "collapsed": false,
    "jupyter": {
     "outputs_hidden": false
    }
   },
   "source": [
    "The <code>draw_sample</code> method of <code>SAnalysis</code> draws parameters values according to the <code>parameters</code> list. The sampling method depends on the <code>sensitivity_method</code>. For Morris a One At a Time method is used (OAT). See [SALib documentation](https://salib.readthedocs.io/en/latest/index.html) for more information\n",
    "\n",
    "The number of trajectories is set to 15."
   ]
  },
  {
   "cell_type": "code",
   "metadata": {},
   "source": [
    "sa_analysis.draw_sample(n=5)"
   ],
   "outputs": [],
   "execution_count": null
  },
  {
   "cell_type": "markdown",
   "metadata": {
    "collapsed": false,
    "jupyter": {
     "outputs_hidden": false
    }
   },
   "source": [
    "Sampling results are stored in <code>sample</code>. Columns corresponds to parameters.\n",
    "Index lines corresponds to a configuration (combination of parameters values)"
   ]
  },
  {
   "cell_type": "code",
   "metadata": {},
   "source": [
    "sa_analysis.sample.head()"
   ],
   "outputs": [],
   "execution_count": null
  },
  {
   "cell_type": "code",
   "metadata": {},
   "source": [
    "len(sa_analysis.sample)"
   ],
   "outputs": [],
   "execution_count": null
  },
  {
   "cell_type": "markdown",
   "metadata": {
    "collapsed": false,
    "jupyter": {
     "outputs_hidden": false
    }
   },
   "source": [
    "<code>run_simulations</code> method runs the 105 simulations"
   ]
  },
  {
   "cell_type": "code",
   "metadata": {},
   "source": [
    "SIM_OPTIONS = {\n",
    "    SimuOpt.EPW_FILE.value: Path(TUTORIAL_DIR) / r\"resources/FRA_Bordeaux.075100_IWEC.epw\",\n",
    "    SimuOpt.OUTPUTS.value: \"SYSTEM|SENSOR\",\n",
    "    SimuOpt.START.value: \"2025-01-01\",\n",
    "    SimuOpt.STOP.value: \"2025-01-19\",\n",
    "    SimuOpt.VERBOSE.value: \"v\", \n",
    "}"
   ],
   "outputs": [],
   "execution_count": null
  },
  {
   "cell_type": "code",
   "metadata": {},
   "source": [
    "building"
   ],
   "outputs": [],
   "execution_count": null
  },
  {
   "cell_type": "code",
   "metadata": {},
   "source": [
    "sa_analysis.evaluate(\n",
    "    model = building, \n",
    "    simulation_options=SIM_OPTIONS,\n",
    ")"
   ],
   "outputs": [],
   "execution_count": null
  },
  {
   "cell_type": "markdown",
   "metadata": {
    "collapsed": false,
    "jupyter": {
     "outputs_hidden": false
    }
   },
   "source": [
    "We can plot all simulations in one graph and compare the simulated internal temperature or heating energy. Argument show_legends can be set to True if you want see associated parameters values."
   ]
  },
  {
   "cell_type": "code",
   "metadata": {},
   "source": [
    "from corrai.sensitivity import plot_sample\n",
    "\n",
    "plot_sample(\n",
    "    sample_results=sa_analysis.sample_results,\n",
    "    indicator=\"RX1:ZONE1_Zone Mean Air Temperature\",\n",
    "    show_legends=True,\n",
    "    y_label=\"Temperature [°C]\",\n",
    "    x_label=\"Date\",\n",
    ")"
   ],
   "outputs": [],
   "execution_count": null
  },
  {
   "cell_type": "code",
   "metadata": {},
   "source": [
    "from corrai.sensitivity import plot_sample\n",
    "\n",
    "plot_sample(\n",
    "    sample_results=sa_analysis.sample_results,\n",
    "    # indicator=\"RX1:ZONE1_Zone Mean Air Temperature\",\n",
    "    indicator=\"HEATING_Energy_[J]\",\n",
    "    show_legends=False,\n",
    "    y_label=\"HEATING_Energy_[J]\",\n",
    "    x_label=\"Date\",\n",
    ")"
   ],
   "outputs": [],
   "execution_count": null
  },
  {
   "cell_type": "code",
   "metadata": {},
   "source": [
    "from corrai.metrics import cv_rmse, nmbe\n",
    "import numpy as np\n",
    "\n",
    "sa_analysis.analyze(\n",
    "    # indicator=\"RX1:ZONE1_Zone Mean Air Temperature\",\n",
    "    indicator=\"HEATING_Energy_[J]\",\n",
    "    # agg_method=np.mean,\n",
    "    agg_method=np.sum,\n",
    ")"
   ],
   "outputs": [],
   "execution_count": null
  },
  {
   "cell_type": "code",
   "metadata": {},
   "source": [
    "sa_analysis.sensitivity_results"
   ],
   "outputs": [],
   "execution_count": null
  },
  {
   "cell_type": "code",
   "metadata": {},
   "source": [
    "sa_analysis.calculate_sensitivity_indicators()"
   ],
   "outputs": [],
   "execution_count": null
  },
  {
   "cell_type": "markdown",
   "metadata": {
    "collapsed": false,
    "jupyter": {
     "outputs_hidden": false
    }
   },
   "source": [
    "Sensitivity index results are stored in <code>sensitivity_results</code>.\n",
    "Pre-formatted figure for Morris results is available using <code>plot_morris_scatter</code>"
   ]
  },
  {
   "cell_type": "code",
   "metadata": {},
   "source": [
    "from corrai.sensitivity import plot_morris_scatter \n",
    "plot_morris_scatter(salib_res=sa_analysis.sensitivity_results, title='Elementary effects', unit='J', autosize=True) "
   ],
   "outputs": [],
   "execution_count": null
  },
  {
   "cell_type": "markdown",
   "metadata": {
    "collapsed": false,
    "jupyter": {
     "outputs_hidden": false
    }
   },
   "source": [
    "In the figure above:\n",
    "- Circle size indicate the total effect of the parameter on the chosen indicator. The bigger, the more influential.\n",
    "- The x axis is the mean elementary effect of the parameters. It represents \"linear\" effect of the parameter.\n",
    "- The y axis is the standard deviation. It represents interactions between parameters and non linearities.\n",
    "- The 3 lines separates the figure in 4 regions. From the closer to the x axis : linear, monotonic, almost monotonic and non-linear and/or non-monotonic effects. See [publication](http://www.ibpsa.org/proceedings/BSO2016/p1101.pdf) for more details\n",
    "- The segment represent the uncertainty on the sensitivity index calculation.\n",
    "\n",
    "In this use case. Several conclusions can be drawn:\n",
    "- 4 parameters have an influence on the chosen indicator. Two indicators can be neglected.\n",
    "- The 4 main parameters have an almost linear influence on the indicator\n",
    "- The confidence on the sensitivity index calculation is high"
   ]
  },
  {
   "cell_type": "markdown",
   "metadata": {
    "collapsed": false,
    "jupyter": {
     "outputs_hidden": false
    }
   },
   "source": [
    "## Sobol method"
   ]
  },
  {
   "cell_type": "markdown",
   "metadata": {
    "collapsed": false,
    "jupyter": {
     "outputs_hidden": false
    }
   },
   "source": [
    "Sobol index indicates the contribution of each uncertain parameters to the variance of the output indicator.\n",
    "It is a more accurate method to quantify the effect of an uncertain parameter. The second order index also gives more information on the effect of parameters interactions.\n",
    "... But it comes at a much higher computational cost.\n",
    "In energytool, the index are computed using SALib. The method gives an estimation of the index value. It reduces the simulation sample size.\n",
    "\n",
    "Below is an example of a <code>SAnalisys</code> configuration to perform Sobol index calculation\n",
    "It is very similar to Morris"
   ]
  },
  {
   "cell_type": "code",
   "metadata": {},
   "source": [
    "sa_analysis_sob = SAnalysis(\n",
    "    parameters_list=uncertain_param_list,\n",
    "    method=Method.SOBOL,\n",
    ")"
   ],
   "outputs": [],
   "execution_count": null
  },
  {
   "cell_type": "code",
   "metadata": {},
   "source": [
    "# Salib command an n = 2^x. In this case x shall be >= 6\n",
    "sa_analysis_sob.draw_sample(n=2**2)\n",
    "len(sa_analysis_sob.sample)"
   ],
   "outputs": [],
   "execution_count": null
  },
  {
   "cell_type": "code",
   "metadata": {},
   "source": [
    "sa_analysis_sob.evaluate(\n",
    "    model = building, \n",
    "    simulation_options=SIM_OPTIONS,\n",
    ")"
   ],
   "outputs": [],
   "execution_count": null
  },
  {
   "cell_type": "markdown",
   "metadata": {
    "collapsed": false,
    "jupyter": {
     "outputs_hidden": false
    }
   },
   "source": [
    "Similarly to Morris, a function is designed to plot preformatted Sobol total index graph"
   ]
  },
  {
   "cell_type": "code",
   "metadata": {},
   "source": [
    "from corrai.sensitivity import plot_sobol_st_bar"
   ],
   "outputs": [],
   "execution_count": null
  },
  {
   "cell_type": "code",
   "metadata": {},
   "source": [
    "from corrai.metrics import cv_rmse, nmbe\n",
    "import numpy as np\n",
    "\n",
    "sa_analysis_sob.analyze(\n",
    "    indicator=\"RX1:ZONE1_Zone Mean Air Temperature\",\n",
    "    agg_method=np.mean,\n",
    ")\n",
    "\n",
    "sa_analysis_sob.calculate_sensitivity_indicators()\n",
    "plot_sobol_st_bar(sa_analysis_sob.sensitivity_results)"
   ],
   "outputs": [],
   "execution_count": null
  },
  {
   "cell_type": "markdown",
   "metadata": {
    "collapsed": false,
    "jupyter": {
     "outputs_hidden": false
    }
   },
   "source": [
    " In this use case, the Sobol method sorted the uncertain parameters in the same order as Morris.\n",
    "The Sobol total index represent an uncertain parameter single effect plus the sum of all its interactions on the considered indicator.\n",
    "The uncertainty bar shows the confidence interval of the index value.\n",
    "\n",
    "The sum of all the index shall be equal to one.\n",
    "Salib computes an estimation of this index. "
   ]
  },
  {
   "cell_type": "code",
   "metadata": {},
   "source": [
    "sa_analysis_sob.sensitivity_results[\"ST\"].sum()"
   ],
   "outputs": [],
   "execution_count": null
  },
  {
   "cell_type": "markdown",
   "metadata": {},
   "source": [
    "The confidence intervals of the index overlap and the sum is much higher than 1. A bigger sample is necessary to draw conclusion, and should greatly improve the results."
   ]
  }
 ],
 "metadata": {
  "kernelspec": {
   "display_name": "Python 3 (ipykernel)",
   "language": "python",
   "name": "python3"
  },
  "language_info": {
   "codemirror_mode": {
    "name": "ipython",
    "version": 3
   },
   "file_extension": ".py",
   "mimetype": "text/x-python",
   "name": "python",
   "nbconvert_exporter": "python",
   "pygments_lexer": "ipython3",
   "version": "3.10.13"
  }
 },
 "nbformat": 4,
 "nbformat_minor": 4
}
