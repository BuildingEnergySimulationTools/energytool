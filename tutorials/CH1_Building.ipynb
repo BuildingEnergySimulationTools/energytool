{
 "cells": [
  {
   "cell_type": "code",
   "execution_count": null,
   "metadata": {},
   "outputs": [],
   "source": [
    "import os\n",
    "from pathlib import Path\n",
    "\n",
    "import matplotlib.pyplot as plt\n",
    "\n",
    "TUTORIAL_DIR = Path(os.getcwd()).as_posix()"
   ]
  },
  {
   "cell_type": "markdown",
   "metadata": {
    "collapsed": false
   },
   "source": [
    "# Energytool Building"
   ]
  },
  {
   "cell_type": "markdown",
   "metadata": {
    "collapsed": false
   },
   "source": [
    "The aim of the tutorial is to introduce the energytool <code>Building</code> class.\n",
    "It is build on top of [energyplus](https://energyplus.net/) and of the python library [eppy](https://github.com/santoshphilip/eppy).\n",
    "It has been designed to simplify the HVAC, Domestic Hot Water (DHW) production and local energy production (Photovoltaic)\n",
    "\n",
    "<img src=\"resources/building_class.png\"  height=\"300\">\n",
    "\n",
    "- It has only one positional argument \"idf_path\". When instantiated it uses eppy.modeleditor <code>IDF</code> to read the idf file\n",
    "- 7 <code>dict</code> are used to organise the HVAC DHW and production equipments objects. Additional objects can be stored in the \"other\" <code>dict</code>, such as thermal comfort indicator objects.\n",
    "\n",
    "- <code>property</code> are defined to compute specific results.\n",
    "\n",
    "During simulation :\n",
    "\n",
    "1- The <code>pre_process()</code> method is called. It calls the <code>pre_process()</code> method of each object contained in the previously described <code>dict</code>. Be careful, order matters in some cases\n",
    "\n",
    "2- Energyplus is called and the simulation runs.\n",
    "\n",
    "3- The <code>post_process()</code> method is called. It calls the <code>post_process()</code> method of each object contained in the previously described <code>dict</code>."
   ]
  },
  {
   "cell_type": "markdown",
   "metadata": {
    "collapsed": false
   },
   "source": [
    "## 1- Instantiate a Building"
   ]
  },
  {
   "cell_type": "markdown",
   "metadata": {
    "collapsed": false
   },
   "source": [
    "Let's load an example idf file that model a 2 storey and 4 apartments building:\n",
    "\n",
    "|             Figure 1: Building model perspective              |                 Figure 2: Building first floor                  |\n",
    "|:-------------------------------------------------------------:|:---------------------------------------------------------------:|\n",
    "| <img height=\"300\" src=\"resources/building_tuto_3d_pers.png\"/> | <img src=\"resources/building_tuto_1st_floor.png\"  height=\"300\"> |"
   ]
  },
  {
   "cell_type": "code",
   "execution_count": null,
   "metadata": {},
   "outputs": [],
   "source": [
    "from energytool.building import Building"
   ]
  },
  {
   "cell_type": "code",
   "execution_count": null,
   "metadata": {},
   "outputs": [],
   "source": [
    "building = Building(idf_path=Path(TUTORIAL_DIR) / \"resources/tuto_building.idf\")"
   ]
  },
  {
   "cell_type": "markdown",
   "metadata": {
    "collapsed": false
   },
   "source": [
    "<code>Building</code> method <code>infos()</code> displays information on the model"
   ]
  },
  {
   "cell_type": "code",
   "execution_count": null,
   "metadata": {},
   "outputs": [],
   "source": [
    "building.infos()"
   ]
  },
  {
   "cell_type": "markdown",
   "metadata": {
    "collapsed": false
   },
   "source": [
    "Building surface, zone number, etc. are calculated from the imported idf file.\n",
    "In the HVAC section we can see that the 7 dictionaries are empty.\n",
    "\n",
    "However, it doesn't mean that no HVAC system are  modeled in the idf file.\n",
    " - Heating and ventilation are modeled using IdealLoadsAirSystem\n",
    " - Artificial Lighting is defined with the object Lights\n",
    "\n",
    "__*The <code>Building</code> class allows you to add \"Systems\" that will edit a part of the  idf file and/or select and apply a post treatment to the simulation results. It cannot replace proper idf HVAC configuration. The use of IdealLoadsAirSystem is recommended.*__\n"
   ]
  },
  {
   "cell_type": "markdown",
   "metadata": {
    "collapsed": false
   },
   "source": [
    "## 2- Add systems"
   ]
  },
  {
   "cell_type": "markdown",
   "metadata": {
    "collapsed": false
   },
   "source": [
    "In energytool, a system is a class that modify an idf file or post process results.\n",
    "The module <code>energytool.system</code> holds several examples of system class.\n",
    "Custom class can be written as long as they have the following structure :\n",
    "\n",
    "<img src=\"resources/system_class.png\"  height=\"300\">\n",
    "\n",
    "- The attribute <code>building</code> is the only mandatory attribute. It references the building object where the system will be connected\n",
    "- The other attributes depends on the system (COP, list of zone names, etc.)\n",
    "- Every system have a <code>pre-process()</code> and a <code>post-process()</code> methods\n"
   ]
  },
  {
   "cell_type": "markdown",
   "metadata": {
    "collapsed": false
   },
   "source": [
    "In the following lines we add most of the systems present in <code>energytool.system</code> module.\n",
    " For more information on the effects of each system on the simulation, see the <code>energytool.system</code> documentation."
   ]
  },
  {
   "cell_type": "code",
   "execution_count": null,
   "metadata": {},
   "outputs": [],
   "source": [
    "from energytool.system import HeaterSimple\n",
    "from energytool.system import AuxiliarySimplified\n",
    "from energytool.system import AirHandlingUnit\n",
    "from energytool.system import AHUControl\n",
    "from energytool.system import DHWIdealExternal\n",
    "from energytool.system import ArtificialLightingSimple"
   ]
  },
  {
   "cell_type": "code",
   "execution_count": null,
   "metadata": {},
   "outputs": [],
   "source": [
    "# Simulate a boiler, multiplying the heat needs by a constant COP\n",
    "building.heating_system[\"Main_boiler\"] = HeaterSimple(\n",
    "    name=\"Gaz_boiler\", building=building, cop=0.89\n",
    ")\n",
    "\n",
    "# Estimate circulation pumps energy consumption multiplying the heat needs by a constant (default 0.05)\n",
    "building.heating_system[\"Circulation_pumps\"] = AuxiliarySimplified(\n",
    "    name=\"Heater_aux\", building=building\n",
    ")\n",
    "\n",
    "# Simulate fan consumption multiplying extracted air volume by a constant coefficient\n",
    "# Do not have a heat exchanger\n",
    "building.ventilation_system[\"Main_AHU\"] = AirHandlingUnit(\n",
    "    name=\"Extraction_fan\",\n",
    "    building=building,\n",
    "    fan_energy_coefficient=0.23,  # Wh/m3\n",
    "    heat_recovery_efficiency=False,\n",
    ")\n",
    "\n",
    "# Simulate clock regulation\n",
    "# Ventilation works according to specified schedule\n",
    "#  is defined in the energytool/resources/resources_idf.idf file\n",
    "building.ventilation_system[\"AHU_control\"] = AHUControl(\n",
    "    name=\"Hygro_intakes\",\n",
    "    building=building,\n",
    "    control_strategy=\"Schedule\",\n",
    "    schedule_name=\"OFF_09h_18h_ON_18h_24h_ON_WE_FULL_YEAR\",\n",
    ")\n",
    "\n",
    "# Estimate Domestic Hot Water production energy needs\n",
    "# Use the number of people defined in the idf file to estimate the total volume.\n",
    "# Otherwise, energy calculation is independent of energyplus\n",
    "building.dwh_system[\"DHW_production\"] = DHWIdealExternal(\n",
    "    name=\"Electric_accumulation\",\n",
    "    building=building,\n",
    "    cop=0.85,\n",
    ")\n",
    "\n",
    "# Estimate Domestic Hot Water production energy needs\n",
    "# Use the number of people defined in the idf file to estimate the total volume.\n",
    "# Otherwise, energy calculation is independent of energyplus\n",
    "building.dwh_system[\"DHW_production\"] = DHWIdealExternal(\n",
    "    name=\"Electric_accumulation\",\n",
    "    building=building,\n",
    "    cop=0.85,\n",
    ")\n",
    "\n",
    "# Estimate Lighting consumption using a constant power ratio.\n",
    "# Modify the existing energyplus object\n",
    "building.artificial_lighting_system[\"Lights\"] = ArtificialLightingSimple(\n",
    "    name=\"Random_lights\", building=building, power_ratio=4  # W/m²\n",
    ")"
   ]
  },
  {
   "cell_type": "markdown",
   "metadata": {
    "collapsed": false
   },
   "source": [
    "## 3- Thermal comfort and other post treatment"
   ]
  },
  {
   "cell_type": "markdown",
   "metadata": {
    "collapsed": false
   },
   "source": [
    "For now, occupant thermal comfort is a property of <code>Building</code>. It is often computed from several simulation outputs. They need to be specified 'a-priori'. The <code>Building</code> dictionary <code>other</code> is designed to hold the objects that don't belong to HVAC systems but that will apply pre- or post-process methods.\n",
    "\n",
    "In this example, we use the French HQE definition of occupant thermal comfort. Thus we need to obtain the Zones Operative Temperature and the occupancy schedule for each zone."
   ]
  },
  {
   "cell_type": "code",
   "execution_count": null,
   "metadata": {},
   "outputs": [],
   "source": [
    "from energytool.indicators import AddOutputVariables"
   ]
  },
  {
   "cell_type": "code",
   "execution_count": null,
   "metadata": {},
   "outputs": [],
   "source": [
    "building.other[\"Thermal_comfort_variables\"] = AddOutputVariables(\n",
    "    name=\"HQE_discomfort\",\n",
    "    building=building,\n",
    "    variables=[\"Zone Operative Temperature\", \"Zone People Occupant Count\"],\n",
    ")"
   ]
  },
  {
   "cell_type": "markdown",
   "metadata": {
    "collapsed": false
   },
   "source": [
    "Using <code>infos</code> you can check the systems you just added"
   ]
  },
  {
   "cell_type": "code",
   "execution_count": null,
   "metadata": {},
   "outputs": [],
   "source": [
    "building.infos()"
   ]
  },
  {
   "cell_type": "markdown",
   "metadata": {
    "collapsed": false
   },
   "source": [
    "## 4. Building simulation"
   ]
  },
  {
   "cell_type": "markdown",
   "metadata": {
    "collapsed": false
   },
   "source": [
    "### 4.1 Single simulation"
   ]
  },
  {
   "cell_type": "markdown",
   "metadata": {
    "collapsed": false
   },
   "source": [
    "Energytool is designed to execute batch of several simulations in parallel. Therefore two <code>class</code> of the <code>energytool.simulate</code> are used:\n",
    "- <code>Simulation</code> is used to define the simulation parameters and weather file\n",
    "- <code>SimulationRunner</code> is used to run a <code>list</code> of <code>Simulation</code>"
   ]
  },
  {
   "cell_type": "code",
   "execution_count": null,
   "metadata": {},
   "outputs": [],
   "source": [
    "from energytool.simulate import Simulation\n",
    "from energytool.simulate import SimulationsRunner"
   ]
  },
  {
   "cell_type": "code",
   "execution_count": null,
   "metadata": {},
   "outputs": [],
   "source": [
    "import datetime as dt"
   ]
  },
  {
   "cell_type": "code",
   "execution_count": null,
   "metadata": {},
   "outputs": [],
   "source": [
    "# Define a simulation\n",
    "my_simulation = Simulation(\n",
    "    building=building,\n",
    "    epw_file_path=Path(TUTORIAL_DIR) / \"resources/FRA_Bordeaux.075100_IWEC.epw\",\n",
    "    simulation_start=dt.datetime(2022, 1, 1, 0, 0, 0),\n",
    "    simulation_stop=dt.datetime(2022, 12, 31, 23, 0, 0),\n",
    "    timestep_per_hour=1,\n",
    ")"
   ]
  },
  {
   "cell_type": "markdown",
   "metadata": {
    "collapsed": false
   },
   "source": [
    "Energyplus doesn't care about the year. But it can be useful if you are calibrating a simulation, or if you need the right day of week (monda, tuesday, etc.). That's why the notion of \"year\" have been added to energytool. If you don't need it, you can leave <code>simulation_start</code> and <code>simulation_stop</code> to default. It will run the simulation for a full year."
   ]
  },
  {
   "cell_type": "code",
   "execution_count": null,
   "metadata": {},
   "outputs": [],
   "source": [
    "# Define a runner with a list of 1 simulation\n",
    "simulation_runner = SimulationsRunner(simu_list=[my_simulation])"
   ]
  },
  {
   "cell_type": "code",
   "execution_count": null,
   "metadata": {},
   "outputs": [],
   "source": [
    "# Run it !!!\n",
    "simulation_runner.run()"
   ]
  },
  {
   "cell_type": "markdown",
   "metadata": {
    "collapsed": false
   },
   "source": [
    "Simulation results are available at building level. They are stored in a <code>DataFrame</code> at an hourly timestep :\n",
    " - <code>energyplus_results</code> contains raw energyplus results\n",
    " - <code>building_results</code> contains HVAC objects post treated results\n",
    " - <code>system_energy_results</code> property contains RT 2020 type results"
   ]
  },
  {
   "cell_type": "code",
   "execution_count": null,
   "metadata": {},
   "outputs": [],
   "source": [
    "# At building level\n",
    "building.building_results.sum().plot(kind=\"pie\")\n",
    "plt.show()"
   ]
  },
  {
   "cell_type": "markdown",
   "metadata": {
    "collapsed": false
   },
   "source": []
  },
  {
   "cell_type": "markdown",
   "metadata": {
    "collapsed": false
   },
   "source": [
    "### 4.2 Building modifications and batch simulation"
   ]
  },
  {
   "cell_type": "markdown",
   "metadata": {
    "collapsed": false
   },
   "source": [
    "The aim af energytool is to make batch simulation building in order to quickly simulate and compare building variant.\n",
    "To make a building variant, you have to make a <code>deepcopy()</code> of your building, and pass it to a new <code>Simulation</code> object\n",
    "\n",
    "In the following example, we will make to variants.\n",
    "1- Changing the Main boiler COP to 2.5\n",
    "2- changing the lights power ratio to 2W/m²"
   ]
  },
  {
   "cell_type": "code",
   "execution_count": null,
   "metadata": {},
   "outputs": [],
   "source": [
    "from copy import deepcopy"
   ]
  },
  {
   "cell_type": "code",
   "execution_count": null,
   "metadata": {},
   "outputs": [],
   "source": [
    "variant_1 = deepcopy(building)\n",
    "variant_1.heating_system[\"Main_boiler\"].cop = 2"
   ]
  },
  {
   "cell_type": "code",
   "execution_count": null,
   "metadata": {},
   "outputs": [],
   "source": [
    "variant_2 = deepcopy(building)\n",
    "variant_2.artificial_lighting_system[\"Lights\"].power_ratio = 2"
   ]
  },
  {
   "cell_type": "code",
   "execution_count": null,
   "metadata": {},
   "outputs": [],
   "source": [
    "simu_var_1 = Simulation(\n",
    "    building=variant_1,\n",
    "    epw_file_path=Path(TUTORIAL_DIR) / \"resources/FRA_Bordeaux.075100_IWEC.epw\",\n",
    ")\n",
    "\n",
    "simu_var_2 = Simulation(\n",
    "    building=variant_2,\n",
    "    epw_file_path=Path(TUTORIAL_DIR) / \"resources/FRA_Bordeaux.075100_IWEC.epw\",\n",
    ")"
   ]
  },
  {
   "cell_type": "markdown",
   "metadata": {
    "collapsed": false
   },
   "source": [
    "The new simulations can be passed to a <code>SimulationRunner</code>.\n",
    "Following arguments can be passed :\n",
    "- <code>run_dir</code> provide a <code>Path</code> object to specify the folder where the simulations will be executed. By default, energytool creates a temporary folder. The argument is useful mainly for debug purpose\n",
    "- <code>nb_cpus</code> specify the number of CPUs you want energytool to use. Default is -1 meaning all the CPUs available\n",
    "- <code>nb_simu_per_batch</code> default is 10. We recommend that this number is superior or equal to the number of CPUs"
   ]
  },
  {
   "cell_type": "code",
   "execution_count": null,
   "metadata": {},
   "outputs": [],
   "source": [
    "runner = SimulationsRunner(simu_list=[simu_var_1, simu_var_2])\n",
    "runner.run()"
   ]
  },
  {
   "cell_type": "markdown",
   "metadata": {
    "collapsed": false
   },
   "source": [
    "After some Pandas and matplolib manipulation, you can easily compare the results"
   ]
  },
  {
   "cell_type": "code",
   "execution_count": null,
   "metadata": {},
   "outputs": [],
   "source": [
    "import pandas as pd"
   ]
  },
  {
   "cell_type": "code",
   "execution_count": null,
   "metadata": {},
   "outputs": [],
   "source": [
    "combine_df = pd.concat(\n",
    "    [var.building_results.sum() for var in [building, variant_1, variant_2]], axis=1\n",
    ")\n",
    "combine_df.columns = [\"Existing\", \"variant_1\", \"variant_2\"]\n",
    "combine_df = combine_df / 3600 / 1000"
   ]
  },
  {
   "cell_type": "code",
   "execution_count": null,
   "metadata": {},
   "outputs": [],
   "source": [
    "combine_df.T.plot(kind=\"bar\", stacked=True)\n",
    "plt.title(\"Variant comparison\")\n",
    "plt.ylabel(\"Building consumption [kWh]\")"
   ]
  },
  {
   "cell_type": "code",
   "execution_count": null,
   "metadata": {},
   "outputs": [],
   "source": [
    "building.overshoot_thermal_comfort"
   ]
  }
 ],
 "metadata": {
  "kernelspec": {
   "display_name": "Python 3",
   "language": "python",
   "name": "python3"
  },
  "language_info": {
   "codemirror_mode": {
    "name": "ipython",
    "version": 2
   },
   "file_extension": ".py",
   "mimetype": "text/x-python",
   "name": "python",
   "nbconvert_exporter": "python",
   "pygments_lexer": "ipython2",
   "version": "2.7.6"
  }
 },
 "nbformat": 4,
 "nbformat_minor": 0
}
