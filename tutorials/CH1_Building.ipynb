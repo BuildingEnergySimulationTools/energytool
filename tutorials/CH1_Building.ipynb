{
 "cells": [
  {
   "cell_type": "code",
   "execution_count": null,
   "metadata": {},
   "outputs": [],
   "source": [
    "import os\n",
    "from pathlib import Path\n",
    "\n",
    "TUTORIAL_DIR = Path(os.getcwd()).as_posix()"
   ]
  },
  {
   "cell_type": "markdown",
   "metadata": {
    "collapsed": false,
    "jupyter": {
     "outputs_hidden": false
    }
   },
   "source": [
    "# Energytool Building"
   ]
  },
  {
   "cell_type": "markdown",
   "metadata": {
    "collapsed": false,
    "jupyter": {
     "outputs_hidden": false
    }
   },
   "source": [
    "The aim of the tutorial is to introduce the energytool <code>Building</code> class.\n",
    "It is build on top of [energyplus](https://energyplus.net/) and of the python library [eppy](https://github.com/santoshphilip/eppy).\n",
    "It has been designed to simplify the HVAC, Domestic Hot Water (DHW) production and local energy production (Photovoltaic). It inherits from [corrai](https://github.com/BuildingEnergySimulationTools/corrai) <code>Model</code> base class, so it can be integrated to batch simulation workflows such as Sensitivity Analsysis, callibration, etc. \n",
    "\n",
    "- It has only one positional argument \"idf_path\". When instantiated it uses eppy.modeleditor <code>IDF</code> to read the idf file\n",
    "- A <code>dict</code> is used to organise the HVAC DHW and production equipments objects. Its keys are <code>energytool.system SystemCategories</code> keys :\n",
    "    HEATING, COOLING, VENTILATION, LIGHTING, AUXILIARY, DHW, PV, SENSOR, OTHER.\n",
    "\n",
    "- <code>property</code> are defined to compute specific results.\n",
    "\n",
    "Simulation can be run using <code>simulate()</code> method. The concept behind Energytool, is to simplified HVAC system modeling by editing the idf file before the simulation, and post-processing the energyplus results. Each <code> System </code> objects have a <code>pre_process</code> and a <code>post_process</code> method: \n",
    "\n",
    "1- <code>pre_process()</code> method of each system is called. Be careful, order of called objects matters in some cases. These methods modify the idf objects (create OutputVariables, modify power density, or materiel properties)\n",
    "\n",
    "2- Energyplus is called and the simulation runs.\n",
    "\n",
    "3- The <code>post_process()</code> method is called. Each objects apply post-processing to raw energyplus results and gather the results in a single Dataframe."
   ]
  },
  {
   "cell_type": "markdown",
   "metadata": {
    "collapsed": false,
    "jupyter": {
     "outputs_hidden": false
    }
   },
   "source": [
    "## 1- Instantiate a Building"
   ]
  },
  {
   "cell_type": "markdown",
   "metadata": {
    "collapsed": false,
    "jupyter": {
     "outputs_hidden": false
    }
   },
   "source": [
    "Let's load an example idf file that model a 2 storey and 4 apartments building:\n",
    "\n",
    "|             Figure 1: Building model perspective              |                 Figure 2: Building first floor                  |\n",
    "|:-------------------------------------------------------------:|:---------------------------------------------------------------:|\n",
    "| <img height=\"300\" src=\"resources/building_tuto_3d_pers.png\"/> | <img src=\"resources/building_tuto_1st_floor.png\"  height=\"300\"> |"
   ]
  },
  {
   "cell_type": "code",
   "execution_count": null,
   "metadata": {},
   "outputs": [],
   "source": [
    "from energytool.building import Building\n",
    "\n",
    "Building.set_idd(Path(r\"C:\\EnergyPlusV9-4-0\"))"
   ]
  },
  {
   "cell_type": "code",
   "execution_count": null,
   "metadata": {},
   "outputs": [],
   "source": [
    "building = Building(idf_path=Path(TUTORIAL_DIR) / \"resources/tuto_building.idf\")"
   ]
  },
  {
   "cell_type": "markdown",
   "metadata": {
    "collapsed": false,
    "jupyter": {
     "outputs_hidden": false
    }
   },
   "source": [
    "<code>Building</code> have a <code>__repr__</code> method that displays basics information on the model"
   ]
  },
  {
   "cell_type": "code",
   "execution_count": null,
   "metadata": {},
   "outputs": [],
   "source": [
    "building"
   ]
  },
  {
   "cell_type": "markdown",
   "metadata": {
    "collapsed": false,
    "jupyter": {
     "outputs_hidden": false
    }
   },
   "source": [
    "Building surface, zone number, etc. are calculated from the imported idf file.\n",
    "So far the system dict is empty.\n",
    "\n",
    "However, it doesn't mean that no HVAC system are  modeled in the idf file.\n",
    " - Heating and ventilation are modeled using IdealLoadsAirSystem\n",
    " - Artificial Lighting is defined with the object Lights\n",
    "\n",
    "__*The <code>Building</code> class allows you to add \"Systems\" that will edit a part of the  idf file and/or select and apply a post treatment to the simulation results. It cannot replace proper idf HVAC configuration. The use of IdealLoadsAirSystem is recommended.*__\n"
   ]
  },
  {
   "cell_type": "markdown",
   "metadata": {
    "collapsed": false,
    "jupyter": {
     "outputs_hidden": false
    }
   },
   "source": [
    "## 2- Add systems"
   ]
  },
  {
   "cell_type": "markdown",
   "metadata": {
    "collapsed": false,
    "jupyter": {
     "outputs_hidden": false
    }
   },
   "source": [
    "In energytool, a system is a class that modify an idf file or post process results.\n",
    "The module <code>energytool.system</code> holds several examples of system class.\n",
    "Custom class can be written, they must inherit from <code>energytool.system.System</code> base class:\n",
    "\n",
    "- Every system have a <code>pre-process()</code> and a <code>post-process()</code> methods\n",
    "- The other attributes depends on the system (COP, list of zone names, etc.)\n",
    "\n"
   ]
  },
  {
   "cell_type": "markdown",
   "metadata": {
    "collapsed": false,
    "jupyter": {
     "outputs_hidden": false
    }
   },
   "source": [
    "In the following lines we add most of the systems present in <code>energytool.system</code> module.\n",
    " For more information on the effects of each system on the simulation, see the <code>energytool.system</code> documentation."
   ]
  },
  {
   "cell_type": "code",
   "execution_count": null,
   "metadata": {},
   "outputs": [],
   "source": [
    "from energytool.system import (\n",
    "    HeaterSimple,\n",
    "    HeatingAuxiliary,\n",
    "    AirHandlingUnit,\n",
    "    AHUControl,\n",
    "    DHWIdealExternal,\n",
    "    ArtificialLighting,\n",
    ")"
   ]
  },
  {
   "cell_type": "code",
   "execution_count": null,
   "metadata": {},
   "outputs": [],
   "source": [
    "# Simulate a boiler, multiplying the heat needs by a constant COP\n",
    "building.add_system(HeaterSimple(name=\"Gaz_boiler\", cop=0.89))\n",
    "\n",
    "# Estimate circulation pumps energy consumption multiplying the heat needs by a constant (default 0.05)\n",
    "building.add_system(HeatingAuxiliary(name=\"Heater_aux\"))\n",
    "\n",
    "# Simulate fan consumption multiplying extracted air volume by a constant coefficient\n",
    "# Do not have a heat exchanger\n",
    "building.add_system(\n",
    "    AirHandlingUnit(\n",
    "        name=\"Extraction_fan\",\n",
    "        fan_energy_coefficient=0.23,\n",
    "        heat_recovery_efficiency=False,\n",
    "    )\n",
    ")\n",
    "\n",
    "# Simulate clock regulation\n",
    "# Ventilation works according to specified schedule\n",
    "#  is defined in the energytool/resources/resources_idf.idf file\n",
    "building.add_system(\n",
    "    AHUControl(\n",
    "        name=\"Hygro_intakes\",\n",
    "        control_strategy=\"Schedule\",\n",
    "        schedule_name=\"OFF_09h_18h_ON_18h_24h_ON_WE_FULL_YEAR\",\n",
    "    )\n",
    ")\n",
    "\n",
    "# Estimate Domestic Hot Water production energy needs\n",
    "# Use the number of people defined in the idf file to estimate the total volume.\n",
    "# Otherwise, energy calculation is independent of energyplus\n",
    "building.add_system(\n",
    "    DHWIdealExternal(\n",
    "        name=\"Electric_accumulation\",\n",
    "        cop=0.85,\n",
    "    )\n",
    ")\n",
    "\n",
    "# Estimate Lighting consumption using a constant power ratio.\n",
    "# Modify the existing energyplus object\n",
    "building.add_system(ArtificialLighting(name=\"Random_lights\", power_ratio=4))"
   ]
  },
  {
   "cell_type": "markdown",
   "metadata": {},
   "source": [
    "Building <code>__repr__</code> method can again be called"
   ]
  },
  {
   "cell_type": "code",
   "execution_count": null,
   "metadata": {},
   "outputs": [],
   "source": [
    "building"
   ]
  },
  {
   "cell_type": "markdown",
   "metadata": {
    "collapsed": false,
    "jupyter": {
     "outputs_hidden": false
    }
   },
   "source": [
    "## 4. Building simulation"
   ]
  },
  {
   "cell_type": "markdown",
   "metadata": {
    "collapsed": false,
    "jupyter": {
     "outputs_hidden": false
    }
   },
   "source": [
    "### 4.1 Running the first simulation"
   ]
  },
  {
   "cell_type": "code",
   "execution_count": null,
   "metadata": {},
   "outputs": [],
   "source": [
    "import datetime as dt\n",
    "from energytool.building import SimuOpt"
   ]
  },
  {
   "cell_type": "markdown",
   "metadata": {
    "collapsed": false,
    "jupyter": {
     "outputs_hidden": false
    }
   },
   "source": [
    "Energyplus doesn't care about the year. But it can be useful if you are calibrating a simulation, or if you need the right day of week (monda, tuesday, etc.). That's why the notion of \"year\" have been added to energytool. If you don't need it, you can leave <code>start</code> and <code>stop</code> to default. It will run the simulation for a full year.\n",
    "\n",
    "Allowed simulation options are defined in <code>energytooL.building.SimuOpt</code> Enum. You can use its values."
   ]
  },
  {
   "cell_type": "code",
   "execution_count": null,
   "metadata": {},
   "outputs": [],
   "source": [
    "print([key.value for key in SimuOpt])"
   ]
  },
  {
   "cell_type": "code",
   "execution_count": null,
   "metadata": {},
   "outputs": [],
   "source": [
    "res = building.simulate(\n",
    "    parameter_dict=None,\n",
    "    simulation_options={\n",
    "        \"epw_file\": Path(TUTORIAL_DIR) / \"resources/FRA_Bordeaux.075100_IWEC.epw\",\n",
    "        \"start\": \"2025-01-01\",\n",
    "        \"stop\": \"2025-12-31\",\n",
    "        \"timestep\": 15 * 60,  # seconds\n",
    "        \"outputs\": \"SYSTEM\",  # See values in energytool.outputs.OutputCategories\n",
    "    },\n",
    ")"
   ]
  },
  {
   "cell_type": "markdown",
   "metadata": {},
   "source": [
    "The output of the simulation is a DtaFrame. The <code>\"outputs\"</code> key in <code>simulation_options</code> defines what kind of result you need.\n",
    "Lets plot the results in a pretty way:"
   ]
  },
  {
   "cell_type": "code",
   "execution_count": null,
   "metadata": {},
   "outputs": [],
   "source": [
    "res[[col for col in res if col != \"TOTAL_SYSTEM_Energy_[J]\"]].sum().plot(kind=\"pie\")"
   ]
  },
  {
   "cell_type": "markdown",
   "metadata": {},
   "source": [
    "### 4.1 Modifying parameters"
   ]
  },
  {
   "cell_type": "markdown",
   "metadata": {},
   "source": [
    "\n",
    "The main purpose of energytool is to be able to easily specify new values for parameters, wether it concerns idf properties, or energytool systems attributes.\n",
    "To do so, A dictionary of parameter values can be passed to <code>simulate</code> method.\n",
    "- The parameters names must be the \"path\" to the value.\n",
    " - For idf related objects, parameter name shall start with **idf**, for system attribute, it must start with **system**.\n",
    "  - <code>epw_file</code> key, can be used in both parameters dictionary and simulation options. In some case, there is an interest to see climate as a parameter and not a boundary condition. An error will be raised if specified in both simulation options and parameters dictionary.  \n"
   ]
  },
  {
   "cell_type": "code",
   "execution_count": null,
   "metadata": {},
   "outputs": [],
   "source": [
    "res_2 = building.simulate(\n",
    "    parameter_dict={\n",
    "        \"idf.material.Urea Formaldehyde Foam_.1327.Conductivity\": 0.05,\n",
    "        \"system.heating.Gaz_boiler.cop\": 0.5,\n",
    "    },\n",
    "    simulation_options={\n",
    "        \"epw_file\": Path(TUTORIAL_DIR) / \"resources/FRA_Bordeaux.075100_IWEC.epw\",\n",
    "        \"start\": \"2025-01-01\",\n",
    "        \"stop\": \"2025-12-31\",\n",
    "        \"timestep\": 15 * 60,  # seconds\n",
    "        \"outputs\": \"SYSTEM\",  # See values in energytool.outputs.OutputCategories\n",
    "    },\n",
    ")"
   ]
  },
  {
   "cell_type": "code",
   "execution_count": null,
   "metadata": {},
   "outputs": [],
   "source": [
    "res_2[[col for col in res_2 if col != \"TOTAL_SYSTEM_Energy_[J]\"]].sum().plot(kind=\"pie\")"
   ]
  }
 ],
 "metadata": {
  "kernelspec": {
   "display_name": "Python 3 (ipykernel)",
   "language": "python",
   "name": "python3"
  },
  "language_info": {
   "codemirror_mode": {
    "name": "ipython",
    "version": 3
   },
   "file_extension": ".py",
   "mimetype": "text/x-python",
   "name": "python",
   "nbconvert_exporter": "python",
   "pygments_lexer": "ipython3",
   "version": "3.10.13"
  }
 },
 "nbformat": 4,
 "nbformat_minor": 4
}
