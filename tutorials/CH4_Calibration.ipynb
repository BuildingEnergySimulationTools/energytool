{
 "cells": [
  {
   "cell_type": "code",
   "execution_count": null,
   "metadata": {},
   "outputs": [],
   "source": [
    "import os\n",
    "from pathlib import Path\n",
    "\n",
    "TUTORIAL_DIR = Path(os.getcwd()).as_posix()"
   ]
  },
  {
   "cell_type": "markdown",
   "metadata": {
    "collapsed": false
   },
   "source": [
    "# Building calibration"
   ]
  },
  {
   "cell_type": "markdown",
   "metadata": {
    "collapsed": false
   },
   "source": [
    "Building simulation are useful for comparing variants during a building design phase. Simulation results are compared in order to select the best building materials or HVAC system regarding various indicators (energy consumption, thermal comfort, etc.)\n",
    "\n",
    "But when we compare the simulation outputs to measured values big differences are usually observed. There are a lots of explanations to this gap. But usually, \"errors\" can be classified in 3 categories:\n",
    "- **Boundary conditions** : meteo file used in simulation (external temperature, solar radiation, wind, etc), strongly differs from actual meteo.\n",
    "- **Hypothesis** parameter values or schedules are different from what we estimated. Deteriorated Insulation material, inefficient HVAC system, high temperature set point, etc.\n",
    "- **Models** a poor choice of physical model or ignored physical phenomenon (natural ventilation, thermal zone separation, etc.)\n",
    "\n",
    "In a building calibration process, the objective is to"
   ]
  },
  {
   "cell_type": "code",
   "execution_count": null,
   "metadata": {},
   "outputs": [],
   "source": []
  }
 ],
 "metadata": {
  "kernelspec": {
   "display_name": "Python 3",
   "language": "python",
   "name": "python3"
  },
  "language_info": {
   "codemirror_mode": {
    "name": "ipython",
    "version": 2
   },
   "file_extension": ".py",
   "mimetype": "text/x-python",
   "name": "python",
   "nbconvert_exporter": "python",
   "pygments_lexer": "ipython2",
   "version": "2.7.6"
  }
 },
 "nbformat": 4,
 "nbformat_minor": 0
}
