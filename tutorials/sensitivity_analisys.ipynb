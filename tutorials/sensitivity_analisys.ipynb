{
 "cells": [
  {
   "cell_type": "code",
   "execution_count": 4,
   "metadata": {
    "collapsed": true
   },
   "outputs": [],
   "source": [
    "import os\n",
    "from pathlib import Path\n",
    "TUTORIAL_DIR = Path(os.getcwd()).as_posix()"
   ]
  },
  {
   "cell_type": "markdown",
   "source": [
    "# Building Sensitivity Analisys"
   ],
   "metadata": {
    "collapsed": false,
    "pycharm": {
     "name": "#%% md\n"
    }
   }
  },
  {
   "cell_type": "markdown",
   "source": [
    "\n",
    "The aim of this tutorial is to provide a complete workflow for building thermal simulation sensitivity analysis using\n",
    "[__EnergyPlus__](https://energyplus.net) and __energytoot__"
   ],
   "metadata": {
    "collapsed": false,
    "pycharm": {
     "name": "#%% md\n"
    }
   }
  },
  {
   "cell_type": "markdown",
   "source": [
    "## Introduction"
   ],
   "metadata": {
    "collapsed": false
   }
  },
  {
   "cell_type": "markdown",
   "source": [
    "Sensitivity Analysis methods are mathematical method that quantify the impact of and uncertain parameters on a specific metrics.\n",
    "Various methods exists such as Morris or Sobol.\n",
    "\n",
    "During building conception workflow, sensitivity analysis can have various benefits:\n",
    "- Screen out a number of irrelevant conception variables to focus on the important ones (does the solar absorption of the partition glass-wool have a relevant impact on building heat needs ?)\n",
    "- Sort  relevant uncertain parameter by influence on the observed metrics.\n",
    "- Help you quantify the relative importance of the modeled physical phenomenons\n",
    "\n",
    "In this example, the use case is an old building retrofitting. The objective is to insulate the south facade using double skin.\n",
    "The designer wants to know the impact of the following variables on the building **heat needs** and on the **thermal comfort**:\n",
    "- Double skin glazing thermal properties : Solar Heat Gain Coefficient (SHGC), thermal conductivity coefficient ($U_{value}$)\n",
    "- Envelope glazing thermal properties : Solar Heat Gain Coefficient (SHGC), thermal conductivity coefficient ($U_{value}$)\n",
    "- Envelope insulation thickness\n",
    "- Air infiltration soefficient Q4Pa [m^3/h.m² @4Pa]\n",
    "\n",
    "To answer these questions we will use an EnergyPlus building model and energytool class to perform Morris & Sobol sensitivity analisys"
   ],
   "metadata": {
    "collapsed": false,
    "pycharm": {
     "name": "#%% md\n"
    }
   }
  },
  {
   "cell_type": "markdown",
   "source": [
    "## Building modeling"
   ],
   "metadata": {
    "collapsed": false,
    "pycharm": {
     "name": "#%% md\n"
    }
   }
  },
  {
   "cell_type": "markdown",
   "source": [
    "In energytool, the <code>Building</code> class is used to simulate HVAC systems through pre-process and post process methods.\n",
    "The <code>Building</code> holds and idf file. The user specify hvac system using the <code>system</code> module."
   ],
   "metadata": {
    "collapsed": false,
    "pycharm": {
     "name": "#%% md\n"
    }
   }
  },
  {
   "cell_type": "code",
   "execution_count": 2,
   "outputs": [],
   "source": [
    "from energytool.building import Building"
   ],
   "metadata": {
    "collapsed": false,
    "pycharm": {
     "name": "#%%\n"
    }
   }
  },
  {
   "cell_type": "markdown",
   "source": [
    "The path of the idd file of EnergyPlus must be given to the <code>Building</code> class.\n",
    "Be careful idf file E+ version and idd file version must match"
   ],
   "metadata": {
    "collapsed": false,
    "pycharm": {
     "name": "#%% md\n"
    }
   }
  },
  {
   "cell_type": "code",
   "execution_count": 3,
   "outputs": [],
   "source": [
    "Building.set_idd(Path(r'C:\\EnergyPlusV9-4-0'))"
   ],
   "metadata": {
    "collapsed": false,
    "pycharm": {
     "name": "#%%\n"
    }
   }
  },
  {
   "cell_type": "markdown",
   "source": [
    "Now we instantiate a building with an idf file representing the building thermal model.\n",
    "The idf can be generated manually or using a software (Openstudio, DesignBuilder).\n",
    "Keep in mind that the main advantage of the energytool <code>Building</code> class, is to simplify hvac system modeling using pre-process and post-process methods.\n",
    "Thus, we recommend using <code>IdealLoadAirSystem</code> to model HVAC and Domestic Hot Water production (DHW)."
   ],
   "metadata": {
    "collapsed": false,
    "pycharm": {
     "name": "#%% md\n"
    }
   }
  },
  {
   "cell_type": "code",
   "execution_count": 9,
   "outputs": [],
   "source": [
    "building = Building(idf_path=Path(TUTORIAL_DIR) / \"resources/tuto_as.idf\")"
   ],
   "metadata": {
    "collapsed": false,
    "pycharm": {
     "name": "#%%\n"
    }
   }
  },
  {
   "cell_type": "markdown",
   "source": [
    "The <code>infos()</code> method display information on the building object"
   ],
   "metadata": {
    "collapsed": false,
    "pycharm": {
     "name": "#%% md\n"
    }
   }
  },
  {
   "cell_type": "code",
   "execution_count": 11,
   "outputs": [
    {
     "name": "stdout",
     "output_type": "stream",
     "text": [
      "==Building==\n",
      "\n",
      "Number of occupants : 80.21\n",
      "Building surface : 750.0895999999999 m²\n",
      "Building volume : 2299.8318 m3\n",
      "Zone number : 5\n",
      "\n",
      "==HVAC systems==\n",
      "\n",
      "Heating systems : []\n",
      "Cooling systems : []\n",
      "Ventilation system : []\n",
      "Artificial lighting system : []\n",
      "DHW production : []\n",
      "PV production : []\n",
      "Others : []\n"
     ]
    }
   ],
   "source": [
    "building.infos()"
   ],
   "metadata": {
    "collapsed": false,
    "pycharm": {
     "name": "#%%\n"
    }
   }
  },
  {
   "cell_type": "markdown",
   "source": [
    "Now it is time to specify the building hvac equipments.\n",
    "We will use the one present in the <code>system</code> module.\n",
    "Note that you can use custom class as long as they contain a <code>pre_process()</code> and a <code>post_process()</code> methods\n",
    "\n",
    "In this example, we will only use a boiler with a cop of 1 as we want to work with building heating needs.\n",
    "For more information on building system, see the dedicated tutorial."
   ],
   "metadata": {
    "collapsed": false,
    "pycharm": {
     "name": "#%% md\n"
    }
   }
  },
  {
   "cell_type": "code",
   "execution_count": 17,
   "outputs": [],
   "source": [
    "import energytool.system as st"
   ],
   "metadata": {
    "collapsed": false,
    "pycharm": {
     "name": "#%%\n"
    }
   }
  },
  {
   "cell_type": "code",
   "execution_count": 18,
   "outputs": [],
   "source": [
    "building.heating_system[\"Main_heater\"] = st.HeaterSimple(\n",
    "    name=\"IdealBoiler\",\n",
    "    building=building,\n",
    "    zones='*',\n",
    "    cop=1\n",
    ")"
   ],
   "metadata": {
    "collapsed": false,
    "pycharm": {
     "name": "#%%\n"
    }
   }
  },
  {
   "cell_type": "code",
   "execution_count": 19,
   "outputs": [],
   "source": [
    "from energytool.simulate import Simulation\n",
    "from energytool.simulate import SimulationsRunner"
   ],
   "metadata": {
    "collapsed": false,
    "pycharm": {
     "name": "#%%\n"
    }
   }
  },
  {
   "cell_type": "code",
   "execution_count": 32,
   "outputs": [
    {
     "data": {
      "text/plain": "'C:/Users/bdurandestebe/PycharmProjects/energytool/tutorials'"
     },
     "execution_count": 32,
     "metadata": {},
     "output_type": "execute_result"
    }
   ],
   "source": [
    "TUTORIAL_DIR"
   ],
   "metadata": {
    "collapsed": false,
    "pycharm": {
     "name": "#%%\n"
    }
   }
  },
  {
   "cell_type": "code",
   "execution_count": 33,
   "outputs": [],
   "source": [
    "simu_list = [Simulation(\n",
    "    building=building,\n",
    "    epw_file_path=Path(TUTORIAL_DIR) / r\"resources/FRA_Bordeaux.075100_IWEC.epw\")]"
   ],
   "metadata": {
    "collapsed": false,
    "pycharm": {
     "name": "#%%\n"
    }
   }
  },
  {
   "cell_type": "code",
   "execution_count": 34,
   "outputs": [],
   "source": [
    "runner = SimulationsRunner(simu_list, run_dir=Path(r'C:\\Users\\bdurandestebe\\Desktop\\idf\\run_dev'))"
   ],
   "metadata": {
    "collapsed": false,
    "pycharm": {
     "name": "#%%\n"
    }
   }
  },
  {
   "cell_type": "code",
   "execution_count": 35,
   "outputs": [
    {
     "name": "stdout",
     "output_type": "stream",
     "text": [
      " |████████████████████████████████████████| 100.00% [1/1 00:33<00:00 batch]\r"
     ]
    }
   ],
   "source": [
    "runner.run()"
   ],
   "metadata": {
    "collapsed": false,
    "pycharm": {
     "name": "#%%\n"
    }
   }
  },
  {
   "cell_type": "code",
   "execution_count": 37,
   "outputs": [
    {
     "data": {
      "text/plain": "<AxesSubplot:xlabel='Date/Time'>"
     },
     "execution_count": 37,
     "metadata": {},
     "output_type": "execute_result"
    },
    {
     "data": {
      "text/plain": "<Figure size 432x288 with 1 Axes>",
      "image/png": "[encoded data removed]"
     },
     "metadata": {
      "needs_background": "light"
     },
     "output_type": "display_data"
    }
   ],
   "source": [
    "runner.simu_list[0].building.building_results.plot()"
   ],
   "metadata": {
    "collapsed": false,
    "pycharm": {
     "name": "#%%\n"
    }
   }
  },
  {
   "cell_type": "code",
   "execution_count": null,
   "outputs": [],
   "source": [],
   "metadata": {
    "collapsed": false,
    "pycharm": {
     "name": "#%%\n"
    }
   }
  }
 ],
 "metadata": {
  "kernelspec": {
   "display_name": "Python 3",
   "language": "python",
   "name": "python3"
  },
  "language_info": {
   "codemirror_mode": {
    "name": "ipython",
    "version": 2
   },
   "file_extension": ".py",
   "mimetype": "text/x-python",
   "name": "python",
   "nbconvert_exporter": "python",
   "pygments_lexer": "ipython2",
   "version": "2.7.6"
  }
 },
 "nbformat": 4,
 "nbformat_minor": 0
}