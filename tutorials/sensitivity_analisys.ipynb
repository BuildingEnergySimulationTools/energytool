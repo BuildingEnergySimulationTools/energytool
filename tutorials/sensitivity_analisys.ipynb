{
 "cells": [
  {
   "cell_type": "code",
   "execution_count": 1,
   "metadata": {
    "collapsed": true
   },
   "outputs": [],
   "source": [
    "import os\n",
    "from pathlib import Path\n",
    "TUTORIAL_DIR = Path(os.getcwd()).as_posix()"
   ]
  },
  {
   "cell_type": "markdown",
   "source": [
    "# Building Sensitivity Analisys"
   ],
   "metadata": {
    "collapsed": false,
    "pycharm": {
     "name": "#%% md\n"
    }
   }
  },
  {
   "cell_type": "markdown",
   "source": [
    "\n",
    "The aim of this tutorial is to provide a complete workflow for building thermal simulation sensitivity analysis using\n",
    "[__EnergyPlus__](https://energyplus.net) and __energytoot__"
   ],
   "metadata": {
    "collapsed": false,
    "pycharm": {
     "name": "#%% md\n"
    }
   }
  },
  {
   "cell_type": "markdown",
   "source": [
    "## Introduction"
   ],
   "metadata": {
    "collapsed": false
   }
  },
  {
   "cell_type": "markdown",
   "source": [
    "Sensitivity Analysis methods are mathematical method that quantify the impact of and uncertain parameters on a specific metrics.\n",
    "Various methods exists such as Morris or Sobol.\n",
    "\n",
    "During building conception workflow, sensitivity analysis can have various benefits:\n",
    "- Screen out a number of irrelevant conception variables to focus on the important ones (does the solar absorption of the partition glass-wool have a relevant impact on building heat needs ?)\n",
    "- Sort  relevant uncertain parameter by influence on the observed metrics.\n",
    "- Help you quantify the relative importance of the modeled physical phenomenons\n",
    "\n",
    "In this example, the use case is an old building retrofitting. The objective is to insulate the south facade using double skin.\n",
    "\n",
    "|               Figure 1: Building picture               |            Figure 2: Building thermal model            |\n",
    "|:------------------------------------------------------:|:------------------------------------------------------:|\n",
    "| <img src=\"resources/building_photo.png\"  height=\"300\"> | <img src=\"resources/building_model.png\"  height=\"300\"> |\n",
    "\n",
    "The designer wants to know the impact of the following variables on the building **heat needs** and on the **thermal comfort**:\n",
    "- Double skin glazing thermal properties : Solar Heat Gain Coefficient (SHGC), thermal conductivity coefficient ($U_{value}$)\n",
    "- Envelope glazing thermal properties : Solar Heat Gain Coefficient (SHGC), thermal conductivity coefficient ($U_{value}$)\n",
    "- Envelope insulation thickness\n",
    "- Air infiltration coefficient Q4Pa [m<sup>3</sup>/h.m² @4Pa]\n",
    "\n",
    "\n",
    "\n",
    "To answer these questions we will use an EnergyPlus building model and energytool class to perform Morris & Sobol sensitivity analysis"
   ],
   "metadata": {
    "collapsed": false,
    "pycharm": {
     "name": "#%% md\n"
    }
   }
  },
  {
   "cell_type": "markdown",
   "source": [
    "## Building modeling"
   ],
   "metadata": {
    "collapsed": false,
    "pycharm": {
     "name": "#%% md\n"
    }
   }
  },
  {
   "cell_type": "markdown",
   "source": [
    "In energytool, the <code>Building</code> class is used to simulate HVAC systems through pre-process and post process methods.\n",
    "The <code>Building</code> holds and idf file. The user specify hvac system using the <code>system</code> module."
   ],
   "metadata": {
    "collapsed": false,
    "pycharm": {
     "name": "#%% md\n"
    }
   }
  },
  {
   "cell_type": "code",
   "execution_count": 2,
   "outputs": [],
   "source": [
    "from energytool.building import Building"
   ],
   "metadata": {
    "collapsed": false,
    "pycharm": {
     "name": "#%%\n"
    }
   }
  },
  {
   "cell_type": "markdown",
   "source": [
    "The path of the idd file of EnergyPlus must be given to the <code>Building</code> class.\n",
    "Be careful idf file E+ version and idd file version must match"
   ],
   "metadata": {
    "collapsed": false,
    "pycharm": {
     "name": "#%% md\n"
    }
   }
  },
  {
   "cell_type": "code",
   "execution_count": 3,
   "outputs": [],
   "source": [
    "Building.set_idd(Path(r'C:\\EnergyPlusV9-4-0'))"
   ],
   "metadata": {
    "collapsed": false,
    "pycharm": {
     "name": "#%%\n"
    }
   }
  },
  {
   "cell_type": "markdown",
   "source": [
    "Now we instantiate a building with an idf file representing the building thermal model.\n",
    "The idf can be generated manually or using a software (Openstudio, DesignBuilder).\n",
    "Keep in mind that the main advantage of the energytool <code>Building</code> class, is to simplify hvac system modeling using pre-process and post-process methods.\n",
    "Thus, we recommend using <code>IdealLoadAirSystem</code> to model HVAC and Domestic Hot Water production (DHW)."
   ],
   "metadata": {
    "collapsed": false,
    "pycharm": {
     "name": "#%% md\n"
    }
   }
  },
  {
   "cell_type": "code",
   "execution_count": 4,
   "outputs": [],
   "source": [
    "building = Building(idf_path=Path(TUTORIAL_DIR) / \"resources/tuto_as.idf\")"
   ],
   "metadata": {
    "collapsed": false,
    "pycharm": {
     "name": "#%%\n"
    }
   }
  },
  {
   "cell_type": "markdown",
   "source": [
    "The <code>infos()</code> method display information on the building object"
   ],
   "metadata": {
    "collapsed": false,
    "pycharm": {
     "name": "#%% md\n"
    }
   }
  },
  {
   "cell_type": "code",
   "execution_count": 5,
   "outputs": [
    {
     "name": "stdout",
     "output_type": "stream",
     "text": [
      "==Building==\n",
      "\n",
      "Number of occupants : 80.21\n",
      "Building surface : 750.0895999999999 m²\n",
      "Building volume : 2299.8318 m3\n",
      "Zone number : 5\n",
      "\n",
      "==HVAC systems==\n",
      "\n",
      "Heating systems : []\n",
      "Cooling systems : []\n",
      "Ventilation system : []\n",
      "Artificial lighting system : []\n",
      "DHW production : []\n",
      "PV production : []\n",
      "Others : []\n"
     ]
    }
   ],
   "source": [
    "building.infos()"
   ],
   "metadata": {
    "collapsed": false,
    "pycharm": {
     "name": "#%%\n"
    }
   }
  },
  {
   "cell_type": "markdown",
   "source": [
    "It is time to specify the building hvac equipments.\n",
    "Let's use the one present in the <code>system</code> module.\n",
    "Note that you can use custom class as long as they contain a <code>pre_process()</code> and a <code>post_process()</code> methods\n",
    "\n",
    "In this example, we will only use a boiler with a cop of 1 as we want to work with building heating needs.\n",
    "For more information on building system, see the dedicated tutorial."
   ],
   "metadata": {
    "collapsed": false,
    "pycharm": {
     "name": "#%% md\n"
    }
   }
  },
  {
   "cell_type": "code",
   "execution_count": 6,
   "outputs": [],
   "source": [
    "import energytool.system as st"
   ],
   "metadata": {
    "collapsed": false,
    "pycharm": {
     "name": "#%%\n"
    }
   }
  },
  {
   "cell_type": "code",
   "execution_count": 7,
   "outputs": [],
   "source": [
    "building.heating_system[\"Main_heater\"] = st.HeaterSimple(\n",
    "    name=\"IdealBoiler\",\n",
    "    building=building,\n",
    "    zones='*',\n",
    "    cop=1\n",
    ")"
   ],
   "metadata": {
    "collapsed": false,
    "pycharm": {
     "name": "#%%\n"
    }
   }
  },
  {
   "cell_type": "markdown",
   "source": [
    "We specify the parameters we are uncertain about using the class <code>UncertainParameter</code> from the <code>energytool.parameter</code> module."
   ],
   "metadata": {
    "collapsed": false,
    "pycharm": {
     "name": "#%% md\n"
    }
   }
  },
  {
   "cell_type": "code",
   "execution_count": 8,
   "outputs": [],
   "source": [
    "from energytool.parameter import UncertainParameter"
   ],
   "metadata": {
    "collapsed": false,
    "pycharm": {
     "name": "#%%\n"
    }
   }
  },
  {
   "cell_type": "markdown",
   "source": [
    "A <code>list</code> of <code>UncertainParameter</code> is created.\n",
    "The code below details the configuration for the first object. It corresponds to the SHGC of the external windows.\n",
    "We specify a relative uncertainty of +- 10% of the idf value:\n",
    "\n",
    "<pre><code>\n",
    "UncertainParameter(\n",
    "    name=\"SHGC_ext_windows\",\n",
    "    absolute=False,\n",
    "    bounds=[0.9, 1.1],\n",
    "    building=building,\n",
    "    idf_parameters=[dict(\n",
    "        idf_object=\"WindowMaterial:SimpleGlazingSystem\",\n",
    "        names='Simple DSF_ext_south_glazing - 1002',\n",
    "        field='Solar_Heat_Gain_Coefficient',\n",
    "    )]\n",
    "</code></pre>\n",
    "\n",
    "- <code>absolute</code>: if set to <code>True</code> the <code>bounds</code> holds the true values of the parameter. If set to <code>False</code> specify relative <code>bounds</code>. The nominal value is the one set in the idf.\n",
    "- <code>bounds</code>: the minimum and maximum value of the uncertain parameter.\n",
    "- <code>idf_parameters</code>: a python the <code>dict</code> with the following keys:\n",
    "    - <code>idf_object</code> idf object category\n",
    "    - <code>names</code> a specific idf object name. a list of idf objects names. Default '*' indicates it applies to all specified <code>idf_object</code>\n",
    "    - <code>field</code> uncertain numerical field\n"
   ],
   "metadata": {
    "collapsed": false,
    "pycharm": {
     "name": "#%% md\n"
    }
   }
  },
  {
   "cell_type": "code",
   "execution_count": 9,
   "outputs": [],
   "source": [
    "uncertain_param_list = [\n",
    "    UncertainParameter(\n",
    "        name=\"SHGC_ext_windows\",\n",
    "        absolute=False,\n",
    "        bounds=[0.9, 1.1],\n",
    "        building=building,\n",
    "        idf_parameters=[dict(\n",
    "            idf_object=\"WindowMaterial:SimpleGlazingSystem\",\n",
    "            names='Simple DSF_ext_south_glazing - 1002',\n",
    "            field='Solar_Heat_Gain_Coefficient',\n",
    "        )]\n",
    "    ),\n",
    "    UncertainParameter(\n",
    "        name=\"UFactor_ext_windows\",\n",
    "        absolute=False,\n",
    "        bounds=[0.9, 1.1],\n",
    "        building=building,\n",
    "        idf_parameters=[dict(\n",
    "            idf_object=\"WindowMaterial:SimpleGlazingSystem\",\n",
    "            names='Simple DSF_ext_south_glazing - 1002',\n",
    "            field='UFactor',\n",
    "        )]\n",
    "    ),\n",
    "    UncertainParameter(\n",
    "        name=\"SHGC_int_windows\",\n",
    "        absolute=False,\n",
    "        bounds=[0.9, 1.1],\n",
    "        building=building,\n",
    "        idf_parameters=[dict(\n",
    "            idf_object=\"WindowMaterial:SimpleGlazingSystem\",\n",
    "            names='Simple DSF_int_south_glazing - 1001',\n",
    "            field='Solar_Heat_Gain_Coefficient',\n",
    "        )]\n",
    "    ),\n",
    "    UncertainParameter(\n",
    "        name=\"UFactor_int_windows\",\n",
    "        absolute=False,\n",
    "        bounds=[0.9, 1.1],\n",
    "        building=building,\n",
    "        idf_parameters=[dict(\n",
    "            idf_object=\"WindowMaterial:SimpleGlazingSystem\",\n",
    "            names='Simple DSF_int_south_glazing - 1001',\n",
    "            field='UFactor',\n",
    "        )]\n",
    "    ),\n",
    "    UncertainParameter(\n",
    "        name=\"Wall_insulation_thickness\",\n",
    "        absolute=False,\n",
    "        bounds=[0.9, 1.1],\n",
    "        building=building,\n",
    "        idf_parameters=[dict(\n",
    "            idf_object=\"Material\",\n",
    "            names='Wall_insulation_.1',\n",
    "            field='Thickness',\n",
    "        )]\n",
    "    ),\n",
    "    UncertainParameter(\n",
    "        name=\"Cracks\",\n",
    "        absolute=False,\n",
    "        bounds=[0.9, 1.1],\n",
    "        building=building,\n",
    "        idf_parameters=[dict(\n",
    "            idf_object=\"AirflowNetwork:MultiZone:Surface:Crack\",\n",
    "            names='*',\n",
    "            field='Air_Mass_Flow_Coefficient_at_Reference_Conditions',\n",
    "        )]\n",
    "    ),\n",
    "]"
   ],
   "metadata": {
    "collapsed": false,
    "pycharm": {
     "name": "#%%\n"
    }
   }
  },
  {
   "cell_type": "markdown",
   "source": [
    "Import the sensitivity analysis class <code>SAnalysis</code>\n",
    "As a minimal configuration, it requires the <code>Building</code> instance, en sensitivity analysis method and the previously defined list of uncertain parameter."
   ],
   "metadata": {
    "collapsed": false,
    "pycharm": {
     "name": "#%% md\n"
    }
   }
  },
  {
   "cell_type": "code",
   "execution_count": 25,
   "outputs": [],
   "source": [
    "from energytool.sensitivity import SAnalysis"
   ],
   "metadata": {
    "collapsed": false,
    "pycharm": {
     "name": "#%%\n"
    }
   }
  },
  {
   "cell_type": "markdown",
   "source": [
    "## Morris method\n",
    "To screen out parameters or to have a first estimation of the uncertain parameters rank without running too many simulation, it is often a good idea to us the Morris method."
   ],
   "metadata": {
    "collapsed": false,
    "pycharm": {
     "name": "#%% md\n"
    }
   }
  },
  {
   "cell_type": "code",
   "execution_count": 11,
   "outputs": [],
   "source": [
    "sa_analysis = SAnalysis(\n",
    "    building=building,\n",
    "    sensitivity_method=\"Morris\",\n",
    "    parameters=uncertain_param_list,\n",
    ")"
   ],
   "metadata": {
    "collapsed": false,
    "pycharm": {
     "name": "#%%\n"
    }
   }
  },
  {
   "cell_type": "markdown",
   "source": [
    "The <code>draw_sample</code> method of <code>SAnalysis</code> draws parameters values according to the <code>parameters</code> list. The sampling method depends on the <code>sensitivity_method</code>. For Morris a One At a Time method is used (OAT). See [SALib documentation](https://salib.readthedocs.io/en/latest/index.html) for more information\n",
    "\n",
    "The number of trajectories is set to 15."
   ],
   "metadata": {
    "collapsed": false,
    "pycharm": {
     "name": "#%% md\n"
    }
   }
  },
  {
   "cell_type": "code",
   "execution_count": 13,
   "outputs": [],
   "source": [
    "sa_analysis.draw_sample(n=15)"
   ],
   "metadata": {
    "collapsed": false,
    "pycharm": {
     "name": "#%%\n"
    }
   }
  },
  {
   "cell_type": "markdown",
   "source": [
    "Sampling results are stored in <code>sample</code>. Columns corresponds to parameters.\n",
    "Index lines corresponds to a configuration (combination of parameters values)"
   ],
   "metadata": {
    "collapsed": false,
    "pycharm": {
     "name": "#%% md\n"
    }
   }
  },
  {
   "cell_type": "code",
   "execution_count": 15,
   "outputs": [
    {
     "data": {
      "text/plain": "array([[0.96666667, 1.03333333, 0.9       , 0.96666667, 0.9       ,\n        0.96666667],\n       [0.96666667, 1.03333333, 0.9       , 1.1       , 0.9       ,\n        0.96666667],\n       [1.1       , 1.03333333, 0.9       , 1.1       , 0.9       ,\n        0.96666667],\n       [1.1       , 1.03333333, 0.9       , 1.1       , 1.03333333,\n        0.96666667],\n       [1.1       , 1.03333333, 1.03333333, 1.1       , 1.03333333,\n        0.96666667],\n       [1.1       , 1.03333333, 1.03333333, 1.1       , 1.03333333,\n        1.1       ],\n       [1.1       , 0.9       , 1.03333333, 1.1       , 1.03333333,\n        1.1       ],\n       [1.1       , 0.9       , 1.03333333, 1.03333333, 0.96666667,\n        1.03333333],\n       [1.1       , 1.03333333, 1.03333333, 1.03333333, 0.96666667,\n        1.03333333],\n       [0.96666667, 1.03333333, 1.03333333, 1.03333333, 0.96666667,\n        1.03333333],\n       [0.96666667, 1.03333333, 1.03333333, 0.9       , 0.96666667,\n        1.03333333],\n       [0.96666667, 1.03333333, 1.03333333, 0.9       , 1.1       ,\n        1.03333333],\n       [0.96666667, 1.03333333, 0.9       , 0.9       , 1.1       ,\n        1.03333333],\n       [0.96666667, 1.03333333, 0.9       , 0.9       , 1.1       ,\n        0.9       ],\n       [1.1       , 1.1       , 1.1       , 0.96666667, 0.96666667,\n        1.1       ],\n       [1.1       , 0.96666667, 1.1       , 0.96666667, 0.96666667,\n        1.1       ],\n       [1.1       , 0.96666667, 1.1       , 0.96666667, 1.1       ,\n        1.1       ],\n       [1.1       , 0.96666667, 1.1       , 0.96666667, 1.1       ,\n        0.96666667],\n       [1.1       , 0.96666667, 1.1       , 1.1       , 1.1       ,\n        0.96666667],\n       [0.96666667, 0.96666667, 1.1       , 1.1       , 1.1       ,\n        0.96666667],\n       [0.96666667, 0.96666667, 0.96666667, 1.1       , 1.1       ,\n        0.96666667],\n       [1.1       , 0.9       , 1.1       , 0.9       , 0.96666667,\n        1.03333333],\n       [1.1       , 0.9       , 0.96666667, 0.9       , 0.96666667,\n        1.03333333],\n       [1.1       , 0.9       , 0.96666667, 1.03333333, 0.96666667,\n        1.03333333],\n       [1.1       , 0.9       , 0.96666667, 1.03333333, 0.96666667,\n        0.9       ],\n       [0.96666667, 0.9       , 0.96666667, 1.03333333, 0.96666667,\n        0.9       ],\n       [0.96666667, 0.9       , 0.96666667, 1.03333333, 1.1       ,\n        0.9       ],\n       [0.96666667, 1.03333333, 0.96666667, 1.03333333, 1.1       ,\n        0.9       ],\n       [0.9       , 0.96666667, 0.9       , 1.1       , 1.1       ,\n        1.03333333],\n       [1.03333333, 0.96666667, 0.9       , 1.1       , 1.1       ,\n        1.03333333],\n       [1.03333333, 0.96666667, 1.03333333, 1.1       , 1.1       ,\n        1.03333333],\n       [1.03333333, 0.96666667, 1.03333333, 0.96666667, 1.1       ,\n        1.03333333],\n       [1.03333333, 0.96666667, 1.03333333, 0.96666667, 1.1       ,\n        0.9       ],\n       [1.03333333, 1.1       , 1.03333333, 0.96666667, 1.1       ,\n        0.9       ],\n       [1.03333333, 1.1       , 1.03333333, 0.96666667, 0.96666667,\n        0.9       ],\n       [1.03333333, 1.03333333, 1.1       , 0.9       , 0.9       ,\n        1.03333333],\n       [1.03333333, 0.9       , 1.1       , 0.9       , 0.9       ,\n        1.03333333],\n       [1.03333333, 0.9       , 1.1       , 0.9       , 0.9       ,\n        0.9       ],\n       [0.9       , 0.9       , 1.1       , 0.9       , 0.9       ,\n        0.9       ],\n       [0.9       , 0.9       , 1.1       , 0.9       , 1.03333333,\n        0.9       ],\n       [0.9       , 0.9       , 1.1       , 1.03333333, 1.03333333,\n        0.9       ],\n       [0.9       , 0.9       , 0.96666667, 1.03333333, 1.03333333,\n        0.9       ],\n       [0.96666667, 0.96666667, 0.96666667, 0.9       , 0.9       ,\n        0.96666667],\n       [0.96666667, 0.96666667, 0.96666667, 1.03333333, 0.9       ,\n        0.96666667],\n       [1.1       , 0.96666667, 0.96666667, 1.03333333, 0.9       ,\n        0.96666667],\n       [1.1       , 0.96666667, 1.1       , 1.03333333, 0.9       ,\n        0.96666667],\n       [1.1       , 0.96666667, 1.1       , 1.03333333, 1.03333333,\n        0.96666667],\n       [1.1       , 0.96666667, 1.1       , 1.03333333, 1.03333333,\n        1.1       ],\n       [1.1       , 1.1       , 1.1       , 1.03333333, 1.03333333,\n        1.1       ],\n       [0.96666667, 1.03333333, 1.1       , 1.03333333, 0.96666667,\n        1.03333333],\n       [0.96666667, 1.03333333, 1.1       , 0.9       , 0.96666667,\n        1.03333333],\n       [0.96666667, 0.9       , 1.1       , 0.9       , 0.96666667,\n        1.03333333],\n       [0.96666667, 0.9       , 0.96666667, 0.9       , 0.96666667,\n        1.03333333],\n       [1.1       , 0.9       , 0.96666667, 0.9       , 0.96666667,\n        1.03333333],\n       [1.1       , 0.9       , 0.96666667, 0.9       , 0.96666667,\n        0.9       ],\n       [1.1       , 0.9       , 0.96666667, 0.9       , 1.1       ,\n        0.9       ],\n       [1.1       , 0.96666667, 1.1       , 1.1       , 0.9       ,\n        1.1       ],\n       [1.1       , 0.96666667, 1.1       , 1.1       , 1.03333333,\n        1.1       ],\n       [1.1       , 0.96666667, 1.1       , 0.96666667, 1.03333333,\n        1.1       ],\n       [0.96666667, 0.96666667, 1.1       , 0.96666667, 1.03333333,\n        1.1       ],\n       [0.96666667, 1.1       , 1.1       , 0.96666667, 1.03333333,\n        1.1       ],\n       [0.96666667, 1.1       , 0.96666667, 0.96666667, 1.03333333,\n        1.1       ],\n       [0.96666667, 1.1       , 0.96666667, 0.96666667, 1.03333333,\n        0.96666667],\n       [1.03333333, 1.03333333, 1.1       , 1.1       , 1.1       ,\n        0.96666667],\n       [1.03333333, 1.03333333, 1.1       , 1.1       , 1.1       ,\n        1.1       ],\n       [1.03333333, 1.03333333, 1.1       , 0.96666667, 1.1       ,\n        1.1       ],\n       [0.9       , 1.03333333, 1.1       , 0.96666667, 1.1       ,\n        1.1       ],\n       [0.9       , 1.03333333, 0.96666667, 0.96666667, 1.1       ,\n        1.1       ],\n       [0.9       , 1.03333333, 0.96666667, 0.96666667, 0.96666667,\n        1.1       ],\n       [0.9       , 0.9       , 0.96666667, 0.96666667, 0.96666667,\n        1.1       ],\n       [1.1       , 1.1       , 1.03333333, 0.9       , 0.96666667,\n        0.9       ],\n       [0.96666667, 1.1       , 1.03333333, 0.9       , 0.96666667,\n        0.9       ],\n       [0.96666667, 0.96666667, 1.03333333, 0.9       , 0.96666667,\n        0.9       ],\n       [0.96666667, 0.96666667, 0.9       , 0.9       , 0.96666667,\n        0.9       ],\n       [0.96666667, 0.96666667, 0.9       , 0.9       , 0.96666667,\n        1.03333333],\n       [0.96666667, 0.96666667, 0.9       , 1.03333333, 0.96666667,\n        1.03333333],\n       [0.96666667, 0.96666667, 0.9       , 1.03333333, 1.1       ,\n        1.03333333],\n       [0.96666667, 0.9       , 0.9       , 1.03333333, 0.9       ,\n        0.9       ],\n       [0.96666667, 0.9       , 0.9       , 1.03333333, 0.9       ,\n        1.03333333],\n       [0.96666667, 0.9       , 0.9       , 0.9       , 0.9       ,\n        1.03333333],\n       [0.96666667, 0.9       , 0.9       , 0.9       , 1.03333333,\n        1.03333333],\n       [0.96666667, 0.9       , 1.03333333, 0.9       , 1.03333333,\n        1.03333333],\n       [0.96666667, 1.03333333, 1.03333333, 0.9       , 1.03333333,\n        1.03333333],\n       [1.1       , 1.03333333, 1.03333333, 0.9       , 1.03333333,\n        1.03333333],\n       [1.03333333, 1.03333333, 0.9       , 1.1       , 0.9       ,\n        0.9       ],\n       [1.03333333, 0.9       , 0.9       , 1.1       , 0.9       ,\n        0.9       ],\n       [1.03333333, 0.9       , 1.03333333, 1.1       , 0.9       ,\n        0.9       ],\n       [1.03333333, 0.9       , 1.03333333, 1.1       , 1.03333333,\n        0.9       ],\n       [1.03333333, 0.9       , 1.03333333, 1.1       , 1.03333333,\n        1.03333333],\n       [0.9       , 0.9       , 1.03333333, 1.1       , 1.03333333,\n        1.03333333],\n       [0.9       , 0.9       , 1.03333333, 0.96666667, 1.03333333,\n        1.03333333],\n       [0.9       , 1.03333333, 1.03333333, 1.1       , 1.03333333,\n        0.96666667],\n       [0.9       , 1.03333333, 1.03333333, 0.96666667, 1.03333333,\n        0.96666667],\n       [1.03333333, 1.03333333, 1.03333333, 0.96666667, 1.03333333,\n        0.96666667],\n       [1.03333333, 1.03333333, 1.03333333, 0.96666667, 1.03333333,\n        1.1       ],\n       [1.03333333, 1.03333333, 0.9       , 0.96666667, 1.03333333,\n        1.1       ],\n       [1.03333333, 0.9       , 0.9       , 0.96666667, 1.03333333,\n        1.1       ],\n       [1.03333333, 0.9       , 0.9       , 0.96666667, 0.9       ,\n        1.1       ],\n       [0.9       , 0.9       , 0.96666667, 0.9       , 1.1       ,\n        0.9       ],\n       [0.9       , 0.9       , 0.96666667, 0.9       , 1.1       ,\n        1.03333333],\n       [0.9       , 0.9       , 0.96666667, 1.03333333, 1.1       ,\n        1.03333333],\n       [0.9       , 1.03333333, 0.96666667, 1.03333333, 1.1       ,\n        1.03333333],\n       [1.03333333, 1.03333333, 0.96666667, 1.03333333, 1.1       ,\n        1.03333333],\n       [1.03333333, 1.03333333, 1.1       , 1.03333333, 1.1       ,\n        1.03333333],\n       [1.03333333, 1.03333333, 1.1       , 1.03333333, 0.96666667,\n        1.03333333]])"
     },
     "execution_count": 15,
     "metadata": {},
     "output_type": "execute_result"
    }
   ],
   "source": [
    "sa_analysis.sample"
   ],
   "metadata": {
    "collapsed": false,
    "pycharm": {
     "name": "#%%\n"
    }
   }
  },
  {
   "cell_type": "markdown",
   "source": [
    "<code>run_simulations</code> method runs the 105 simulations"
   ],
   "metadata": {
    "collapsed": false,
    "pycharm": {
     "name": "#%% md\n"
    }
   }
  },
  {
   "cell_type": "code",
   "execution_count": 16,
   "outputs": [
    {
     "name": "stdout",
     "output_type": "stream",
     "text": [
      " |████████████████████████████████████████| 100.00% [21/21 37:25<00:00 batch]\r"
     ]
    }
   ],
   "source": [
    "sa_analysis.run_simulations(epw_file_path=Path(TUTORIAL_DIR) / r\"resources/FRA_Bordeaux.075100_IWEC.epw\")"
   ],
   "metadata": {
    "collapsed": false,
    "pycharm": {
     "name": "#%%\n"
    }
   }
  },
  {
   "cell_type": "markdown",
   "source": [
    "<code>analyse</code> method compute sensitivity index depending on the specified <code>sensitivity_method</code> for the specified <code>indicator</code>. By default it will compute sensitivity index for the <code>'Total'</code> hvac energy consumption.\n",
    "\n",
    "Obtain available indicators using the property <code>available_indicators</code>\n"
   ],
   "metadata": {
    "collapsed": false,
    "pycharm": {
     "name": "#%% md\n"
    }
   }
  },
  {
   "cell_type": "code",
   "execution_count": 18,
   "outputs": [
    {
     "data": {
      "text/plain": "['IdealBoiler_Energy', 'Total']"
     },
     "execution_count": 18,
     "metadata": {},
     "output_type": "execute_result"
    }
   ],
   "source": [
    "sa_analysis.available_indicators"
   ],
   "metadata": {
    "collapsed": false,
    "pycharm": {
     "name": "#%%\n"
    }
   }
  },
  {
   "cell_type": "code",
   "execution_count": 19,
   "outputs": [],
   "source": [
    "sa_analysis.analyze(indicator='IdealBoiler_Energy')"
   ],
   "metadata": {
    "collapsed": false,
    "pycharm": {
     "name": "#%%\n"
    }
   }
  },
  {
   "cell_type": "markdown",
   "source": [
    "Sensitivity index results are stored in <code>sensitivity_results</code>.\n",
    "Pre-formatted figure for Morris results is available using <code>plot_morris_scatter</code>"
   ],
   "metadata": {
    "collapsed": false,
    "pycharm": {
     "name": "#%% md\n"
    }
   }
  },
  {
   "cell_type": "code",
   "execution_count": 22,
   "outputs": [],
   "source": [
    "from energytool.sensitivity import plot_morris_scatter"
   ],
   "metadata": {
    "collapsed": false,
    "pycharm": {
     "name": "#%%\n"
    }
   }
  },
  {
   "cell_type": "code",
   "execution_count": 24,
   "outputs": [
    {
     "data": {
      "application/vnd.plotly.v1+json": {
       "data": [
        {
         "error_x": {
          "array": [
           6.579909916728755E7,
           6.232473295951262E7,
           6.360507150508041E7,
           7.77378163055397E7,
           5965111.093849255,
           2.0723962370913494E7
          ],
          "color": "#696969",
          "type": "data",
          "visible": true
         },
         "marker": {
          "color": [
           0,
           1,
           2,
           3,
           4,
           5
          ],
          "size": [
           100.0,
           63.50448659764341,
           52.78270024279602,
           4.674815529104627,
           0.5543854803556174,
           20.031447029988936
          ]
         },
         "mode": "markers+text",
         "name": "Morris index",
         "text": [
          "SHGC_ext_windows",
          "UFactor_ext_windows",
          "SHGC_int_windows",
          "UFactor_int_windows",
          "Wall_insulation_thickness",
          "Cracks"
         ],
         "textposition": "top center",
         "x": [
          6.387860869605392E9,
          4.055259111596129E9,
          3.3706034353396106E9,
          2.651680281699051E8,
          3.3358838117373656E7,
          1.2793191345815575E9
         ],
         "y": [
          1.433587411107504E8,
          1.3779976976242006E8,
          1.141097127923529E8,
          1.3749603616403678E8,
          1.1913293499795806E7,
          3.866080601956169E7
         ],
         "type": "scatter"
        },
        {
         "line": {
          "color": "grey",
          "dash": "dash"
         },
         "mode": "lines",
         "name": "linear_lim",
         "x": [
          0.0,
          7.026646956565932E9
         ],
         "y": [
          0.0,
          7.026646956565932E8
         ],
         "type": "scatter"
        },
        {
         "line": {
          "color": "grey",
          "dash": "dot"
         },
         "mode": "lines",
         "name": "Monotonic limit",
         "x": [
          0.0,
          7.026646956565932E9
         ],
         "y": [
          0.0,
          3.513323478282966E9
         ],
         "type": "scatter"
        },
        {
         "line": {
          "color": "grey",
          "dash": "dashdot"
         },
         "mode": "lines",
         "name": "Non linear limit",
         "x": [
          0.0,
          7.026646956565932E9
         ],
         "y": [
          0.0,
          7.026646956565932E9
         ],
         "type": "scatter"
        }
       ],
       "layout": {
        "template": {
         "data": {
          "histogram2dcontour": [
           {
            "type": "histogram2dcontour",
            "colorbar": {
             "outlinewidth": 0,
             "ticks": ""
            },
            "colorscale": [
             [
              0.0,
              "#0d0887"
             ],
             [
              0.1111111111111111,
              "#46039f"
             ],
             [
              0.2222222222222222,
              "#7201a8"
             ],
             [
              0.3333333333333333,
              "#9c179e"
             ],
             [
              0.4444444444444444,
              "#bd3786"
             ],
             [
              0.5555555555555556,
              "#d8576b"
             ],
             [
              0.6666666666666666,
              "#ed7953"
             ],
             [
              0.7777777777777778,
              "#fb9f3a"
             ],
             [
              0.8888888888888888,
              "#fdca26"
             ],
             [
              1.0,
              "#f0f921"
             ]
            ]
           }
          ],
          "choropleth": [
           {
            "type": "choropleth",
            "colorbar": {
             "outlinewidth": 0,
             "ticks": ""
            }
           }
          ],
          "histogram2d": [
           {
            "type": "histogram2d",
            "colorbar": {
             "outlinewidth": 0,
             "ticks": ""
            },
            "colorscale": [
             [
              0.0,
              "#0d0887"
             ],
             [
              0.1111111111111111,
              "#46039f"
             ],
             [
              0.2222222222222222,
              "#7201a8"
             ],
             [
              0.3333333333333333,
              "#9c179e"
             ],
             [
              0.4444444444444444,
              "#bd3786"
             ],
             [
              0.5555555555555556,
              "#d8576b"
             ],
             [
              0.6666666666666666,
              "#ed7953"
             ],
             [
              0.7777777777777778,
              "#fb9f3a"
             ],
             [
              0.8888888888888888,
              "#fdca26"
             ],
             [
              1.0,
              "#f0f921"
             ]
            ]
           }
          ],
          "heatmap": [
           {
            "type": "heatmap",
            "colorbar": {
             "outlinewidth": 0,
             "ticks": ""
            },
            "colorscale": [
             [
              0.0,
              "#0d0887"
             ],
             [
              0.1111111111111111,
              "#46039f"
             ],
             [
              0.2222222222222222,
              "#7201a8"
             ],
             [
              0.3333333333333333,
              "#9c179e"
             ],
             [
              0.4444444444444444,
              "#bd3786"
             ],
             [
              0.5555555555555556,
              "#d8576b"
             ],
             [
              0.6666666666666666,
              "#ed7953"
             ],
             [
              0.7777777777777778,
              "#fb9f3a"
             ],
             [
              0.8888888888888888,
              "#fdca26"
             ],
             [
              1.0,
              "#f0f921"
             ]
            ]
           }
          ],
          "heatmapgl": [
           {
            "type": "heatmapgl",
            "colorbar": {
             "outlinewidth": 0,
             "ticks": ""
            },
            "colorscale": [
             [
              0.0,
              "#0d0887"
             ],
             [
              0.1111111111111111,
              "#46039f"
             ],
             [
              0.2222222222222222,
              "#7201a8"
             ],
             [
              0.3333333333333333,
              "#9c179e"
             ],
             [
              0.4444444444444444,
              "#bd3786"
             ],
             [
              0.5555555555555556,
              "#d8576b"
             ],
             [
              0.6666666666666666,
              "#ed7953"
             ],
             [
              0.7777777777777778,
              "#fb9f3a"
             ],
             [
              0.8888888888888888,
              "#fdca26"
             ],
             [
              1.0,
              "#f0f921"
             ]
            ]
           }
          ],
          "contourcarpet": [
           {
            "type": "contourcarpet",
            "colorbar": {
             "outlinewidth": 0,
             "ticks": ""
            }
           }
          ],
          "contour": [
           {
            "type": "contour",
            "colorbar": {
             "outlinewidth": 0,
             "ticks": ""
            },
            "colorscale": [
             [
              0.0,
              "#0d0887"
             ],
             [
              0.1111111111111111,
              "#46039f"
             ],
             [
              0.2222222222222222,
              "#7201a8"
             ],
             [
              0.3333333333333333,
              "#9c179e"
             ],
             [
              0.4444444444444444,
              "#bd3786"
             ],
             [
              0.5555555555555556,
              "#d8576b"
             ],
             [
              0.6666666666666666,
              "#ed7953"
             ],
             [
              0.7777777777777778,
              "#fb9f3a"
             ],
             [
              0.8888888888888888,
              "#fdca26"
             ],
             [
              1.0,
              "#f0f921"
             ]
            ]
           }
          ],
          "surface": [
           {
            "type": "surface",
            "colorbar": {
             "outlinewidth": 0,
             "ticks": ""
            },
            "colorscale": [
             [
              0.0,
              "#0d0887"
             ],
             [
              0.1111111111111111,
              "#46039f"
             ],
             [
              0.2222222222222222,
              "#7201a8"
             ],
             [
              0.3333333333333333,
              "#9c179e"
             ],
             [
              0.4444444444444444,
              "#bd3786"
             ],
             [
              0.5555555555555556,
              "#d8576b"
             ],
             [
              0.6666666666666666,
              "#ed7953"
             ],
             [
              0.7777777777777778,
              "#fb9f3a"
             ],
             [
              0.8888888888888888,
              "#fdca26"
             ],
             [
              1.0,
              "#f0f921"
             ]
            ]
           }
          ],
          "mesh3d": [
           {
            "type": "mesh3d",
            "colorbar": {
             "outlinewidth": 0,
             "ticks": ""
            }
           }
          ],
          "scatter": [
           {
            "fillpattern": {
             "fillmode": "overlay",
             "size": 10,
             "solidity": 0.2
            },
            "type": "scatter"
           }
          ],
          "parcoords": [
           {
            "type": "parcoords",
            "line": {
             "colorbar": {
              "outlinewidth": 0,
              "ticks": ""
             }
            }
           }
          ],
          "scatterpolargl": [
           {
            "type": "scatterpolargl",
            "marker": {
             "colorbar": {
              "outlinewidth": 0,
              "ticks": ""
             }
            }
           }
          ],
          "bar": [
           {
            "error_x": {
             "color": "#2a3f5f"
            },
            "error_y": {
             "color": "#2a3f5f"
            },
            "marker": {
             "line": {
              "color": "#E5ECF6",
              "width": 0.5
             },
             "pattern": {
              "fillmode": "overlay",
              "size": 10,
              "solidity": 0.2
             }
            },
            "type": "bar"
           }
          ],
          "scattergeo": [
           {
            "type": "scattergeo",
            "marker": {
             "colorbar": {
              "outlinewidth": 0,
              "ticks": ""
             }
            }
           }
          ],
          "scatterpolar": [
           {
            "type": "scatterpolar",
            "marker": {
             "colorbar": {
              "outlinewidth": 0,
              "ticks": ""
             }
            }
           }
          ],
          "histogram": [
           {
            "marker": {
             "pattern": {
              "fillmode": "overlay",
              "size": 10,
              "solidity": 0.2
             }
            },
            "type": "histogram"
           }
          ],
          "scattergl": [
           {
            "type": "scattergl",
            "marker": {
             "colorbar": {
              "outlinewidth": 0,
              "ticks": ""
             }
            }
           }
          ],
          "scatter3d": [
           {
            "type": "scatter3d",
            "line": {
             "colorbar": {
              "outlinewidth": 0,
              "ticks": ""
             }
            },
            "marker": {
             "colorbar": {
              "outlinewidth": 0,
              "ticks": ""
             }
            }
           }
          ],
          "scattermapbox": [
           {
            "type": "scattermapbox",
            "marker": {
             "colorbar": {
              "outlinewidth": 0,
              "ticks": ""
             }
            }
           }
          ],
          "scatterternary": [
           {
            "type": "scatterternary",
            "marker": {
             "colorbar": {
              "outlinewidth": 0,
              "ticks": ""
             }
            }
           }
          ],
          "scattercarpet": [
           {
            "type": "scattercarpet",
            "marker": {
             "colorbar": {
              "outlinewidth": 0,
              "ticks": ""
             }
            }
           }
          ],
          "carpet": [
           {
            "aaxis": {
             "endlinecolor": "#2a3f5f",
             "gridcolor": "white",
             "linecolor": "white",
             "minorgridcolor": "white",
             "startlinecolor": "#2a3f5f"
            },
            "baxis": {
             "endlinecolor": "#2a3f5f",
             "gridcolor": "white",
             "linecolor": "white",
             "minorgridcolor": "white",
             "startlinecolor": "#2a3f5f"
            },
            "type": "carpet"
           }
          ],
          "table": [
           {
            "cells": {
             "fill": {
              "color": "#EBF0F8"
             },
             "line": {
              "color": "white"
             }
            },
            "header": {
             "fill": {
              "color": "#C8D4E3"
             },
             "line": {
              "color": "white"
             }
            },
            "type": "table"
           }
          ],
          "barpolar": [
           {
            "marker": {
             "line": {
              "color": "#E5ECF6",
              "width": 0.5
             },
             "pattern": {
              "fillmode": "overlay",
              "size": 10,
              "solidity": 0.2
             }
            },
            "type": "barpolar"
           }
          ],
          "pie": [
           {
            "automargin": true,
            "type": "pie"
           }
          ]
         },
         "layout": {
          "autotypenumbers": "strict",
          "colorway": [
           "#636efa",
           "#EF553B",
           "#00cc96",
           "#ab63fa",
           "#FFA15A",
           "#19d3f3",
           "#FF6692",
           "#B6E880",
           "#FF97FF",
           "#FECB52"
          ],
          "font": {
           "color": "#2a3f5f"
          },
          "hovermode": "closest",
          "hoverlabel": {
           "align": "left"
          },
          "paper_bgcolor": "white",
          "plot_bgcolor": "#E5ECF6",
          "polar": {
           "bgcolor": "#E5ECF6",
           "angularaxis": {
            "gridcolor": "white",
            "linecolor": "white",
            "ticks": ""
           },
           "radialaxis": {
            "gridcolor": "white",
            "linecolor": "white",
            "ticks": ""
           }
          },
          "ternary": {
           "bgcolor": "#E5ECF6",
           "aaxis": {
            "gridcolor": "white",
            "linecolor": "white",
            "ticks": ""
           },
           "baxis": {
            "gridcolor": "white",
            "linecolor": "white",
            "ticks": ""
           },
           "caxis": {
            "gridcolor": "white",
            "linecolor": "white",
            "ticks": ""
           }
          },
          "coloraxis": {
           "colorbar": {
            "outlinewidth": 0,
            "ticks": ""
           }
          },
          "colorscale": {
           "sequential": [
            [
             0.0,
             "#0d0887"
            ],
            [
             0.1111111111111111,
             "#46039f"
            ],
            [
             0.2222222222222222,
             "#7201a8"
            ],
            [
             0.3333333333333333,
             "#9c179e"
            ],
            [
             0.4444444444444444,
             "#bd3786"
            ],
            [
             0.5555555555555556,
             "#d8576b"
            ],
            [
             0.6666666666666666,
             "#ed7953"
            ],
            [
             0.7777777777777778,
             "#fb9f3a"
            ],
            [
             0.8888888888888888,
             "#fdca26"
            ],
            [
             1.0,
             "#f0f921"
            ]
           ],
           "sequentialminus": [
            [
             0.0,
             "#0d0887"
            ],
            [
             0.1111111111111111,
             "#46039f"
            ],
            [
             0.2222222222222222,
             "#7201a8"
            ],
            [
             0.3333333333333333,
             "#9c179e"
            ],
            [
             0.4444444444444444,
             "#bd3786"
            ],
            [
             0.5555555555555556,
             "#d8576b"
            ],
            [
             0.6666666666666666,
             "#ed7953"
            ],
            [
             0.7777777777777778,
             "#fb9f3a"
            ],
            [
             0.8888888888888888,
             "#fdca26"
            ],
            [
             1.0,
             "#f0f921"
            ]
           ],
           "diverging": [
            [
             0,
             "#8e0152"
            ],
            [
             0.1,
             "#c51b7d"
            ],
            [
             0.2,
             "#de77ae"
            ],
            [
             0.3,
             "#f1b6da"
            ],
            [
             0.4,
             "#fde0ef"
            ],
            [
             0.5,
             "#f7f7f7"
            ],
            [
             0.6,
             "#e6f5d0"
            ],
            [
             0.7,
             "#b8e186"
            ],
            [
             0.8,
             "#7fbc41"
            ],
            [
             0.9,
             "#4d9221"
            ],
            [
             1,
             "#276419"
            ]
           ]
          },
          "xaxis": {
           "gridcolor": "white",
           "linecolor": "white",
           "ticks": "",
           "title": {
            "standoff": 15
           },
           "zerolinecolor": "white",
           "automargin": true,
           "zerolinewidth": 2
          },
          "yaxis": {
           "gridcolor": "white",
           "linecolor": "white",
           "ticks": "",
           "title": {
            "standoff": 15
           },
           "zerolinecolor": "white",
           "automargin": true,
           "zerolinewidth": 2
          },
          "scene": {
           "xaxis": {
            "backgroundcolor": "#E5ECF6",
            "gridcolor": "white",
            "linecolor": "white",
            "showbackground": true,
            "ticks": "",
            "zerolinecolor": "white",
            "gridwidth": 2
           },
           "yaxis": {
            "backgroundcolor": "#E5ECF6",
            "gridcolor": "white",
            "linecolor": "white",
            "showbackground": true,
            "ticks": "",
            "zerolinecolor": "white",
            "gridwidth": 2
           },
           "zaxis": {
            "backgroundcolor": "#E5ECF6",
            "gridcolor": "white",
            "linecolor": "white",
            "showbackground": true,
            "ticks": "",
            "zerolinecolor": "white",
            "gridwidth": 2
           }
          },
          "shapedefaults": {
           "line": {
            "color": "#2a3f5f"
           }
          },
          "annotationdefaults": {
           "arrowcolor": "#2a3f5f",
           "arrowhead": 0,
           "arrowwidth": 1
          },
          "geo": {
           "bgcolor": "white",
           "landcolor": "#E5ECF6",
           "subunitcolor": "white",
           "showland": true,
           "showlakes": true,
           "lakecolor": "white"
          },
          "title": {
           "x": 0.05
          },
          "mapbox": {
           "style": "light"
          }
         }
        },
        "yaxis": {
         "title": {
          "text": "Standard deviation of elementary effects σ [J]"
         },
         "range": [
          -1.4335874111075042E7,
          2.150381116661256E8
         ]
        },
        "title": {
         "text": "Building heat needs"
        },
        "xaxis": {
         "title": {
          "text": "Absolute mean of elementary effects μ* [J]"
         }
        }
       },
       "config": {
        "plotlyServerURL": "https://plot.ly"
       }
      },
      "text/html": "<div>                            <div id=\"49792ee8-ff28-450f-ae1b-98a8d34645e0\" class=\"plotly-graph-div\" style=\"height:525px; width:100%;\"></div>            <script type=\"text/javascript\">                require([\"plotly\"], function(Plotly) {                    window.PLOTLYENV=window.PLOTLYENV || {};                                    if (document.getElementById(\"49792ee8-ff28-450f-ae1b-98a8d34645e0\")) {                    Plotly.newPlot(                        \"49792ee8-ff28-450f-ae1b-98a8d34645e0\",                        [{\"error_x\":{\"array\":[65799099.16728755,62324732.95951262,63605071.50508041,77737816.3055397,5965111.093849255,20723962.370913494],\"color\":\"#696969\",\"type\":\"data\",\"visible\":true},\"marker\":{\"color\":[0,1,2,3,4,5],\"size\":[100.0,63.50448659764341,52.78270024279602,4.674815529104627,0.5543854803556174,20.031447029988936]},\"mode\":\"markers+text\",\"name\":\"Morris index\",\"text\":[\"SHGC_ext_windows\",\"UFactor_ext_windows\",\"SHGC_int_windows\",\"UFactor_int_windows\",\"Wall_insulation_thickness\",\"Cracks\"],\"textposition\":\"top center\",\"x\":[6387860869.605392,4055259111.596129,3370603435.3396106,265168028.1699051,33358838.117373656,1279319134.5815575],\"y\":[143358741.1107504,137799769.76242006,114109712.7923529,137496036.16403678,11913293.499795806,38660806.01956169],\"type\":\"scatter\"},{\"line\":{\"color\":\"grey\",\"dash\":\"dash\"},\"mode\":\"lines\",\"name\":\"linear_lim\",\"x\":[0.0,7026646956.565932],\"y\":[0.0,702664695.6565932],\"type\":\"scatter\"},{\"line\":{\"color\":\"grey\",\"dash\":\"dot\"},\"mode\":\"lines\",\"name\":\"Monotonic limit\",\"x\":[0.0,7026646956.565932],\"y\":[0.0,3513323478.282966],\"type\":\"scatter\"},{\"line\":{\"color\":\"grey\",\"dash\":\"dashdot\"},\"mode\":\"lines\",\"name\":\"Non linear limit\",\"x\":[0.0,7026646956.565932],\"y\":[0.0,7026646956.565932],\"type\":\"scatter\"}],                        {\"template\":{\"data\":{\"histogram2dcontour\":[{\"type\":\"histogram2dcontour\",\"colorbar\":{\"outlinewidth\":0,\"ticks\":\"\"},\"colorscale\":[[0.0,\"#0d0887\"],[0.1111111111111111,\"#46039f\"],[0.2222222222222222,\"#7201a8\"],[0.3333333333333333,\"#9c179e\"],[0.4444444444444444,\"#bd3786\"],[0.5555555555555556,\"#d8576b\"],[0.6666666666666666,\"#ed7953\"],[0.7777777777777778,\"#fb9f3a\"],[0.8888888888888888,\"#fdca26\"],[1.0,\"#f0f921\"]]}],\"choropleth\":[{\"type\":\"choropleth\",\"colorbar\":{\"outlinewidth\":0,\"ticks\":\"\"}}],\"histogram2d\":[{\"type\":\"histogram2d\",\"colorbar\":{\"outlinewidth\":0,\"ticks\":\"\"},\"colorscale\":[[0.0,\"#0d0887\"],[0.1111111111111111,\"#46039f\"],[0.2222222222222222,\"#7201a8\"],[0.3333333333333333,\"#9c179e\"],[0.4444444444444444,\"#bd3786\"],[0.5555555555555556,\"#d8576b\"],[0.6666666666666666,\"#ed7953\"],[0.7777777777777778,\"#fb9f3a\"],[0.8888888888888888,\"#fdca26\"],[1.0,\"#f0f921\"]]}],\"heatmap\":[{\"type\":\"heatmap\",\"colorbar\":{\"outlinewidth\":0,\"ticks\":\"\"},\"colorscale\":[[0.0,\"#0d0887\"],[0.1111111111111111,\"#46039f\"],[0.2222222222222222,\"#7201a8\"],[0.3333333333333333,\"#9c179e\"],[0.4444444444444444,\"#bd3786\"],[0.5555555555555556,\"#d8576b\"],[0.6666666666666666,\"#ed7953\"],[0.7777777777777778,\"#fb9f3a\"],[0.8888888888888888,\"#fdca26\"],[1.0,\"#f0f921\"]]}],\"heatmapgl\":[{\"type\":\"heatmapgl\",\"colorbar\":{\"outlinewidth\":0,\"ticks\":\"\"},\"colorscale\":[[0.0,\"#0d0887\"],[0.1111111111111111,\"#46039f\"],[0.2222222222222222,\"#7201a8\"],[0.3333333333333333,\"#9c179e\"],[0.4444444444444444,\"#bd3786\"],[0.5555555555555556,\"#d8576b\"],[0.6666666666666666,\"#ed7953\"],[0.7777777777777778,\"#fb9f3a\"],[0.8888888888888888,\"#fdca26\"],[1.0,\"#f0f921\"]]}],\"contourcarpet\":[{\"type\":\"contourcarpet\",\"colorbar\":{\"outlinewidth\":0,\"ticks\":\"\"}}],\"contour\":[{\"type\":\"contour\",\"colorbar\":{\"outlinewidth\":0,\"ticks\":\"\"},\"colorscale\":[[0.0,\"#0d0887\"],[0.1111111111111111,\"#46039f\"],[0.2222222222222222,\"#7201a8\"],[0.3333333333333333,\"#9c179e\"],[0.4444444444444444,\"#bd3786\"],[0.5555555555555556,\"#d8576b\"],[0.6666666666666666,\"#ed7953\"],[0.7777777777777778,\"#fb9f3a\"],[0.8888888888888888,\"#fdca26\"],[1.0,\"#f0f921\"]]}],\"surface\":[{\"type\":\"surface\",\"colorbar\":{\"outlinewidth\":0,\"ticks\":\"\"},\"colorscale\":[[0.0,\"#0d0887\"],[0.1111111111111111,\"#46039f\"],[0.2222222222222222,\"#7201a8\"],[0.3333333333333333,\"#9c179e\"],[0.4444444444444444,\"#bd3786\"],[0.5555555555555556,\"#d8576b\"],[0.6666666666666666,\"#ed7953\"],[0.7777777777777778,\"#fb9f3a\"],[0.8888888888888888,\"#fdca26\"],[1.0,\"#f0f921\"]]}],\"mesh3d\":[{\"type\":\"mesh3d\",\"colorbar\":{\"outlinewidth\":0,\"ticks\":\"\"}}],\"scatter\":[{\"fillpattern\":{\"fillmode\":\"overlay\",\"size\":10,\"solidity\":0.2},\"type\":\"scatter\"}],\"parcoords\":[{\"type\":\"parcoords\",\"line\":{\"colorbar\":{\"outlinewidth\":0,\"ticks\":\"\"}}}],\"scatterpolargl\":[{\"type\":\"scatterpolargl\",\"marker\":{\"colorbar\":{\"outlinewidth\":0,\"ticks\":\"\"}}}],\"bar\":[{\"error_x\":{\"color\":\"#2a3f5f\"},\"error_y\":{\"color\":\"#2a3f5f\"},\"marker\":{\"line\":{\"color\":\"#E5ECF6\",\"width\":0.5},\"pattern\":{\"fillmode\":\"overlay\",\"size\":10,\"solidity\":0.2}},\"type\":\"bar\"}],\"scattergeo\":[{\"type\":\"scattergeo\",\"marker\":{\"colorbar\":{\"outlinewidth\":0,\"ticks\":\"\"}}}],\"scatterpolar\":[{\"type\":\"scatterpolar\",\"marker\":{\"colorbar\":{\"outlinewidth\":0,\"ticks\":\"\"}}}],\"histogram\":[{\"marker\":{\"pattern\":{\"fillmode\":\"overlay\",\"size\":10,\"solidity\":0.2}},\"type\":\"histogram\"}],\"scattergl\":[{\"type\":\"scattergl\",\"marker\":{\"colorbar\":{\"outlinewidth\":0,\"ticks\":\"\"}}}],\"scatter3d\":[{\"type\":\"scatter3d\",\"line\":{\"colorbar\":{\"outlinewidth\":0,\"ticks\":\"\"}},\"marker\":{\"colorbar\":{\"outlinewidth\":0,\"ticks\":\"\"}}}],\"scattermapbox\":[{\"type\":\"scattermapbox\",\"marker\":{\"colorbar\":{\"outlinewidth\":0,\"ticks\":\"\"}}}],\"scatterternary\":[{\"type\":\"scatterternary\",\"marker\":{\"colorbar\":{\"outlinewidth\":0,\"ticks\":\"\"}}}],\"scattercarpet\":[{\"type\":\"scattercarpet\",\"marker\":{\"colorbar\":{\"outlinewidth\":0,\"ticks\":\"\"}}}],\"carpet\":[{\"aaxis\":{\"endlinecolor\":\"#2a3f5f\",\"gridcolor\":\"white\",\"linecolor\":\"white\",\"minorgridcolor\":\"white\",\"startlinecolor\":\"#2a3f5f\"},\"baxis\":{\"endlinecolor\":\"#2a3f5f\",\"gridcolor\":\"white\",\"linecolor\":\"white\",\"minorgridcolor\":\"white\",\"startlinecolor\":\"#2a3f5f\"},\"type\":\"carpet\"}],\"table\":[{\"cells\":{\"fill\":{\"color\":\"#EBF0F8\"},\"line\":{\"color\":\"white\"}},\"header\":{\"fill\":{\"color\":\"#C8D4E3\"},\"line\":{\"color\":\"white\"}},\"type\":\"table\"}],\"barpolar\":[{\"marker\":{\"line\":{\"color\":\"#E5ECF6\",\"width\":0.5},\"pattern\":{\"fillmode\":\"overlay\",\"size\":10,\"solidity\":0.2}},\"type\":\"barpolar\"}],\"pie\":[{\"automargin\":true,\"type\":\"pie\"}]},\"layout\":{\"autotypenumbers\":\"strict\",\"colorway\":[\"#636efa\",\"#EF553B\",\"#00cc96\",\"#ab63fa\",\"#FFA15A\",\"#19d3f3\",\"#FF6692\",\"#B6E880\",\"#FF97FF\",\"#FECB52\"],\"font\":{\"color\":\"#2a3f5f\"},\"hovermode\":\"closest\",\"hoverlabel\":{\"align\":\"left\"},\"paper_bgcolor\":\"white\",\"plot_bgcolor\":\"#E5ECF6\",\"polar\":{\"bgcolor\":\"#E5ECF6\",\"angularaxis\":{\"gridcolor\":\"white\",\"linecolor\":\"white\",\"ticks\":\"\"},\"radialaxis\":{\"gridcolor\":\"white\",\"linecolor\":\"white\",\"ticks\":\"\"}},\"ternary\":{\"bgcolor\":\"#E5ECF6\",\"aaxis\":{\"gridcolor\":\"white\",\"linecolor\":\"white\",\"ticks\":\"\"},\"baxis\":{\"gridcolor\":\"white\",\"linecolor\":\"white\",\"ticks\":\"\"},\"caxis\":{\"gridcolor\":\"white\",\"linecolor\":\"white\",\"ticks\":\"\"}},\"coloraxis\":{\"colorbar\":{\"outlinewidth\":0,\"ticks\":\"\"}},\"colorscale\":{\"sequential\":[[0.0,\"#0d0887\"],[0.1111111111111111,\"#46039f\"],[0.2222222222222222,\"#7201a8\"],[0.3333333333333333,\"#9c179e\"],[0.4444444444444444,\"#bd3786\"],[0.5555555555555556,\"#d8576b\"],[0.6666666666666666,\"#ed7953\"],[0.7777777777777778,\"#fb9f3a\"],[0.8888888888888888,\"#fdca26\"],[1.0,\"#f0f921\"]],\"sequentialminus\":[[0.0,\"#0d0887\"],[0.1111111111111111,\"#46039f\"],[0.2222222222222222,\"#7201a8\"],[0.3333333333333333,\"#9c179e\"],[0.4444444444444444,\"#bd3786\"],[0.5555555555555556,\"#d8576b\"],[0.6666666666666666,\"#ed7953\"],[0.7777777777777778,\"#fb9f3a\"],[0.8888888888888888,\"#fdca26\"],[1.0,\"#f0f921\"]],\"diverging\":[[0,\"#8e0152\"],[0.1,\"#c51b7d\"],[0.2,\"#de77ae\"],[0.3,\"#f1b6da\"],[0.4,\"#fde0ef\"],[0.5,\"#f7f7f7\"],[0.6,\"#e6f5d0\"],[0.7,\"#b8e186\"],[0.8,\"#7fbc41\"],[0.9,\"#4d9221\"],[1,\"#276419\"]]},\"xaxis\":{\"gridcolor\":\"white\",\"linecolor\":\"white\",\"ticks\":\"\",\"title\":{\"standoff\":15},\"zerolinecolor\":\"white\",\"automargin\":true,\"zerolinewidth\":2},\"yaxis\":{\"gridcolor\":\"white\",\"linecolor\":\"white\",\"ticks\":\"\",\"title\":{\"standoff\":15},\"zerolinecolor\":\"white\",\"automargin\":true,\"zerolinewidth\":2},\"scene\":{\"xaxis\":{\"backgroundcolor\":\"#E5ECF6\",\"gridcolor\":\"white\",\"linecolor\":\"white\",\"showbackground\":true,\"ticks\":\"\",\"zerolinecolor\":\"white\",\"gridwidth\":2},\"yaxis\":{\"backgroundcolor\":\"#E5ECF6\",\"gridcolor\":\"white\",\"linecolor\":\"white\",\"showbackground\":true,\"ticks\":\"\",\"zerolinecolor\":\"white\",\"gridwidth\":2},\"zaxis\":{\"backgroundcolor\":\"#E5ECF6\",\"gridcolor\":\"white\",\"linecolor\":\"white\",\"showbackground\":true,\"ticks\":\"\",\"zerolinecolor\":\"white\",\"gridwidth\":2}},\"shapedefaults\":{\"line\":{\"color\":\"#2a3f5f\"}},\"annotationdefaults\":{\"arrowcolor\":\"#2a3f5f\",\"arrowhead\":0,\"arrowwidth\":1},\"geo\":{\"bgcolor\":\"white\",\"landcolor\":\"#E5ECF6\",\"subunitcolor\":\"white\",\"showland\":true,\"showlakes\":true,\"lakecolor\":\"white\"},\"title\":{\"x\":0.05},\"mapbox\":{\"style\":\"light\"}}},\"yaxis\":{\"title\":{\"text\":\"Standard deviation of elementary effects \\u03c3 [J]\"},\"range\":[-14335874.111075042,215038111.6661256]},\"title\":{\"text\":\"Building heat needs\"},\"xaxis\":{\"title\":{\"text\":\"Absolute mean of elementary effects \\u03bc* [J]\"}}},                        {\"responsive\": true}                    ).then(function(){\n                            \nvar gd = document.getElementById('49792ee8-ff28-450f-ae1b-98a8d34645e0');\nvar x = new MutationObserver(function (mutations, observer) {{\n        var display = window.getComputedStyle(gd).display;\n        if (!display || display === 'none') {{\n            console.log([gd, 'removed!']);\n            Plotly.purge(gd);\n            observer.disconnect();\n        }}\n}});\n\n// Listen for the removal of the full notebook cells\nvar notebookContainer = gd.closest('#notebook-container');\nif (notebookContainer) {{\n    x.observe(notebookContainer, {childList: true});\n}}\n\n// Listen for the clearing of the current output cell\nvar outputEl = gd.closest('.output');\nif (outputEl) {{\n    x.observe(outputEl, {childList: true});\n}}\n\n                        })                };                });            </script>        </div>"
     },
     "metadata": {},
     "output_type": "display_data"
    }
   ],
   "source": [
    "plot_morris_scatter(salib_res=sa_analysis.sensitivity_results, title='Building heat needs', unit='J', autosize=True)"
   ],
   "metadata": {
    "collapsed": false,
    "pycharm": {
     "name": "#%%\n"
    }
   }
  },
  {
   "cell_type": "markdown",
   "source": [
    "In the figure above:\n",
    "- Circle size indicate the total effect of the parameter on the chosen indicator. The bigger, the more influential.\n",
    "- The x axis is the mean elementary effect of the parameters. It represents \"linear\" effect of the parameter.\n",
    "- The y axis is the standard deviation. It represents interactions between parameters and non linearities.\n",
    "- The 3 lines separates the figure in 4 regions. From the closer to the x axis : linear, monotonic, almost monotonic and non-linear and/or non-monotonic effects. See [publication](http://www.ibpsa.org/proceedings/BSO2016/p1101.pdf) for more details\n",
    "- The segment represent the uncertainty on the sensitivity index calculation.\n",
    "\n",
    "In this use case. Several conclusions can be drawn:\n",
    "- 4 parameters have an influence on the chosen indicator. Two indicators can be neglected.\n",
    "- The 4 main parameters have an almost linear influence on the indicator\n",
    "- The confidence on the sensitivity index calculation is high"
   ],
   "metadata": {
    "collapsed": false,
    "pycharm": {
     "name": "#%% md\n"
    }
   }
  },
  {
   "cell_type": "markdown",
   "source": [
    "## Sobol method"
   ],
   "metadata": {
    "collapsed": false,
    "pycharm": {
     "name": "#%% md\n"
    }
   }
  },
  {
   "cell_type": "markdown",
   "source": [
    "Sobol index indicates the contribution of each uncertain parameters to the variance of the output indicator.\n",
    "It is a more accurate method to quantify the effect of an uncertain parameter. The second order index also gives more information on the effect of parameters interactions.\n",
    "... But it comes at a much higher computational cost.\n",
    "In energytool, the index are computed using SALib. The method gives an estimation of the index value. It reduces the simulation sample size.\n",
    "\n",
    "Below is an example of a <code>SAnalisys</code> configuration to perform Sobol index calculation\n",
    "It is very similar to Morris"
   ],
   "metadata": {
    "collapsed": false,
    "pycharm": {
     "name": "#%% md\n"
    }
   }
  },
  {
   "cell_type": "code",
   "execution_count": 26,
   "outputs": [],
   "source": [
    "sa_analysis_sob = SAnalysis(\n",
    "    building=building,\n",
    "    sensitivity_method=\"Sobol\",\n",
    "    parameters=uncertain_param_list,\n",
    ")"
   ],
   "metadata": {
    "collapsed": false,
    "pycharm": {
     "name": "#%%\n"
    }
   }
  },
  {
   "cell_type": "code",
   "execution_count": 28,
   "outputs": [],
   "source": [
    "# Salib command an n = 2^x. In this case x shall be >= 6\n",
    "sa_analysis_sob.draw_sample(n=2**6)"
   ],
   "metadata": {
    "collapsed": false,
    "pycharm": {
     "name": "#%%\n"
    }
   }
  },
  {
   "cell_type": "code",
   "execution_count": 29,
   "outputs": [
    {
     "name": "stdout",
     "output_type": "stream",
     "text": [
      " |████████████████████████████████████████| 100.00% [45/45 1:12:00<00:00 batch]\r"
     ]
    }
   ],
   "source": [
    "sa_analysis_sob.run_simulations(epw_file_path=Path(TUTORIAL_DIR) / r\"resources/FRA_Bordeaux.075100_IWEC.epw\")"
   ],
   "metadata": {
    "collapsed": false,
    "pycharm": {
     "name": "#%%\n"
    }
   }
  },
  {
   "cell_type": "code",
   "execution_count": 34,
   "outputs": [],
   "source": [
    "sa_analysis_sob.analyze(indicator='IdealBoiler_Energy')"
   ],
   "metadata": {
    "collapsed": false,
    "pycharm": {
     "name": "#%%\n"
    }
   }
  },
  {
   "cell_type": "markdown",
   "source": [
    "Similarly to Morris, a function is designed to plot preformatted Sobol total index graph"
   ],
   "metadata": {
    "collapsed": false,
    "pycharm": {
     "name": "#%% md\n"
    }
   }
  },
  {
   "cell_type": "code",
   "execution_count": 38,
   "outputs": [],
   "source": [
    "from energytool.sensitivity import plot_sobol_st_bar"
   ],
   "metadata": {
    "collapsed": false,
    "pycharm": {
     "name": "#%%\n"
    }
   }
  },
  {
   "cell_type": "code",
   "execution_count": 39,
   "outputs": [
    {
     "data": {
      "application/vnd.plotly.v1+json": {
       "data": [
        {
         "error_y": {
          "array": [
           1.1859678657085354E-5,
           8.025272196010351E-4,
           0.017323406248347124,
           0.07312441638459327,
           0.11064933901246707,
           0.33038480541324594
          ],
          "type": "data"
         },
         "marker": {
          "color": "orange"
         },
         "name": "Sobol Total Indices",
         "x": [
          "Wall_insulation_thickness",
          "UFactor_int_windows",
          "Cracks",
          "SHGC_int_windows",
          "UFactor_ext_windows",
          "SHGC_ext_windows"
         ],
         "y": [
          1.3569636107243858E-5,
          0.0010541232498589958,
          0.035506085352081856,
          0.13175568858785072,
          0.15473981719994812,
          0.48896197977407335
         ],
         "yaxis": "y",
         "type": "bar"
        }
       ],
       "layout": {
        "template": {
         "data": {
          "histogram2dcontour": [
           {
            "type": "histogram2dcontour",
            "colorbar": {
             "outlinewidth": 0,
             "ticks": ""
            },
            "colorscale": [
             [
              0.0,
              "#0d0887"
             ],
             [
              0.1111111111111111,
              "#46039f"
             ],
             [
              0.2222222222222222,
              "#7201a8"
             ],
             [
              0.3333333333333333,
              "#9c179e"
             ],
             [
              0.4444444444444444,
              "#bd3786"
             ],
             [
              0.5555555555555556,
              "#d8576b"
             ],
             [
              0.6666666666666666,
              "#ed7953"
             ],
             [
              0.7777777777777778,
              "#fb9f3a"
             ],
             [
              0.8888888888888888,
              "#fdca26"
             ],
             [
              1.0,
              "#f0f921"
             ]
            ]
           }
          ],
          "choropleth": [
           {
            "type": "choropleth",
            "colorbar": {
             "outlinewidth": 0,
             "ticks": ""
            }
           }
          ],
          "histogram2d": [
           {
            "type": "histogram2d",
            "colorbar": {
             "outlinewidth": 0,
             "ticks": ""
            },
            "colorscale": [
             [
              0.0,
              "#0d0887"
             ],
             [
              0.1111111111111111,
              "#46039f"
             ],
             [
              0.2222222222222222,
              "#7201a8"
             ],
             [
              0.3333333333333333,
              "#9c179e"
             ],
             [
              0.4444444444444444,
              "#bd3786"
             ],
             [
              0.5555555555555556,
              "#d8576b"
             ],
             [
              0.6666666666666666,
              "#ed7953"
             ],
             [
              0.7777777777777778,
              "#fb9f3a"
             ],
             [
              0.8888888888888888,
              "#fdca26"
             ],
             [
              1.0,
              "#f0f921"
             ]
            ]
           }
          ],
          "heatmap": [
           {
            "type": "heatmap",
            "colorbar": {
             "outlinewidth": 0,
             "ticks": ""
            },
            "colorscale": [
             [
              0.0,
              "#0d0887"
             ],
             [
              0.1111111111111111,
              "#46039f"
             ],
             [
              0.2222222222222222,
              "#7201a8"
             ],
             [
              0.3333333333333333,
              "#9c179e"
             ],
             [
              0.4444444444444444,
              "#bd3786"
             ],
             [
              0.5555555555555556,
              "#d8576b"
             ],
             [
              0.6666666666666666,
              "#ed7953"
             ],
             [
              0.7777777777777778,
              "#fb9f3a"
             ],
             [
              0.8888888888888888,
              "#fdca26"
             ],
             [
              1.0,
              "#f0f921"
             ]
            ]
           }
          ],
          "heatmapgl": [
           {
            "type": "heatmapgl",
            "colorbar": {
             "outlinewidth": 0,
             "ticks": ""
            },
            "colorscale": [
             [
              0.0,
              "#0d0887"
             ],
             [
              0.1111111111111111,
              "#46039f"
             ],
             [
              0.2222222222222222,
              "#7201a8"
             ],
             [
              0.3333333333333333,
              "#9c179e"
             ],
             [
              0.4444444444444444,
              "#bd3786"
             ],
             [
              0.5555555555555556,
              "#d8576b"
             ],
             [
              0.6666666666666666,
              "#ed7953"
             ],
             [
              0.7777777777777778,
              "#fb9f3a"
             ],
             [
              0.8888888888888888,
              "#fdca26"
             ],
             [
              1.0,
              "#f0f921"
             ]
            ]
           }
          ],
          "contourcarpet": [
           {
            "type": "contourcarpet",
            "colorbar": {
             "outlinewidth": 0,
             "ticks": ""
            }
           }
          ],
          "contour": [
           {
            "type": "contour",
            "colorbar": {
             "outlinewidth": 0,
             "ticks": ""
            },
            "colorscale": [
             [
              0.0,
              "#0d0887"
             ],
             [
              0.1111111111111111,
              "#46039f"
             ],
             [
              0.2222222222222222,
              "#7201a8"
             ],
             [
              0.3333333333333333,
              "#9c179e"
             ],
             [
              0.4444444444444444,
              "#bd3786"
             ],
             [
              0.5555555555555556,
              "#d8576b"
             ],
             [
              0.6666666666666666,
              "#ed7953"
             ],
             [
              0.7777777777777778,
              "#fb9f3a"
             ],
             [
              0.8888888888888888,
              "#fdca26"
             ],
             [
              1.0,
              "#f0f921"
             ]
            ]
           }
          ],
          "surface": [
           {
            "type": "surface",
            "colorbar": {
             "outlinewidth": 0,
             "ticks": ""
            },
            "colorscale": [
             [
              0.0,
              "#0d0887"
             ],
             [
              0.1111111111111111,
              "#46039f"
             ],
             [
              0.2222222222222222,
              "#7201a8"
             ],
             [
              0.3333333333333333,
              "#9c179e"
             ],
             [
              0.4444444444444444,
              "#bd3786"
             ],
             [
              0.5555555555555556,
              "#d8576b"
             ],
             [
              0.6666666666666666,
              "#ed7953"
             ],
             [
              0.7777777777777778,
              "#fb9f3a"
             ],
             [
              0.8888888888888888,
              "#fdca26"
             ],
             [
              1.0,
              "#f0f921"
             ]
            ]
           }
          ],
          "mesh3d": [
           {
            "type": "mesh3d",
            "colorbar": {
             "outlinewidth": 0,
             "ticks": ""
            }
           }
          ],
          "scatter": [
           {
            "fillpattern": {
             "fillmode": "overlay",
             "size": 10,
             "solidity": 0.2
            },
            "type": "scatter"
           }
          ],
          "parcoords": [
           {
            "type": "parcoords",
            "line": {
             "colorbar": {
              "outlinewidth": 0,
              "ticks": ""
             }
            }
           }
          ],
          "scatterpolargl": [
           {
            "type": "scatterpolargl",
            "marker": {
             "colorbar": {
              "outlinewidth": 0,
              "ticks": ""
             }
            }
           }
          ],
          "bar": [
           {
            "error_x": {
             "color": "#2a3f5f"
            },
            "error_y": {
             "color": "#2a3f5f"
            },
            "marker": {
             "line": {
              "color": "#E5ECF6",
              "width": 0.5
             },
             "pattern": {
              "fillmode": "overlay",
              "size": 10,
              "solidity": 0.2
             }
            },
            "type": "bar"
           }
          ],
          "scattergeo": [
           {
            "type": "scattergeo",
            "marker": {
             "colorbar": {
              "outlinewidth": 0,
              "ticks": ""
             }
            }
           }
          ],
          "scatterpolar": [
           {
            "type": "scatterpolar",
            "marker": {
             "colorbar": {
              "outlinewidth": 0,
              "ticks": ""
             }
            }
           }
          ],
          "histogram": [
           {
            "marker": {
             "pattern": {
              "fillmode": "overlay",
              "size": 10,
              "solidity": 0.2
             }
            },
            "type": "histogram"
           }
          ],
          "scattergl": [
           {
            "type": "scattergl",
            "marker": {
             "colorbar": {
              "outlinewidth": 0,
              "ticks": ""
             }
            }
           }
          ],
          "scatter3d": [
           {
            "type": "scatter3d",
            "line": {
             "colorbar": {
              "outlinewidth": 0,
              "ticks": ""
             }
            },
            "marker": {
             "colorbar": {
              "outlinewidth": 0,
              "ticks": ""
             }
            }
           }
          ],
          "scattermapbox": [
           {
            "type": "scattermapbox",
            "marker": {
             "colorbar": {
              "outlinewidth": 0,
              "ticks": ""
             }
            }
           }
          ],
          "scatterternary": [
           {
            "type": "scatterternary",
            "marker": {
             "colorbar": {
              "outlinewidth": 0,
              "ticks": ""
             }
            }
           }
          ],
          "scattercarpet": [
           {
            "type": "scattercarpet",
            "marker": {
             "colorbar": {
              "outlinewidth": 0,
              "ticks": ""
             }
            }
           }
          ],
          "carpet": [
           {
            "aaxis": {
             "endlinecolor": "#2a3f5f",
             "gridcolor": "white",
             "linecolor": "white",
             "minorgridcolor": "white",
             "startlinecolor": "#2a3f5f"
            },
            "baxis": {
             "endlinecolor": "#2a3f5f",
             "gridcolor": "white",
             "linecolor": "white",
             "minorgridcolor": "white",
             "startlinecolor": "#2a3f5f"
            },
            "type": "carpet"
           }
          ],
          "table": [
           {
            "cells": {
             "fill": {
              "color": "#EBF0F8"
             },
             "line": {
              "color": "white"
             }
            },
            "header": {
             "fill": {
              "color": "#C8D4E3"
             },
             "line": {
              "color": "white"
             }
            },
            "type": "table"
           }
          ],
          "barpolar": [
           {
            "marker": {
             "line": {
              "color": "#E5ECF6",
              "width": 0.5
             },
             "pattern": {
              "fillmode": "overlay",
              "size": 10,
              "solidity": 0.2
             }
            },
            "type": "barpolar"
           }
          ],
          "pie": [
           {
            "automargin": true,
            "type": "pie"
           }
          ]
         },
         "layout": {
          "autotypenumbers": "strict",
          "colorway": [
           "#636efa",
           "#EF553B",
           "#00cc96",
           "#ab63fa",
           "#FFA15A",
           "#19d3f3",
           "#FF6692",
           "#B6E880",
           "#FF97FF",
           "#FECB52"
          ],
          "font": {
           "color": "#2a3f5f"
          },
          "hovermode": "closest",
          "hoverlabel": {
           "align": "left"
          },
          "paper_bgcolor": "white",
          "plot_bgcolor": "#E5ECF6",
          "polar": {
           "bgcolor": "#E5ECF6",
           "angularaxis": {
            "gridcolor": "white",
            "linecolor": "white",
            "ticks": ""
           },
           "radialaxis": {
            "gridcolor": "white",
            "linecolor": "white",
            "ticks": ""
           }
          },
          "ternary": {
           "bgcolor": "#E5ECF6",
           "aaxis": {
            "gridcolor": "white",
            "linecolor": "white",
            "ticks": ""
           },
           "baxis": {
            "gridcolor": "white",
            "linecolor": "white",
            "ticks": ""
           },
           "caxis": {
            "gridcolor": "white",
            "linecolor": "white",
            "ticks": ""
           }
          },
          "coloraxis": {
           "colorbar": {
            "outlinewidth": 0,
            "ticks": ""
           }
          },
          "colorscale": {
           "sequential": [
            [
             0.0,
             "#0d0887"
            ],
            [
             0.1111111111111111,
             "#46039f"
            ],
            [
             0.2222222222222222,
             "#7201a8"
            ],
            [
             0.3333333333333333,
             "#9c179e"
            ],
            [
             0.4444444444444444,
             "#bd3786"
            ],
            [
             0.5555555555555556,
             "#d8576b"
            ],
            [
             0.6666666666666666,
             "#ed7953"
            ],
            [
             0.7777777777777778,
             "#fb9f3a"
            ],
            [
             0.8888888888888888,
             "#fdca26"
            ],
            [
             1.0,
             "#f0f921"
            ]
           ],
           "sequentialminus": [
            [
             0.0,
             "#0d0887"
            ],
            [
             0.1111111111111111,
             "#46039f"
            ],
            [
             0.2222222222222222,
             "#7201a8"
            ],
            [
             0.3333333333333333,
             "#9c179e"
            ],
            [
             0.4444444444444444,
             "#bd3786"
            ],
            [
             0.5555555555555556,
             "#d8576b"
            ],
            [
             0.6666666666666666,
             "#ed7953"
            ],
            [
             0.7777777777777778,
             "#fb9f3a"
            ],
            [
             0.8888888888888888,
             "#fdca26"
            ],
            [
             1.0,
             "#f0f921"
            ]
           ],
           "diverging": [
            [
             0,
             "#8e0152"
            ],
            [
             0.1,
             "#c51b7d"
            ],
            [
             0.2,
             "#de77ae"
            ],
            [
             0.3,
             "#f1b6da"
            ],
            [
             0.4,
             "#fde0ef"
            ],
            [
             0.5,
             "#f7f7f7"
            ],
            [
             0.6,
             "#e6f5d0"
            ],
            [
             0.7,
             "#b8e186"
            ],
            [
             0.8,
             "#7fbc41"
            ],
            [
             0.9,
             "#4d9221"
            ],
            [
             1,
             "#276419"
            ]
           ]
          },
          "xaxis": {
           "gridcolor": "white",
           "linecolor": "white",
           "ticks": "",
           "title": {
            "standoff": 15
           },
           "zerolinecolor": "white",
           "automargin": true,
           "zerolinewidth": 2
          },
          "yaxis": {
           "gridcolor": "white",
           "linecolor": "white",
           "ticks": "",
           "title": {
            "standoff": 15
           },
           "zerolinecolor": "white",
           "automargin": true,
           "zerolinewidth": 2
          },
          "scene": {
           "xaxis": {
            "backgroundcolor": "#E5ECF6",
            "gridcolor": "white",
            "linecolor": "white",
            "showbackground": true,
            "ticks": "",
            "zerolinecolor": "white",
            "gridwidth": 2
           },
           "yaxis": {
            "backgroundcolor": "#E5ECF6",
            "gridcolor": "white",
            "linecolor": "white",
            "showbackground": true,
            "ticks": "",
            "zerolinecolor": "white",
            "gridwidth": 2
           },
           "zaxis": {
            "backgroundcolor": "#E5ECF6",
            "gridcolor": "white",
            "linecolor": "white",
            "showbackground": true,
            "ticks": "",
            "zerolinecolor": "white",
            "gridwidth": 2
           }
          },
          "shapedefaults": {
           "line": {
            "color": "#2a3f5f"
           }
          },
          "annotationdefaults": {
           "arrowcolor": "#2a3f5f",
           "arrowhead": 0,
           "arrowwidth": 1
          },
          "geo": {
           "bgcolor": "white",
           "landcolor": "#E5ECF6",
           "subunitcolor": "white",
           "showland": true,
           "showlakes": true,
           "lakecolor": "white"
          },
          "title": {
           "x": 0.05
          },
          "mapbox": {
           "style": "light"
          }
         }
        },
        "title": {
         "text": "Sobol Total indices"
        },
        "xaxis": {
         "title": {
          "text": "Parameters"
         }
        },
        "yaxis": {
         "title": {
          "text": "Sobol total index value [0-1]"
         }
        }
       },
       "config": {
        "plotlyServerURL": "https://plot.ly"
       }
      },
      "text/html": "<div>                            <div id=\"2cfad07b-3159-4611-b28c-127f2e74d58b\" class=\"plotly-graph-div\" style=\"height:525px; width:100%;\"></div>            <script type=\"text/javascript\">                require([\"plotly\"], function(Plotly) {                    window.PLOTLYENV=window.PLOTLYENV || {};                                    if (document.getElementById(\"2cfad07b-3159-4611-b28c-127f2e74d58b\")) {                    Plotly.newPlot(                        \"2cfad07b-3159-4611-b28c-127f2e74d58b\",                        [{\"error_y\":{\"array\":[1.1859678657085354e-05,0.0008025272196010351,0.017323406248347124,0.07312441638459327,0.11064933901246707,0.33038480541324594],\"type\":\"data\"},\"marker\":{\"color\":\"orange\"},\"name\":\"Sobol Total Indices\",\"x\":[\"Wall_insulation_thickness\",\"UFactor_int_windows\",\"Cracks\",\"SHGC_int_windows\",\"UFactor_ext_windows\",\"SHGC_ext_windows\"],\"y\":[1.3569636107243858e-05,0.0010541232498589958,0.035506085352081856,0.13175568858785072,0.15473981719994812,0.48896197977407335],\"yaxis\":\"y\",\"type\":\"bar\"}],                        {\"template\":{\"data\":{\"histogram2dcontour\":[{\"type\":\"histogram2dcontour\",\"colorbar\":{\"outlinewidth\":0,\"ticks\":\"\"},\"colorscale\":[[0.0,\"#0d0887\"],[0.1111111111111111,\"#46039f\"],[0.2222222222222222,\"#7201a8\"],[0.3333333333333333,\"#9c179e\"],[0.4444444444444444,\"#bd3786\"],[0.5555555555555556,\"#d8576b\"],[0.6666666666666666,\"#ed7953\"],[0.7777777777777778,\"#fb9f3a\"],[0.8888888888888888,\"#fdca26\"],[1.0,\"#f0f921\"]]}],\"choropleth\":[{\"type\":\"choropleth\",\"colorbar\":{\"outlinewidth\":0,\"ticks\":\"\"}}],\"histogram2d\":[{\"type\":\"histogram2d\",\"colorbar\":{\"outlinewidth\":0,\"ticks\":\"\"},\"colorscale\":[[0.0,\"#0d0887\"],[0.1111111111111111,\"#46039f\"],[0.2222222222222222,\"#7201a8\"],[0.3333333333333333,\"#9c179e\"],[0.4444444444444444,\"#bd3786\"],[0.5555555555555556,\"#d8576b\"],[0.6666666666666666,\"#ed7953\"],[0.7777777777777778,\"#fb9f3a\"],[0.8888888888888888,\"#fdca26\"],[1.0,\"#f0f921\"]]}],\"heatmap\":[{\"type\":\"heatmap\",\"colorbar\":{\"outlinewidth\":0,\"ticks\":\"\"},\"colorscale\":[[0.0,\"#0d0887\"],[0.1111111111111111,\"#46039f\"],[0.2222222222222222,\"#7201a8\"],[0.3333333333333333,\"#9c179e\"],[0.4444444444444444,\"#bd3786\"],[0.5555555555555556,\"#d8576b\"],[0.6666666666666666,\"#ed7953\"],[0.7777777777777778,\"#fb9f3a\"],[0.8888888888888888,\"#fdca26\"],[1.0,\"#f0f921\"]]}],\"heatmapgl\":[{\"type\":\"heatmapgl\",\"colorbar\":{\"outlinewidth\":0,\"ticks\":\"\"},\"colorscale\":[[0.0,\"#0d0887\"],[0.1111111111111111,\"#46039f\"],[0.2222222222222222,\"#7201a8\"],[0.3333333333333333,\"#9c179e\"],[0.4444444444444444,\"#bd3786\"],[0.5555555555555556,\"#d8576b\"],[0.6666666666666666,\"#ed7953\"],[0.7777777777777778,\"#fb9f3a\"],[0.8888888888888888,\"#fdca26\"],[1.0,\"#f0f921\"]]}],\"contourcarpet\":[{\"type\":\"contourcarpet\",\"colorbar\":{\"outlinewidth\":0,\"ticks\":\"\"}}],\"contour\":[{\"type\":\"contour\",\"colorbar\":{\"outlinewidth\":0,\"ticks\":\"\"},\"colorscale\":[[0.0,\"#0d0887\"],[0.1111111111111111,\"#46039f\"],[0.2222222222222222,\"#7201a8\"],[0.3333333333333333,\"#9c179e\"],[0.4444444444444444,\"#bd3786\"],[0.5555555555555556,\"#d8576b\"],[0.6666666666666666,\"#ed7953\"],[0.7777777777777778,\"#fb9f3a\"],[0.8888888888888888,\"#fdca26\"],[1.0,\"#f0f921\"]]}],\"surface\":[{\"type\":\"surface\",\"colorbar\":{\"outlinewidth\":0,\"ticks\":\"\"},\"colorscale\":[[0.0,\"#0d0887\"],[0.1111111111111111,\"#46039f\"],[0.2222222222222222,\"#7201a8\"],[0.3333333333333333,\"#9c179e\"],[0.4444444444444444,\"#bd3786\"],[0.5555555555555556,\"#d8576b\"],[0.6666666666666666,\"#ed7953\"],[0.7777777777777778,\"#fb9f3a\"],[0.8888888888888888,\"#fdca26\"],[1.0,\"#f0f921\"]]}],\"mesh3d\":[{\"type\":\"mesh3d\",\"colorbar\":{\"outlinewidth\":0,\"ticks\":\"\"}}],\"scatter\":[{\"fillpattern\":{\"fillmode\":\"overlay\",\"size\":10,\"solidity\":0.2},\"type\":\"scatter\"}],\"parcoords\":[{\"type\":\"parcoords\",\"line\":{\"colorbar\":{\"outlinewidth\":0,\"ticks\":\"\"}}}],\"scatterpolargl\":[{\"type\":\"scatterpolargl\",\"marker\":{\"colorbar\":{\"outlinewidth\":0,\"ticks\":\"\"}}}],\"bar\":[{\"error_x\":{\"color\":\"#2a3f5f\"},\"error_y\":{\"color\":\"#2a3f5f\"},\"marker\":{\"line\":{\"color\":\"#E5ECF6\",\"width\":0.5},\"pattern\":{\"fillmode\":\"overlay\",\"size\":10,\"solidity\":0.2}},\"type\":\"bar\"}],\"scattergeo\":[{\"type\":\"scattergeo\",\"marker\":{\"colorbar\":{\"outlinewidth\":0,\"ticks\":\"\"}}}],\"scatterpolar\":[{\"type\":\"scatterpolar\",\"marker\":{\"colorbar\":{\"outlinewidth\":0,\"ticks\":\"\"}}}],\"histogram\":[{\"marker\":{\"pattern\":{\"fillmode\":\"overlay\",\"size\":10,\"solidity\":0.2}},\"type\":\"histogram\"}],\"scattergl\":[{\"type\":\"scattergl\",\"marker\":{\"colorbar\":{\"outlinewidth\":0,\"ticks\":\"\"}}}],\"scatter3d\":[{\"type\":\"scatter3d\",\"line\":{\"colorbar\":{\"outlinewidth\":0,\"ticks\":\"\"}},\"marker\":{\"colorbar\":{\"outlinewidth\":0,\"ticks\":\"\"}}}],\"scattermapbox\":[{\"type\":\"scattermapbox\",\"marker\":{\"colorbar\":{\"outlinewidth\":0,\"ticks\":\"\"}}}],\"scatterternary\":[{\"type\":\"scatterternary\",\"marker\":{\"colorbar\":{\"outlinewidth\":0,\"ticks\":\"\"}}}],\"scattercarpet\":[{\"type\":\"scattercarpet\",\"marker\":{\"colorbar\":{\"outlinewidth\":0,\"ticks\":\"\"}}}],\"carpet\":[{\"aaxis\":{\"endlinecolor\":\"#2a3f5f\",\"gridcolor\":\"white\",\"linecolor\":\"white\",\"minorgridcolor\":\"white\",\"startlinecolor\":\"#2a3f5f\"},\"baxis\":{\"endlinecolor\":\"#2a3f5f\",\"gridcolor\":\"white\",\"linecolor\":\"white\",\"minorgridcolor\":\"white\",\"startlinecolor\":\"#2a3f5f\"},\"type\":\"carpet\"}],\"table\":[{\"cells\":{\"fill\":{\"color\":\"#EBF0F8\"},\"line\":{\"color\":\"white\"}},\"header\":{\"fill\":{\"color\":\"#C8D4E3\"},\"line\":{\"color\":\"white\"}},\"type\":\"table\"}],\"barpolar\":[{\"marker\":{\"line\":{\"color\":\"#E5ECF6\",\"width\":0.5},\"pattern\":{\"fillmode\":\"overlay\",\"size\":10,\"solidity\":0.2}},\"type\":\"barpolar\"}],\"pie\":[{\"automargin\":true,\"type\":\"pie\"}]},\"layout\":{\"autotypenumbers\":\"strict\",\"colorway\":[\"#636efa\",\"#EF553B\",\"#00cc96\",\"#ab63fa\",\"#FFA15A\",\"#19d3f3\",\"#FF6692\",\"#B6E880\",\"#FF97FF\",\"#FECB52\"],\"font\":{\"color\":\"#2a3f5f\"},\"hovermode\":\"closest\",\"hoverlabel\":{\"align\":\"left\"},\"paper_bgcolor\":\"white\",\"plot_bgcolor\":\"#E5ECF6\",\"polar\":{\"bgcolor\":\"#E5ECF6\",\"angularaxis\":{\"gridcolor\":\"white\",\"linecolor\":\"white\",\"ticks\":\"\"},\"radialaxis\":{\"gridcolor\":\"white\",\"linecolor\":\"white\",\"ticks\":\"\"}},\"ternary\":{\"bgcolor\":\"#E5ECF6\",\"aaxis\":{\"gridcolor\":\"white\",\"linecolor\":\"white\",\"ticks\":\"\"},\"baxis\":{\"gridcolor\":\"white\",\"linecolor\":\"white\",\"ticks\":\"\"},\"caxis\":{\"gridcolor\":\"white\",\"linecolor\":\"white\",\"ticks\":\"\"}},\"coloraxis\":{\"colorbar\":{\"outlinewidth\":0,\"ticks\":\"\"}},\"colorscale\":{\"sequential\":[[0.0,\"#0d0887\"],[0.1111111111111111,\"#46039f\"],[0.2222222222222222,\"#7201a8\"],[0.3333333333333333,\"#9c179e\"],[0.4444444444444444,\"#bd3786\"],[0.5555555555555556,\"#d8576b\"],[0.6666666666666666,\"#ed7953\"],[0.7777777777777778,\"#fb9f3a\"],[0.8888888888888888,\"#fdca26\"],[1.0,\"#f0f921\"]],\"sequentialminus\":[[0.0,\"#0d0887\"],[0.1111111111111111,\"#46039f\"],[0.2222222222222222,\"#7201a8\"],[0.3333333333333333,\"#9c179e\"],[0.4444444444444444,\"#bd3786\"],[0.5555555555555556,\"#d8576b\"],[0.6666666666666666,\"#ed7953\"],[0.7777777777777778,\"#fb9f3a\"],[0.8888888888888888,\"#fdca26\"],[1.0,\"#f0f921\"]],\"diverging\":[[0,\"#8e0152\"],[0.1,\"#c51b7d\"],[0.2,\"#de77ae\"],[0.3,\"#f1b6da\"],[0.4,\"#fde0ef\"],[0.5,\"#f7f7f7\"],[0.6,\"#e6f5d0\"],[0.7,\"#b8e186\"],[0.8,\"#7fbc41\"],[0.9,\"#4d9221\"],[1,\"#276419\"]]},\"xaxis\":{\"gridcolor\":\"white\",\"linecolor\":\"white\",\"ticks\":\"\",\"title\":{\"standoff\":15},\"zerolinecolor\":\"white\",\"automargin\":true,\"zerolinewidth\":2},\"yaxis\":{\"gridcolor\":\"white\",\"linecolor\":\"white\",\"ticks\":\"\",\"title\":{\"standoff\":15},\"zerolinecolor\":\"white\",\"automargin\":true,\"zerolinewidth\":2},\"scene\":{\"xaxis\":{\"backgroundcolor\":\"#E5ECF6\",\"gridcolor\":\"white\",\"linecolor\":\"white\",\"showbackground\":true,\"ticks\":\"\",\"zerolinecolor\":\"white\",\"gridwidth\":2},\"yaxis\":{\"backgroundcolor\":\"#E5ECF6\",\"gridcolor\":\"white\",\"linecolor\":\"white\",\"showbackground\":true,\"ticks\":\"\",\"zerolinecolor\":\"white\",\"gridwidth\":2},\"zaxis\":{\"backgroundcolor\":\"#E5ECF6\",\"gridcolor\":\"white\",\"linecolor\":\"white\",\"showbackground\":true,\"ticks\":\"\",\"zerolinecolor\":\"white\",\"gridwidth\":2}},\"shapedefaults\":{\"line\":{\"color\":\"#2a3f5f\"}},\"annotationdefaults\":{\"arrowcolor\":\"#2a3f5f\",\"arrowhead\":0,\"arrowwidth\":1},\"geo\":{\"bgcolor\":\"white\",\"landcolor\":\"#E5ECF6\",\"subunitcolor\":\"white\",\"showland\":true,\"showlakes\":true,\"lakecolor\":\"white\"},\"title\":{\"x\":0.05},\"mapbox\":{\"style\":\"light\"}}},\"title\":{\"text\":\"Sobol Total indices\"},\"xaxis\":{\"title\":{\"text\":\"Parameters\"}},\"yaxis\":{\"title\":{\"text\":\"Sobol total index value [0-1]\"}}},                        {\"responsive\": true}                    ).then(function(){\n                            \nvar gd = document.getElementById('2cfad07b-3159-4611-b28c-127f2e74d58b');\nvar x = new MutationObserver(function (mutations, observer) {{\n        var display = window.getComputedStyle(gd).display;\n        if (!display || display === 'none') {{\n            console.log([gd, 'removed!']);\n            Plotly.purge(gd);\n            observer.disconnect();\n        }}\n}});\n\n// Listen for the removal of the full notebook cells\nvar notebookContainer = gd.closest('#notebook-container');\nif (notebookContainer) {{\n    x.observe(notebookContainer, {childList: true});\n}}\n\n// Listen for the clearing of the current output cell\nvar outputEl = gd.closest('.output');\nif (outputEl) {{\n    x.observe(outputEl, {childList: true});\n}}\n\n                        })                };                });            </script>        </div>"
     },
     "metadata": {},
     "output_type": "display_data"
    }
   ],
   "source": [
    "plot_sobol_st_bar(sa_analysis_sob.sensitivity_results)"
   ],
   "metadata": {
    "collapsed": false,
    "pycharm": {
     "name": "#%%\n"
    }
   }
  },
  {
   "cell_type": "markdown",
   "source": [
    "The Sobol total index represent an uncertain parameter single effect plus the sum of all its interactions on the considered indicator.\n",
    "The sum of all the index shall be equal to one.\n",
    "Salib computes an estimation of this index. Therefore, the sum of the above index is ~0.94. The uncertainty bar shows the confidence interval of the index value.\n",
    "\n",
    "In this use case, the Sobol method sorted the uncertain parameters in the same order as Morris.\n",
    "However, the confidence intervals of the index overlap and the sum is around 0.94. A bigger sample could improve the results."
   ],
   "metadata": {
    "collapsed": false,
    "pycharm": {
     "name": "#%% md\n"
    }
   }
  },
  {
   "cell_type": "markdown",
   "source": [
    "## TODO Second order Sobol index"
   ],
   "metadata": {
    "collapsed": false,
    "pycharm": {
     "name": "#%% md\n"
    }
   }
  }
 ],
 "metadata": {
  "kernelspec": {
   "display_name": "Python 3",
   "language": "python",
   "name": "python3"
  },
  "language_info": {
   "codemirror_mode": {
    "name": "ipython",
    "version": 2
   },
   "file_extension": ".py",
   "mimetype": "text/x-python",
   "name": "python",
   "nbconvert_exporter": "python",
   "pygments_lexer": "ipython2",
   "version": "2.7.6"
  }
 },
 "nbformat": 4,
 "nbformat_minor": 0
}