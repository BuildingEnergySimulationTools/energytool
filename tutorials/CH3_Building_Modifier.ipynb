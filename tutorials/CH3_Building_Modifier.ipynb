{
 "cells": [
  {
   "cell_type": "code",
   "metadata": {},
   "source": [
    "import os\n",
    "from pathlib import Path\n",
    "\n",
    "TUTORIAL_DIR = Path(os.getcwd()).as_posix()"
   ],
   "outputs": [],
   "execution_count": null
  },
  {
   "cell_type": "markdown",
   "metadata": {
    "collapsed": false,
    "jupyter": {
     "outputs_hidden": false
    }
   },
   "source": [
    "In this tutorial we will use the same building as the one describe in the Building tutorial. Please refer to this file to understand <code>Building</code>.\n",
    "The use case is a 2 floors 4 apartments residential building.\n",
    "# Energytool Systems and Modifiers"
   ]
  },
  {
   "cell_type": "markdown",
   "metadata": {
    "collapsed": false,
    "jupyter": {
     "outputs_hidden": false
    }
   },
   "source": [
    "This notebook demonstrates how to define and apply Energy Efficiency Measures (EEMs) and building systems using `energytool` and `corrai`.\n",
    "\n",
    "We distinguish two complementary layers of building model customization:\n",
    "\n",
    "- **Systems**: These include heating, cooling, ventilation, lighting, domestic hot water (DHW), sensors, etc. They are added via `building.add_system(...)` and simulate physical systems or monitoring logic. Each system inherits from the `System` base class and must define how it affects the simulation, before and/or after it runs.\n",
    "\n",
    "- **Modifiers**: These directly modify the IDF (EnergyPlus input file) to apply specific design or operational changes (window types, wall composition, airflow settings, etc.). They are applied via dedicated functions such as `set_external_windows`, `set_opaque_surface_construction`, and others in the `energytool.modifier` module.\n",
    "\n",
    "In this tutorial, we explore how to:\n",
    "- Manually assign building systems to simulate realistic energy usage (e.g. boiler, heat pump, ventilation).\n",
    "- Define modifiers and apply them to the IDF to implement EEMs.\n",
    "- Combine multiple variants and simulate all combinations using `simulate_variants()` from the `corrai` library.\n",
    "- Treat both system types (like `HeaterSimple`, `AirHandlingUnit`) and modifiers as unified elements in the variant dictionary, allowing easy scenario generation and comparison.\n",
    "\n",
    "This approach enables a flexible way to evaluate the energy performance of various design and retrofit strategies using Python."
   ]
  },
  {
   "cell_type": "markdown",
   "metadata": {
    "collapsed": false,
    "jupyter": {
     "outputs_hidden": false
    }
   },
   "source": [
    "## Building systems"
   ]
  },
  {
   "cell_type": "markdown",
   "metadata": {
    "collapsed": false,
    "jupyter": {
     "outputs_hidden": false
    }
   },
   "source": [
    "Building systems represent the core technical components that define how the building operates: heating, cooling, ventilation, lighting, hot water, renewable production, sensors, and more. These systems are added programmatically to the `Building` object using the `add_system()` method and are defined as subclasses of the abstract `System` base class.\n",
    "\n",
    "Each system defines its own logic through two key methods:\n",
    "- `pre_process(idf)`: to prepare or modify the IDF before simulation (e.g., adding output variables).\n",
    "- `post_process(idf, results)`: to process simulation results and calculate performance indicators (e.g., energy use, thermal comfort).\n",
    "\n",
    "This modular structure makes it easy to plug in custom systems (like `HeaterSimple`, `AirHandlingUnit`, or `Overshoot28`) and simulate their impact in a reusable and traceable way.\n",
    "Below are a few examples of possible systems."
   ]
  },
  {
   "cell_type": "code",
   "metadata": {},
   "source": [
    "from energytool.building import Building, SimuOpt\n",
    "Building.set_idd(Path(r\"C:\\EnergyPlusV9-4-0\"))\n",
    "\n",
    "from energytool.system import (\n",
    "    HeaterSimple,\n",
    "    HeatingAuxiliary,\n",
    "    AirHandlingUnit,\n",
    "    AHUControl,\n",
    "    DHWIdealExternal,\n",
    "    ArtificialLighting,\n",
    "    Overshoot28,\n",
    "    Sensor\n",
    ")"
   ],
   "outputs": [],
   "execution_count": null
  },
  {
   "cell_type": "code",
   "metadata": {},
   "source": "building = Building(idf_path=Path(TUTORIAL_DIR) / \"resources/tuto_building.idf\")",
   "outputs": [],
   "execution_count": null
  },
  {
   "cell_type": "code",
   "metadata": {},
   "source": [
    "zones = [\n",
    "    \"Block1:ApptX1W\",\n",
    "    \"Block1:ApptX1E1\",\n",
    "    \"Block1:ApptX1E\",\n",
    "    \"Block2:ApptX2W\",\n",
    "    \"Block2:ApptX2E\",\n",
    "]"
   ],
   "outputs": [],
   "execution_count": null
  },
  {
   "cell_type": "code",
   "metadata": {},
   "source": [
    "# Simulate a boiler, multiplying the heat needs by a constant COP\n",
    "building.add_system(HeaterSimple(\n",
    "    name=\"Gaz_boiler\", \n",
    "    zones = zones,\n",
    "    cop=0.89\n",
    "))\n",
    "\n",
    "\n",
    "# Estimate circulation pumps energy consumption multiplying the heat needs by a constant (default 0.05)\n",
    "building.add_system(HeatingAuxiliary(\n",
    "    name=\"Circulation_pumps\", \n",
    "    zones = zones,\n",
    "    ratio=0.05,\n",
    "))\n",
    "\n",
    "\n",
    "# Simulate fan consumption multiplying extracted air volume by a constant coefficient\n",
    "# Do not have a heat exchanger\n",
    "building.add_system(AirHandlingUnit(\n",
    "    name=\"Extraction_fan\", \n",
    "    zones = zones,\n",
    "    fan_energy_coefficient=0.23, # Wh/m3\n",
    "    heat_recovery_efficiency=False\n",
    "))\n",
    "\n",
    "\n",
    "# Simulate clock regulation\n",
    "# Ventilation works according to specified schedule\n",
    "#  is defined in the energytool/resources/resources_idf.idf file\n",
    "building.add_system(AHUControl(\n",
    "    name=\"AHU_control\", \n",
    "    zones = zones,\n",
    "    control_strategy=\"Schedule\",\n",
    "    schedule_name=\"OFF_09h_18h_ON_18h_24h_ON_WE_FULL_YEAR\",\n",
    "))\n",
    "\n",
    "\n",
    "# Estimate Domestic Hot Water production energy needs\n",
    "# Use the number of people defined in the idf file to estimate the total volume.\n",
    "# Otherwise, energy calculation is independent of energyplus\n",
    "building.add_system(DHWIdealExternal(\n",
    "    name=\"DHW_Electric_accumulation\", \n",
    "    zones = zones,\n",
    "    cop=0.85\n",
    "))\n",
    "\n",
    "\n",
    "# Estimate Lighting consumption using a constant power ratio.\n",
    "# Modify the existing energyplus object\n",
    "building.add_system(ArtificialLighting(\n",
    "    name=\"Random_lights\",\n",
    "    zones = zones,\n",
    "    power_ratio=4 # W/m²\n",
    "))\n",
    "        \n",
    "# Add variables for summer thermal comfort calculation\n",
    "building.add_system(Sensor(\n",
    "    name=\"ZOP\", \n",
    "    variables=[\"Zone Operative Temperature\"],\n",
    "    key_values=\"*\"\n",
    "))\n",
    "\n",
    "building.add_system(Overshoot28(\n",
    "    name=\"thermal comfort\",\n",
    "    temp_threshold=27,\n",
    "    occupancy_in_output=True\n",
    "))"
   ],
   "outputs": [],
   "execution_count": null
  },
  {
   "cell_type": "code",
   "metadata": {},
   "source": [
    "building"
   ],
   "outputs": [],
   "execution_count": null
  },
  {
   "cell_type": "markdown",
   "metadata": {
    "collapsed": false,
    "jupyter": {
     "outputs_hidden": false
    }
   },
   "source": [
    "## Building modifiers"
   ]
  },
  {
   "cell_type": "markdown",
   "metadata": {
    "collapsed": false,
    "jupyter": {
     "outputs_hidden": false
    }
   },
   "source": [
    "<b>Define and Apply Variants using energytool.modifier and corrai.variant</b>\n",
    "\n",
    "Building modifiers are functions that directly alter the geometry, construction, or control logic of the EnergyPlus model (IDF). These modifiers allow you to apply Energy Efficiency Measures (EEMs) by programmatically changing window properties, wall compositions, airflow openings, blinds, and more.\n",
    "\n",
    "Modifiers are implemented as standalone functions in the `energytool.modifier` module. Each modifier takes the `Building` model and a description dictionary as input, and updates the IDF accordingly. For example, `set_external_windows()` can change the glazing type of selected surfaces, while `set_opaque_surface_construction()` can modify the wall layers.\n",
    "\n",
    "These modifiers can be called manually or integrated into a variant workflow, allowing you to define a set of design alternatives and automatically simulate their impact."
   ]
  },
  {
   "cell_type": "code",
   "metadata": {},
   "source": [
    "from energytool.modifier import (\n",
    "    set_external_windows, \n",
    "    set_opaque_surface_construction,\n",
    "    set_system\n",
    ")"
   ],
   "outputs": [],
   "execution_count": null
  },
  {
   "cell_type": "markdown",
   "metadata": {},
   "source": [
    "For instance, let's try to modify the insulation composition. \n",
    "It must be defined in a dictionary, then used in function <code>set_opaque_surface_construction"
   ]
  },
  {
   "cell_type": "code",
   "metadata": {},
   "source": [
    "wall_insulation_compo = {\n",
    "    \"EEM1_Wall_int_insulation\" : [\n",
    "        {\n",
    "            \"Name\": \"Project medium concrete block_.2\",\n",
    "            \"Thickness\": 0.2,\n",
    "            \"Conductivity\": 0.51,\n",
    "            \"Density\": 1400,\n",
    "            \"Specific_Heat\": 1000,\n",
    "        },\n",
    "        {\n",
    "            \"Name\": \"Laine_15cm\",\n",
    "            \"Thickness\": 0.15,\n",
    "            \"Conductivity\": 0.032,\n",
    "            \"Density\": 40,\n",
    "            \"Specific_Heat\": 1000,\n",
    "        },\n",
    "    ]\n",
    "}\n",
    "\n",
    "set_opaque_surface_construction(\n",
    "    model=building,\n",
    "    surface_type=\"Wall\",\n",
    "    outside_boundary_condition=\"Outdoors\",\n",
    "    description=wall_insulation_compo\n",
    ")  "
   ],
   "outputs": [],
   "execution_count": null
  },
  {
   "cell_type": "markdown",
   "metadata": {},
   "source": [
    "Let's check if materials with names \"Laine_15cm\" and \"Project medium concrete block_.2\" do exist with the correct defined properties, as well as the construction \"EEM1_Wall_int_insulation\", by looking into the idf."
   ]
  },
  {
   "cell_type": "code",
   "metadata": {},
   "source": [
    "for material in building.idf.idfobjects[\"MATERIAL\"]:\n",
    "    if \"Laine_15cm\" in material.Name or \"Project medium concrete block_.2\" in material.Name:\n",
    "        print(material)"
   ],
   "outputs": [],
   "execution_count": null
  },
  {
   "cell_type": "code",
   "metadata": {},
   "source": [
    "for construction in building.idf.idfobjects[\"CONSTRUCTION\"]:\n",
    "    if \"EEM1_Wall_int_insulation\" in construction.Name:\n",
    "        print(construction)"
   ],
   "outputs": [],
   "execution_count": null
  },
  {
   "cell_type": "markdown",
   "metadata": {},
   "source": [
    "All good. \n",
    "\n",
    "Likewise, we can change various properties/composition using the other functions:  \n",
    "- <code>set_external_windows</code>: Replace windows in an EnergyPlus building model with new window descriptions: UFactor, Solar_Heat_Gain_Coefficient, Visible_Transmittance\n",
    "- <code>set_afn_surface_opening_factor</code>: Modify AirFlowNetwork:Multizone:Surface WindowDoor_Opening_Factor_or_Crack_Factor\n",
    "    based on their name\n",
    "- <code>set_blinds_solar_transmittance</code> : Modify WindowMaterial:Shade Solar_Transmittance (or/and Reflectance) based\n",
    "    on the given description.\n",
    "\n",
    "Here is an example for window modifications:"
   ]
  },
  {
   "cell_type": "code",
   "metadata": {},
   "source": [
    "window_modifier = {\n",
    "    \"Window_variant\": {\n",
    "        \"Name\": \"Simple window_B4R_simple - modified\",\n",
    "        \"UFactor\": 1.3,\n",
    "        \"Solar_Heat_Gain_Coefficient\": 0.5,\n",
    "        \"Visible_Transmittance\": 0.8\n",
    "    }\n",
    "}\n",
    "\n",
    "set_external_windows(\n",
    "    model=building,\n",
    "    description=window_modifier,\n",
    "    boundary_conditions = \"Outdoors\"\n",
    ")"
   ],
   "outputs": [],
   "execution_count": null
  },
  {
   "cell_type": "code",
   "metadata": {},
   "source": [
    "building.idf.idfobjects[\"WindowMaterial:SimpleGlazingSystem\"]"
   ],
   "outputs": [],
   "execution_count": null
  },
  {
   "cell_type": "markdown",
   "metadata": {},
   "source": [
    "When evaluating multiple design or system variants, manually applying and simulating each one can quickly become tedious and error-prone.\n",
    "\n",
    "To streamline this process, we use the `corrai` library, which offers a structured and automated workflow for:\n",
    "\n",
    "- Defining multiple variants (modifiers or systems),\n",
    "- Generating combinations of those variants (e.g., renovation packages),\n",
    "- Applying the corresponding changes to the building model,\n",
    "- Launching simulations for all selected combinations in parallel if needed.\n",
    "\n",
    "This approach enables rapid testing of Energy Efficiency Measures (EEMs), system alternatives, or control strategies in a reproducible and scalable way.\n",
    "\n",
    "The simulation pipeline is organized into a few simple steps, described below."
   ]
  },
  {
   "cell_type": "markdown",
   "metadata": {},
   "source": [
    "### Step 1 - Write variants and associated modifiers"
   ]
  },
  {
   "cell_type": "markdown",
   "metadata": {},
   "source": [
    "The variants for windows, walls, blinds, apertures, systems, etc., are explained in a dictionary, using enum from <code>VriantKeys</code> of library **corrAI**."
   ]
  },
  {
   "cell_type": "code",
   "metadata": {},
   "source": [
    "from corrai.variant import VariantKeys"
   ],
   "outputs": [],
   "execution_count": null
  },
  {
   "cell_type": "code",
   "metadata": {},
   "source": [
    "variant_dict = {\n",
    "    \"EEM_Wall_int_insulation\": {\n",
    "        VariantKeys.MODIFIER: \"walls_modifier\", \n",
    "        VariantKeys.ARGUMENTS: {\n",
    "            \"name_filter\": \"\", # all, but could be \"ApptX1W\" for instance\n",
    "            \"surface_type\": \"Wall\"\n",
    "        },\n",
    "        VariantKeys.DESCRIPTION: {\n",
    "            \"EEM1_Wall_int_insulation\": [\n",
    "                {\n",
    "                    \"Name\": \"Project medium concrete block_.2\",\n",
    "                    \"Thickness\": 0.2,\n",
    "                    \"Conductivity\": 0.51,\n",
    "                    \"Density\": 1400,\n",
    "                    \"Specific_Heat\": 1000,\n",
    "                },\n",
    "                {\n",
    "                    \"Name\": \"Laine_15cm\",\n",
    "                    \"Thickness\": 0.15,\n",
    "                    \"Conductivity\": 0.032,\n",
    "                    \"Density\": 40,\n",
    "                    \"Specific_Heat\": 1000,\n",
    "                },\n",
    "            ]\n",
    "        }\n",
    "    },\n",
    "    \"EEM_Wall_ext_insulation\": {\n",
    "        VariantKeys.MODIFIER: \"walls_modifier\",\n",
    "        VariantKeys.ARGUMENTS: {\n",
    "            \"name_filter\": \"\",\n",
    "            \"surface_type\": \"Wall\"\n",
    "        },\n",
    "        VariantKeys.DESCRIPTION: {\n",
    "            \"EEM2_Wall_ext_insulation\": [\n",
    "                {\n",
    "                    \"Name\": \"Coating\",\n",
    "                    \"Thickness\": 0.01,\n",
    "                    \"Conductivity\": 0.1,\n",
    "                    \"Density\": 400,\n",
    "                    \"Specific_Heat\": 1200,\n",
    "                },\n",
    "                {\n",
    "                    \"Name\": \"Laine_30cm\",\n",
    "                    \"Thickness\": 0.30,\n",
    "                    \"Conductivity\": 0.032,\n",
    "                    \"Density\": 40,\n",
    "                    \"Specific_Heat\": 1000,\n",
    "                },\n",
    "                {\n",
    "                    \"Name\": \"Project medium concrete block_.2\",\n",
    "                    \"Thickness\": 0.2,\n",
    "                    \"Conductivity\": 0.51,\n",
    "                    \"Density\": 1400,\n",
    "                    \"Specific_Heat\": 1000,\n",
    "                },\n",
    "            ]\n",
    "        }\n",
    "    },\n",
    "    \"EEM_Double_glazing\": {\n",
    "        VariantKeys.MODIFIER: \"windows\",\n",
    "        VariantKeys.ARGUMENTS: {\n",
    "            \"surface_name_filter\": \"\"\n",
    "        },\n",
    "        VariantKeys.DESCRIPTION: {\n",
    "            \"EEM3_Double_glazing\": {\n",
    "                \"Name\": \"Double_glazing\",\n",
    "                \"UFactor\": 1.1,\n",
    "                \"Solar_Heat_Gain_Coefficient\": 0.41,\n",
    "                \"Visible_Transmittance\": 0.71,\n",
    "            }\n",
    "        }\n",
    "    },\n",
    "\n",
    "    \"EEM_simple_glazing\": {\n",
    "        VariantKeys.MODIFIER: \"windows\",\n",
    "        VariantKeys.ARGUMENTS: {\n",
    "            \"surface_name_filter\": \"\"\n",
    "        },\n",
    "        VariantKeys.DESCRIPTION: {\n",
    "            \"EEM3_Single_glazing\": {\n",
    "                \"Name\": \"Single_glazing\",\n",
    "                \"UFactor\":2,\n",
    "                \"Solar_Heat_Gain_Coefficient\": 0.4,\n",
    "                \"Visible_Transmittance\": 0.81,\n",
    "            }\n",
    "        }\n",
    "    },\n",
    "\n",
    "    \"EEM_Gaz_Boiler\": {\n",
    "        VariantKeys.MODIFIER: \"heating_system\",\n",
    "        VariantKeys.ARGUMENTS: {\n",
    "            \"system_name\": \"Main_boiler\"\n",
    "        },\n",
    "        VariantKeys.DESCRIPTION: {\n",
    "            \"EEM1_Gaz_Boiler\": HeaterSimple(\n",
    "                name=\"Gaz_boiler\",\n",
    "                zones=zones,\n",
    "                cop=0.89\n",
    "            )\n",
    "        }\n",
    "    },\n",
    "    \"EEM_Heat_Pump\": {\n",
    "        VariantKeys.MODIFIER: \"heating_system\",\n",
    "        VariantKeys.ARGUMENTS: {\n",
    "            \"system_name\": \"Main_boiler\"\n",
    "        },\n",
    "        VariantKeys.DESCRIPTION: {\n",
    "            \"EEM2_Heat_Pump\": HeaterSimple(\n",
    "                name=\"PAC\",\n",
    "                zones=zones,\n",
    "                cop=3.0\n",
    "            )\n",
    "        }\n",
    "    }\n",
    "}"
   ],
   "outputs": [],
   "execution_count": null
  },
  {
   "cell_type": "markdown",
   "metadata": {},
   "source": [
    "### Step 2 - Define the Modifier Map\n",
    "\n",
    "Generate a dictionary that maps modifier values (name) to associated variant names and list of combined variants based on the provided variant dictionary.\n",
    "\n",
    "Each key of the <code>MOD_MAP</code> dictionary corresponds to a variant name (as found in the variant dictionnary descriptions), and each value is a function from <code>energytool.modifier</code> that knows how to apply that variant to the model."
   ]
  },
  {
   "cell_type": "code",
   "metadata": {},
   "source": [
    "from corrai.variant import (\n",
    "    VariantKeys,\n",
    "    simulate_variants,\n",
    "    get_combined_variants,\n",
    "    get_modifier_dict,\n",
    ")"
   ],
   "outputs": [],
   "execution_count": null
  },
  {
   "cell_type": "code",
   "metadata": {},
   "source": [
    "mod_map = {\n",
    "    \"walls_modifier\": set_opaque_surface_construction,\n",
    "    \"windows\": set_external_windows,\n",
    "    \"heating_system\": set_system,\n",
    "}"
   ],
   "outputs": [],
   "execution_count": null
  },
  {
   "cell_type": "code",
   "metadata": {},
   "source": [
    "mod_dict = get_modifier_dict(variant_dict)"
   ],
   "outputs": [],
   "execution_count": null
  },
  {
   "cell_type": "code",
   "metadata": {},
   "source": [
    "mod_dict"
   ],
   "outputs": [],
   "execution_count": null
  },
  {
   "cell_type": "markdown",
   "metadata": {},
   "source": [
    "Here are all the possible combinations, using <code>get_combined_variants</code>."
   ]
  },
  {
   "cell_type": "code",
   "metadata": {},
   "source": [
    "combinations = get_combined_variants(variant_dict)"
   ],
   "outputs": [],
   "execution_count": null
  },
  {
   "cell_type": "code",
   "metadata": {},
   "source": [
    "combinations"
   ],
   "outputs": [],
   "execution_count": null
  },
  {
   "cell_type": "markdown",
   "metadata": {},
   "source": [
    "### Step 3 - Run simulations\n",
    "\n",
    "Let's now run all simulations and use <code>simulate_variants</code> from **CorrAI**.\n",
    "\n",
    "Optional arguments are:\n",
    "- <code>n_cpu</code> for the number of CPU cores to use for parallel execution. Default is -1  meaning all CPUs but one, 0 is all CPU, 1 is sequential, >1 is the numbe   of cp\n",
    "- <code>save_path</code> if you want to save each generated idf files. You should specify the file extension \"idf\" in file_extension.\n",
    "- <code>custom_combination</code> if you pre-filtered combinations from get_combined_variants applied on VARIANT_DICT\n",
    "- <code>add_existing</code> (default to False) if you want to add to your combinations existing scenarios not already specified in the variant dictionary."
   ]
  },
  {
   "cell_type": "code",
   "metadata": {},
   "source": [
    "sim_opt = {\n",
    "    SimuOpt.EPW_FILE.value: Path(TUTORIAL_DIR) / r\"resources/FRA_Bordeaux.075100_IWEC.epw\",\n",
    "    SimuOpt.OUTPUTS.value: \"SYSTEM|SENSOR\",\n",
    "    SimuOpt.START.value: \"2025-01-01\",\n",
    "    SimuOpt.STOP.value: \"2025-01-19\",\n",
    "    SimuOpt.VERBOSE.value: \"v\", \n",
    "}"
   ],
   "outputs": [],
   "execution_count": null
  },
  {
   "cell_type": "code",
   "metadata": {},
   "source": [
    "result = simulate_variants(\n",
    "    model=building,\n",
    "    variant_dict=variant_dict,\n",
    "    modifier_map=mod_map,\n",
    "    simulation_options=sim_opt,\n",
    "    n_cpu=1,\n",
    ")"
   ],
   "outputs": [],
   "execution_count": null
  },
  {
   "cell_type": "markdown",
   "metadata": {},
   "source": [
    "### Step 4 - Compare results"
   ]
  },
  {
   "cell_type": "code",
   "metadata": {},
   "source": [
    "joules_to_kWhef = 1 / 3.6e6\n",
    "\n",
    "for i, res in enumerate(result):\n",
    "    result[i][\"TOTAL_SYSTEM_Energy_(kWh)\"] = res[\"TOTAL_SYSTEM_Energy_[J]\"] * joules_to_kWhef\n",
    "    temp_cols = [col for col in res.columns if \"Zone Operative Temperature\" in col]\n",
    "    result[i][\"Zone Operative Temperature mean_(°C)\"] = res[temp_cols].mean(axis=1)"
   ],
   "outputs": [],
   "execution_count": null
  },
  {
   "cell_type": "code",
   "metadata": {},
   "source": [
    "import plotly.express as px\n",
    "import pandas as pd\n",
    "\n",
    "all_results = pd.concat(\n",
    "    [\n",
    "        res.assign(Scenario=str(combinations[i]))\n",
    "        for i, res in enumerate(result)\n",
    "    ],\n",
    "    ignore_index=False \n",
    ")\n",
    "\n",
    "fig = px.line(\n",
    "    all_results,\n",
    "    x=all_results.index,\n",
    "    y=\"TOTAL_SYSTEM_Energy_(kWh)\",\n",
    "    color=\"Scenario\",\n",
    "    title=\"Total System Energy (kWh) over time for all scenarios\"\n",
    ")\n",
    "\n",
    "fig.update_layout(\n",
    "    legend_title_text=\"Scenario\",\n",
    "    legend_orientation=\"h\",\n",
    "    legend_yanchor=\"bottom\",\n",
    "    legend_y=-1.5,\n",
    "    legend_xanchor=\"center\",\n",
    "    legend_x=0.5\n",
    ")\n",
    "fig.show()"
   ],
   "outputs": [],
   "execution_count": null
  },
  {
   "cell_type": "code",
   "metadata": {},
   "source": [
    "import pandas as pd\n",
    "\n",
    "summary = pd.DataFrame([\n",
    "    {\n",
    "        \"Mean Zone Operative Temperature (°C)\": res[\"Zone Operative Temperature mean_(°C)\"].mean(),\n",
    "        \"Total System Energy (kWh)\": res[\"TOTAL_SYSTEM_Energy_(kWh)\"].sum()\n",
    "    }\n",
    "    for res in result\n",
    "], index=combinations)\n",
    "\n",
    "summary"
   ],
   "outputs": [],
   "execution_count": null
  }
 ],
 "metadata": {
  "kernelspec": {
   "display_name": "Python 3 (ipykernel)",
   "language": "python",
   "name": "python3"
  },
  "language_info": {
   "codemirror_mode": {
    "name": "ipython",
    "version": 3
   },
   "file_extension": ".py",
   "mimetype": "text/x-python",
   "name": "python",
   "nbconvert_exporter": "python",
   "pygments_lexer": "ipython3",
   "version": "3.10.13"
  }
 },
 "nbformat": 4,
 "nbformat_minor": 4
}
