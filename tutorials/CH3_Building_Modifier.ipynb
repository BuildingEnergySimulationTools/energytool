{
 "cells": [
  {
   "cell_type": "code",
   "execution_count": null,
   "metadata": {
    "collapsed": true
   },
   "outputs": [],
   "source": [
    "import os\n",
    "from pathlib import Path\n",
    "\n",
    "TUTORIAL_DIR = Path(os.getcwd()).as_posix()"
   ]
  },
  {
   "cell_type": "markdown",
   "source": [
    "# Energytool Modifier"
   ],
   "metadata": {
    "collapsed": false
   }
  },
  {
   "cell_type": "markdown",
   "source": [
    "In a renovation process, choosing between Energy Efficiency Measure (EEM) is a difficult tasks. There is often a lot of measures, and they can be combined (insulate walls + change boiler), (insulate walls + change windows), (change windows + change boiler).\n",
    "Also several indicator are used to make a choice :\n",
    "- EEM cost\n",
    "- EEM effect on energy savings\n",
    "- EEM effect on occupant thermal comfort\n",
    "- EEM CO2 cost\n",
    "- ...\n",
    "\n",
    "The objective of the <code>modifier</code> module is to provide a framework to specify all the possible EEM. Simulate every possible combination, and provide metrics to the user to guide him in his choice."
   ],
   "metadata": {
    "collapsed": false
   }
  },
  {
   "cell_type": "markdown",
   "source": [
    "## Building definition"
   ],
   "metadata": {
    "collapsed": false
   }
  },
  {
   "cell_type": "markdown",
   "source": [
    "In this tutorial we will use the same building as the one describe in the Building tutorial. Please refer to this file to understand <code>Building</code> and hvac system modeling.\n",
    "\n",
    "The use case is a 2 floors 4 apartments residential building."
   ],
   "metadata": {
    "collapsed": false
   }
  },
  {
   "cell_type": "code",
   "execution_count": null,
   "outputs": [],
   "source": [
    "from energytool.building import Building\n",
    "from energytool.indicators import AddOutputVariables\n",
    "import energytool.system as st"
   ],
   "metadata": {
    "collapsed": false
   }
  },
  {
   "cell_type": "code",
   "execution_count": null,
   "outputs": [],
   "source": [
    "building = Building(idf_path=Path(TUTORIAL_DIR) / \"resources/tuto_building.idf\")"
   ],
   "metadata": {
    "collapsed": false
   }
  },
  {
   "cell_type": "code",
   "execution_count": null,
   "outputs": [],
   "source": [
    "# Simulate a boiler, multiplying the heat needs by a constant COP\n",
    "building.heating_system[\"Main_boiler\"] = st.HeaterSimple(\n",
    "    name=\"Gaz_boiler\",\n",
    "    building=building,\n",
    "    cop=0.89\n",
    ")\n",
    "\n",
    "# Estimate circulation pumps energy consumption multiplying the heat needs by a constant (default 0.05)\n",
    "building.heating_system[\"Circulation_pumps\"] = st.AuxiliarySimplified(\n",
    "    name=\"Heater_aux\",\n",
    "    building=building\n",
    ")\n",
    "\n",
    "# Simulate fan consumption multiplying extracted air volume by a constant coefficient\n",
    "# Do not have a heat exchanger\n",
    "building.ventilation_system[\"Main_AHU\"] = st.AirHandlingUnit(\n",
    "    name=\"Extraction_fan\",\n",
    "    building=building,\n",
    "    fan_energy_coefficient=0.23, # Wh/m3\n",
    "    heat_recovery_efficiency=False\n",
    ")\n",
    "\n",
    "# Simulate clock regulation\n",
    "# Ventilation works according to specified schedule\n",
    "#  is defined in the energytool/resources/resources_idf.idf file\n",
    "building.ventilation_system[\"AHU_control\"] = st.AHUControl(\n",
    "    name=\"Hygro_intakes\",\n",
    "    building=building,\n",
    "    control_strategy=\"Schedule\",\n",
    "    schedule_name=\"OFF_09h_18h_ON_18h_24h_ON_WE_FULL_YEAR\",\n",
    ")\n",
    "\n",
    "# Estimate Domestic Hot Water production energy needs\n",
    "# Use the number of people defined in the idf file to estimate the total volume.\n",
    "# Otherwise, energy calculation is independent of energyplus\n",
    "building.dwh_system[\"DHW_production\"] = st.DHWIdealExternal(\n",
    "    name=\"Electric_accumulation\",\n",
    "    building=building,\n",
    "    cop=0.85,\n",
    ")\n",
    "\n",
    "# Estimate Domestic Hot Water production energy needs\n",
    "# Use the number of people defined in the idf file to estimate the total volume.\n",
    "# Otherwise, energy calculation is independent of energyplus\n",
    "building.dwh_system[\"DHW_production\"] = st.DHWIdealExternal(\n",
    "    name=\"Electric_accumulation\",\n",
    "    building=building,\n",
    "    cop=0.85,\n",
    ")\n",
    "\n",
    "# Estimate Lighting consumption using a constant power ratio.\n",
    "# Modify the existing energyplus object\n",
    "building.artificial_lighting_system[\"Lights\"] = st.ArtificialLightingSimple(\n",
    "    name=\"Random_lights\",\n",
    "    building=building,\n",
    "    power_ratio=4 # W/m²\n",
    ")\n",
    "\n",
    "# Add 2 variables for summer thermal comfort calculation\n",
    "building.other[\"Thermal_comfort_variables\"] = AddOutputVariables(\n",
    "    name=\"HQE_discomfort\",\n",
    "    building=building,\n",
    "    variables=[\"Zone Operative Temperature\", \"Zone People Occupant Count\"]\n",
    ")"
   ],
   "metadata": {
    "collapsed": false
   }
  },
  {
   "cell_type": "markdown",
   "source": [
    "## EEM specifications"
   ],
   "metadata": {
    "collapsed": false
   }
  },
  {
   "cell_type": "markdown",
   "source": [
    "In this tutorial, to reduce computation time, we will define 4 EEM and 3 modifiers :\n",
    "- *EEM1_Wall_int_insulation* : 15mm of glass wool on the inside of the building\n",
    "- *EEM2_Wall_ext_insulation* : 30mm of glass wool on the external face\n",
    "- *EEM3_Double_glazing* : Replace outside windows\n",
    "- *EEM4_HP_main_heater* : Replace existing heater by a heatpump"
   ],
   "metadata": {
    "collapsed": false
   }
  },
  {
   "cell_type": "markdown",
   "source": [
    "Let's initialize a modifier <code>list</code> where we will append all our modifications"
   ],
   "metadata": {
    "collapsed": false
   }
  },
  {
   "cell_type": "code",
   "execution_count": null,
   "outputs": [],
   "source": [
    "modifier_list = []"
   ],
   "metadata": {
    "collapsed": false
   }
  },
  {
   "cell_type": "markdown",
   "source": [
    "## External wall EEM\n",
    "\n",
    "External surface modification are done the same way using a python <code>dict</code>. The <code>keys</code> are the EEMs names, the <code>values</code> are a list of <code>dict</code> containing wall materials thermal properties.\n",
    "\n",
    "The following example configure 2 EEMs named \"EEM1_Wall_int_insulation\" and \"EEM2_Wall_ext_insulation\". The first EEM have a 15cm glass wool internal insulation, the second have a 30cm glass wool external insulation"
   ],
   "metadata": {
    "collapsed": false
   }
  },
  {
   "cell_type": "code",
   "execution_count": null,
   "outputs": [],
   "source": [
    "import energytool.modifier as mo"
   ],
   "metadata": {
    "collapsed": false
   }
  },
  {
   "cell_type": "code",
   "execution_count": null,
   "outputs": [],
   "source": [
    "wall_variant_dict = {\n",
    "    \"EEM1_Wall_int_insulation\": [\n",
    "        # Outside Layer\n",
    "        {\n",
    "            \"Name\": \"Project medium concrete block_.2\",\n",
    "            \"Thickness\": 0.2,\n",
    "            \"Conductivity\": 0.51,\n",
    "            \"Density\": 1400,\n",
    "            \"Specific_Heat\": 1000,\n",
    "        },\n",
    "        {\n",
    "            \"Name\": \"Laine_15cm\",\n",
    "            \"Thickness\": 0.15,\n",
    "            \"Conductivity\": 0.032,\n",
    "            \"Density\": 40,\n",
    "            \"Specific_Heat\": 1000,\n",
    "        },\n",
    "    ],\n",
    "    \"EEM2_Wall_ext_insulation\": [\n",
    "        # Outside Layer\n",
    "        {\n",
    "            \"Name\": \"Coating\",\n",
    "            \"Thickness\": 0.01,\n",
    "            \"Conductivity\": 0.1,\n",
    "            \"Density\": 400,\n",
    "            \"Specific_Heat\": 1200,\n",
    "        },\n",
    "        {\n",
    "            \"Name\": \"Laine_30cm\",\n",
    "            \"Thickness\": 0.30,\n",
    "            \"Conductivity\": 0.032,\n",
    "            \"Density\": 40,\n",
    "            \"Specific_Heat\": 1000,\n",
    "        },\n",
    "        {\n",
    "            \"Name\": \"Project medium concrete block_.2\",\n",
    "            \"Thickness\": 0.2,\n",
    "            \"Conductivity\": 0.51,\n",
    "            \"Density\": 1400,\n",
    "            \"Specific_Heat\": 1000,\n",
    "        },\n",
    "    ]\n",
    "}"
   ],
   "metadata": {
    "collapsed": false
   }
  },
  {
   "cell_type": "code",
   "execution_count": null,
   "outputs": [],
   "source": [
    "modifier_list.append(mo.OpaqueSurfaceModifier(\n",
    "    name=\"ext_wall_mod\",\n",
    "    building=building,\n",
    "    surface_type=\"Wall\",\n",
    "    outside_boundary_condition=\"Outdoors\",\n",
    "    variant_dict=wall_variant_dict\n",
    "))"
   ],
   "metadata": {
    "collapsed": false
   }
  },
  {
   "cell_type": "markdown",
   "source": [
    "In the above code, we append to the <code>modifier_list</code> an <code>OpaqueSurfaceModifier</code> object.\n",
    "\n",
    "This class is designed to replace the surface referenced by energyplus *surface_type* and *outside_boundary_condition* by one of the constructions defined in the <code>wall_variant_dict</code>.\n",
    "\n",
    "Note that a \"modifier\" is NOT and EEM. In this case it holds 2 EEM (internal 15cm insulation and external 30cm insulation).\n",
    "\n",
    "A modifier is designed to replace a part of the building model : replace wall, windows, infiltrations, hvac system, etc.."
   ],
   "metadata": {
    "collapsed": false
   }
  },
  {
   "cell_type": "markdown",
   "source": [
    "## External windows EEM"
   ],
   "metadata": {
    "collapsed": false
   }
  },
  {
   "cell_type": "markdown",
   "source": [
    "Similarly, we define EEM as a <code>dict</code>. <code>keys</code> are EEM names and <code>values</code> are dict defining energyplus object _WindowMaterial:SimpleGlazingSystem_"
   ],
   "metadata": {
    "collapsed": false
   }
  },
  {
   "cell_type": "code",
   "execution_count": null,
   "outputs": [],
   "source": [
    "ext_win_variant_dict = {\n",
    "    \"EEM3_Double_glazing\": {\n",
    "        \"Name\": \"Double_glazing\",\n",
    "        \"UFactor\": 1.1,\n",
    "        \"Solar_Heat_Gain_Coefficient\": 0.41,\n",
    "        \"Visible_Transmittance\": 0.71,\n",
    "    },\n",
    "}"
   ],
   "metadata": {
    "collapsed": false
   }
  },
  {
   "cell_type": "code",
   "execution_count": null,
   "outputs": [],
   "source": [
    "modifier_list.append(mo.ExternalWindowsModifier(\n",
    "    name=\"Window_modifier\",\n",
    "    building=building,\n",
    "    variant_dict=ext_win_variant_dict\n",
    "))"
   ],
   "metadata": {
    "collapsed": false
   }
  },
  {
   "cell_type": "markdown",
   "source": [
    "## HVAC EEM\n",
    "HVAC EEM definition is a bit different. We first have to define a new <code>energytool.system</code>. Than we instantiate a <code>SystemModifier</code>, specifying the <code>Building</code> dictionary and the <code>key</code> holding the system that needs to be replaced.\n",
    "\n",
    "For example, to replace the \"Main_boiler\":"
   ],
   "metadata": {
    "collapsed": false
   }
  },
  {
   "cell_type": "code",
   "execution_count": null,
   "outputs": [],
   "source": [
    "boiler_variant_dict = {\n",
    "    \"EEM4_HP_main_heater\": st.HeaterSimple(\n",
    "        name=\"PAC\", building=building, cop=3)\n",
    "}"
   ],
   "metadata": {
    "collapsed": false
   }
  },
  {
   "cell_type": "code",
   "execution_count": null,
   "outputs": [],
   "source": [
    "modifier_list.append(mo.SystemModifier(\n",
    "    name=\"heater_modifier\",\n",
    "    building=building,\n",
    "    category=\"heating_system\",\n",
    "    system_name=\"Main_boiler\",\n",
    "    variant_dict=boiler_variant_dict\n",
    "))"
   ],
   "metadata": {
    "collapsed": false
   }
  },
  {
   "cell_type": "markdown",
   "source": [
    "## Combine EEM and run simulations\n",
    "\n",
    "In order to combine all the EEM and to simulate their effect, we need to pass the previously defined list of modifiers to a <code>Combiner</code>"
   ],
   "metadata": {
    "collapsed": false
   }
  },
  {
   "cell_type": "code",
   "execution_count": null,
   "outputs": [],
   "source": [
    "combiner = mo.Combiner(building, modifier_list=modifier_list)"
   ],
   "metadata": {
    "collapsed": false
   }
  },
  {
   "cell_type": "markdown",
   "source": [
    "The combinations can be found using THE property <code>combination_list</code>"
   ],
   "metadata": {
    "collapsed": false
   }
  },
  {
   "cell_type": "code",
   "execution_count": null,
   "outputs": [],
   "source": [
    "combiner.combination_list"
   ],
   "metadata": {
    "collapsed": false
   }
  },
  {
   "cell_type": "markdown",
   "source": [
    "Note that the combiner takes into account the Existing state when combining the EEMs. In fact the 1st simulation.\n",
    "Running the simulations to get the sample is easy"
   ],
   "metadata": {
    "collapsed": false
   }
  },
  {
   "cell_type": "code",
   "execution_count": null,
   "outputs": [],
   "source": [
    "combiner.run(\n",
    "    epw_file_path=Path(TUTORIAL_DIR) / \"resources/FRA_Bordeaux.075100_IWEC.epw\",\n",
    "    timestep_per_hour=1,\n",
    "    nb_simu_per_batch=5\n",
    ")"
   ],
   "metadata": {
    "collapsed": false
   }
  },
  {
   "cell_type": "markdown",
   "source": [
    "The <code>Combiner</code> method <code>get_annual_system_results</code> simplify the results formatting and gives annual results on hvac system consumption.\n",
    "For now, summer thermal comfort has to be computed manually."
   ],
   "metadata": {
    "collapsed": false
   }
  },
  {
   "cell_type": "code",
   "execution_count": null,
   "outputs": [],
   "source": [
    "res = combiner.get_annual_system_results(per_square_meter=True)"
   ],
   "metadata": {
    "collapsed": false
   }
  },
  {
   "cell_type": "code",
   "execution_count": null,
   "outputs": [],
   "source": [
    "res"
   ],
   "metadata": {
    "collapsed": false
   }
  },
  {
   "cell_type": "markdown",
   "source": [
    "Sorted results ar useful to easily determine the best combination.\n",
    "The <code>Combiner</code> method <code>plot_consumption_stacked_bar</code> gives a graphical representation of the results."
   ],
   "metadata": {
    "collapsed": false
   }
  },
  {
   "cell_type": "code",
   "execution_count": null,
   "outputs": [],
   "source": [
    "res.sort_values(by=\"Total\", ascending=False)"
   ],
   "metadata": {
    "collapsed": false
   }
  },
  {
   "cell_type": "code",
   "execution_count": null,
   "outputs": [],
   "source": [
    "combiner.plot_consumption_stacked_bar(per_square_meter=True)"
   ],
   "metadata": {
    "collapsed": false
   }
  }
 ],
 "metadata": {
  "kernelspec": {
   "display_name": "Python 3",
   "language": "python",
   "name": "python3"
  },
  "language_info": {
   "codemirror_mode": {
    "name": "ipython",
    "version": 2
   },
   "file_extension": ".py",
   "mimetype": "text/x-python",
   "name": "python",
   "nbconvert_exporter": "python",
   "pygments_lexer": "ipython2",
   "version": "2.7.6"
  }
 },
 "nbformat": 4,
 "nbformat_minor": 0
}
