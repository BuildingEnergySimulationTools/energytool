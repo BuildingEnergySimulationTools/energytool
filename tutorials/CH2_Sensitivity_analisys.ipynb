{
 "cells": [
  {
   "cell_type": "code",
   "execution_count": null,
   "metadata": {
    "collapsed": true
   },
   "outputs": [],
   "source": [
    "import os\n",
    "from pathlib import Path\n",
    "TUTORIAL_DIR = Path(os.getcwd()).as_posix()"
   ]
  },
  {
   "cell_type": "markdown",
   "source": [
    "# Building Sensitivity Analisys"
   ],
   "metadata": {
    "collapsed": false
   }
  },
  {
   "cell_type": "markdown",
   "source": [
    "\n",
    "The aim of this tutorial is to provide a complete workflow for building thermal simulation sensitivity analysis using\n",
    "[__EnergyPlus__](https://energyplus.net) and __energytoot__"
   ],
   "metadata": {
    "collapsed": false,
    "pycharm": {
     "is_executing": true
    }
   },
   "outputs": []
  },
  {
   "cell_type": "markdown",
   "source": [
    "## Introduction"
   ],
   "metadata": {
    "collapsed": false
   }
  },
  {
   "cell_type": "markdown",
   "source": [
    "Sensitivity Analysis methods are mathematical method that quantify the impact of and uncertain parameters on a specific metrics.\n",
    "Various methods exists such as Morris or Sobol.\n",
    "\n",
    "During building conception workflow, sensitivity analysis can have various benefits:\n",
    "- Screen out a number of irrelevant conception variables to focus on the important ones (does the solar absorption of the partition glass-wool have a relevant impact on building heat needs ?)\n",
    "- Sort  relevant uncertain parameter by influence on the observed metrics.\n",
    "- Help you quantify the relative importance of the modeled physical phenomenons\n",
    "\n",
    "In this example, the use case is an old building retrofitting. The objective is to insulate the south facade using double skin.\n",
    "\n",
    "|               Figure 1: Building picture               |            Figure 2: Building thermal model            |\n",
    "|:------------------------------------------------------:|:------------------------------------------------------:|\n",
    "| <img src=\"resources/building_photo.png\"  height=\"300\"> | <img src=\"resources/building_model.png\"  height=\"300\"> |\n",
    "\n",
    "The designer wants to know the impact of the following variables on the building **heat needs** and on the **thermal comfort**:\n",
    "- Double skin glazing thermal properties : Solar Heat Gain Coefficient (SHGC), thermal conductivity coefficient ($U_{value}$)\n",
    "- Envelope glazing thermal properties : Solar Heat Gain Coefficient (SHGC), thermal conductivity coefficient ($U_{value}$)\n",
    "- Envelope insulation thickness\n",
    "- Air infiltration coefficient Q4Pa [m<sup>3</sup>/h.m² @4Pa]\n",
    "\n",
    "\n",
    "\n",
    "To answer these questions we will use an EnergyPlus building model and energytool class to perform Morris & Sobol sensitivity analysis"
   ],
   "metadata": {
    "collapsed": false
   }
  },
  {
   "cell_type": "markdown",
   "source": [
    "## Building modeling"
   ],
   "metadata": {
    "collapsed": false
   }
  },
  {
   "cell_type": "markdown",
   "source": [
    "In energytool, the <code>Building</code> class is used to simulate HVAC systems through pre-process and post process methods.\n",
    "The <code>Building</code> holds and idf file. The user specify hvac system using the <code>system</code> module."
   ],
   "metadata": {
    "collapsed": false
   }
  },
  {
   "cell_type": "code",
   "execution_count": null,
   "outputs": [],
   "source": [
    "from energytool.building import Building"
   ],
   "metadata": {
    "collapsed": false
   }
  },
  {
   "cell_type": "markdown",
   "source": [
    "The path of the idd file of EnergyPlus must be given to the <code>Building</code> class.\n",
    "Be careful idf file E+ version and idd file version must match"
   ],
   "metadata": {
    "collapsed": false
   }
  },
  {
   "cell_type": "code",
   "execution_count": null,
   "outputs": [],
   "source": [
    "Building.set_idd(Path(r'C:\\EnergyPlusV9-4-0'))"
   ],
   "metadata": {
    "collapsed": false
   }
  },
  {
   "cell_type": "markdown",
   "source": [
    "Now we instantiate a building with an idf file representing the building thermal model.\n",
    "The idf can be generated manually or using a software (Openstudio, DesignBuilder).\n",
    "Keep in mind that the main advantage of the energytool <code>Building</code> class, is to simplify hvac system modeling using pre-process and post-process methods.\n",
    "Thus, we recommend using <code>IdealLoadAirSystem</code> to model HVAC and Domestic Hot Water production (DHW)."
   ],
   "metadata": {
    "collapsed": false
   }
  },
  {
   "cell_type": "code",
   "execution_count": null,
   "outputs": [],
   "source": [
    "building = Building(idf_path=Path(TUTORIAL_DIR) / \"resources/tuto_as.idf\")"
   ],
   "metadata": {
    "collapsed": false
   }
  },
  {
   "cell_type": "markdown",
   "source": [
    "The <code>infos()</code> method display information on the building object"
   ],
   "metadata": {
    "collapsed": false
   }
  },
  {
   "cell_type": "code",
   "execution_count": null,
   "outputs": [],
   "source": [
    "building.infos()"
   ],
   "metadata": {
    "collapsed": false
   }
  },
  {
   "cell_type": "markdown",
   "source": [
    "It is time to specify the building hvac equipments.\n",
    "Let's use the one present in the <code>system</code> module.\n",
    "Note that you can use custom class as long as they contain a <code>pre_process()</code> and a <code>post_process()</code> methods\n",
    "\n",
    "In this example, we will only use a boiler with a cop of 1 as we want to work with building heating needs.\n",
    "For more information on building system, see the dedicated tutorial."
   ],
   "metadata": {
    "collapsed": false
   }
  },
  {
   "cell_type": "code",
   "execution_count": null,
   "outputs": [],
   "source": [
    "import energytool.system as st"
   ],
   "metadata": {
    "collapsed": false
   }
  },
  {
   "cell_type": "code",
   "execution_count": null,
   "outputs": [],
   "source": [
    "building.heating_system[\"Main_heater\"] = st.HeaterSimple(\n",
    "    name=\"IdealBoiler\",\n",
    "    building=building,\n",
    "    zones='*',\n",
    "    cop=1\n",
    ")"
   ],
   "metadata": {
    "collapsed": false
   }
  },
  {
   "cell_type": "markdown",
   "source": [
    "We specify the parameters we are uncertain about using the class <code>UncertainParameter</code> from the <code>energytool.parameter</code> module."
   ],
   "metadata": {
    "collapsed": false
   }
  },
  {
   "cell_type": "code",
   "execution_count": null,
   "outputs": [],
   "source": [
    "from energytool.parameter import UncertainParameter"
   ],
   "metadata": {
    "collapsed": false
   }
  },
  {
   "cell_type": "markdown",
   "source": [
    "A <code>list</code> of <code>UncertainParameter</code> is created.\n",
    "The code below details the configuration for the first object. It corresponds to the SHGC of the external windows.\n",
    "We specify a relative uncertainty of +- 10% of the idf value:\n",
    "\n",
    "<pre><code>\n",
    "UncertainParameter(\n",
    "    name=\"SHGC_ext_windows\",\n",
    "    absolute=False,\n",
    "    bounds=[0.9, 1.1],\n",
    "    building=building,\n",
    "    idf_parameters=[dict(\n",
    "        idf_object=\"WindowMaterial:SimpleGlazingSystem\",\n",
    "        names='Simple DSF_ext_south_glazing - 1002',\n",
    "        field='Solar_Heat_Gain_Coefficient',\n",
    "    )]\n",
    "</code></pre>\n",
    "\n",
    "- <code>absolute</code>: if set to <code>True</code> the <code>bounds</code> holds the true values of the parameter. If set to <code>False</code> specify relative <code>bounds</code>. The nominal value is the one set in the idf.\n",
    "- <code>bounds</code>: the minimum and maximum value of the uncertain parameter.\n",
    "- <code>idf_parameters</code>: a python the <code>dict</code> with the following keys:\n",
    "    - <code>idf_object</code> idf object category\n",
    "    - <code>names</code> a specific idf object name. a list of idf objects names. Default '*' indicates it applies to all specified <code>idf_object</code>\n",
    "    - <code>field</code> uncertain numerical field\n"
   ],
   "metadata": {
    "collapsed": false
   }
  },
  {
   "cell_type": "code",
   "execution_count": null,
   "outputs": [],
   "source": [
    "uncertain_param_list = [\n",
    "    UncertainParameter(\n",
    "        name=\"SHGC_ext_windows\",\n",
    "        absolute=False,\n",
    "        bounds=[0.9, 1.1],\n",
    "        building=building,\n",
    "        idf_parameters=[dict(\n",
    "            idf_object=\"WindowMaterial:SimpleGlazingSystem\",\n",
    "            names='Simple DSF_ext_south_glazing - 1002',\n",
    "            field='Solar_Heat_Gain_Coefficient',\n",
    "        )]\n",
    "    ),\n",
    "    UncertainParameter(\n",
    "        name=\"UFactor_ext_windows\",\n",
    "        absolute=False,\n",
    "        bounds=[0.9, 1.1],\n",
    "        building=building,\n",
    "        idf_parameters=[dict(\n",
    "            idf_object=\"WindowMaterial:SimpleGlazingSystem\",\n",
    "            names='Simple DSF_ext_south_glazing - 1002',\n",
    "            field='UFactor',\n",
    "        )]\n",
    "    ),\n",
    "    UncertainParameter(\n",
    "        name=\"SHGC_int_windows\",\n",
    "        absolute=False,\n",
    "        bounds=[0.9, 1.1],\n",
    "        building=building,\n",
    "        idf_parameters=[dict(\n",
    "            idf_object=\"WindowMaterial:SimpleGlazingSystem\",\n",
    "            names='Simple DSF_int_south_glazing - 1001',\n",
    "            field='Solar_Heat_Gain_Coefficient',\n",
    "        )]\n",
    "    ),\n",
    "    UncertainParameter(\n",
    "        name=\"UFactor_int_windows\",\n",
    "        absolute=False,\n",
    "        bounds=[0.9, 1.1],\n",
    "        building=building,\n",
    "        idf_parameters=[dict(\n",
    "            idf_object=\"WindowMaterial:SimpleGlazingSystem\",\n",
    "            names='Simple DSF_int_south_glazing - 1001',\n",
    "            field='UFactor',\n",
    "        )]\n",
    "    ),\n",
    "    UncertainParameter(\n",
    "        name=\"Wall_insulation_thickness\",\n",
    "        absolute=False,\n",
    "        bounds=[0.9, 1.1],\n",
    "        building=building,\n",
    "        idf_parameters=[dict(\n",
    "            idf_object=\"Material\",\n",
    "            names='Wall_insulation_.1',\n",
    "            field='Thickness',\n",
    "        )]\n",
    "    ),\n",
    "    UncertainParameter(\n",
    "        name=\"Cracks\",\n",
    "        absolute=False,\n",
    "        bounds=[0.9, 1.1],\n",
    "        building=building,\n",
    "        idf_parameters=[dict(\n",
    "            idf_object=\"AirflowNetwork:MultiZone:Surface:Crack\",\n",
    "            names='*',\n",
    "            field='Air_Mass_Flow_Coefficient_at_Reference_Conditions',\n",
    "        )]\n",
    "    ),\n",
    "]"
   ],
   "metadata": {
    "collapsed": false
   }
  },
  {
   "cell_type": "markdown",
   "source": [
    "Import the sensitivity analysis class <code>SAnalysis</code>\n",
    "As a minimal configuration, it requires the <code>Building</code> instance, en sensitivity analysis method and the previously defined list of uncertain parameter."
   ],
   "metadata": {
    "collapsed": false
   }
  },
  {
   "cell_type": "code",
   "execution_count": null,
   "outputs": [],
   "source": [
    "from energytool.sensitivity import SAnalysis"
   ],
   "metadata": {
    "collapsed": false
   }
  },
  {
   "cell_type": "markdown",
   "source": [
    "## Morris method\n",
    "To screen out parameters or to have a first estimation of the uncertain parameters rank without running too many simulation, it is often a good idea to us the Morris method."
   ],
   "metadata": {
    "collapsed": false
   }
  },
  {
   "cell_type": "code",
   "execution_count": null,
   "outputs": [],
   "source": [
    "sa_analysis = SAnalysis(\n",
    "    building=building,\n",
    "    sensitivity_method=\"Morris\",\n",
    "    parameters=uncertain_param_list,\n",
    ")"
   ],
   "metadata": {
    "collapsed": false
   }
  },
  {
   "cell_type": "markdown",
   "source": [
    "The <code>draw_sample</code> method of <code>SAnalysis</code> draws parameters values according to the <code>parameters</code> list. The sampling method depends on the <code>sensitivity_method</code>. For Morris a One At a Time method is used (OAT). See [SALib documentation](https://salib.readthedocs.io/en/latest/index.html) for more information\n",
    "\n",
    "The number of trajectories is set to 15."
   ],
   "metadata": {
    "collapsed": false
   }
  },
  {
   "cell_type": "code",
   "execution_count": null,
   "outputs": [],
   "source": [
    "sa_analysis.draw_sample(n=15)"
   ],
   "metadata": {
    "collapsed": false
   }
  },
  {
   "cell_type": "markdown",
   "source": [
    "Sampling results are stored in <code>sample</code>. Columns corresponds to parameters.\n",
    "Index lines corresponds to a configuration (combination of parameters values)"
   ],
   "metadata": {
    "collapsed": false
   }
  },
  {
   "cell_type": "code",
   "execution_count": null,
   "outputs": [],
   "source": [
    "sa_analysis.sample"
   ],
   "metadata": {
    "collapsed": false
   }
  },
  {
   "cell_type": "markdown",
   "source": [
    "<code>run_simulations</code> method runs the 105 simulations"
   ],
   "metadata": {
    "collapsed": false
   }
  },
  {
   "cell_type": "code",
   "execution_count": null,
   "outputs": [],
   "source": [
    "sa_analysis.run_simulations(epw_file_path=Path(TUTORIAL_DIR) / r\"resources/FRA_Bordeaux.075100_IWEC.epw\")"
   ],
   "metadata": {
    "collapsed": false
   }
  },
  {
   "cell_type": "markdown",
   "source": [
    "<code>analyse</code> method compute sensitivity index depending on the specified <code>sensitivity_method</code> for the specified <code>indicator</code>. By default it will compute sensitivity index for the <code>'Total'</code> hvac energy consumption.\n",
    "\n",
    "Obtain available indicators using the property <code>available_indicators</code>\n"
   ],
   "metadata": {
    "collapsed": false
   }
  },
  {
   "cell_type": "code",
   "execution_count": null,
   "outputs": [],
   "source": [
    "sa_analysis.available_indicators"
   ],
   "metadata": {
    "collapsed": false
   }
  },
  {
   "cell_type": "code",
   "execution_count": null,
   "outputs": [],
   "source": [
    "sa_analysis.analyze(indicator='IdealBoiler_Energy')"
   ],
   "metadata": {
    "collapsed": false
   }
  },
  {
   "cell_type": "markdown",
   "source": [
    "Sensitivity index results are stored in <code>sensitivity_results</code>.\n",
    "Pre-formatted figure for Morris results is available using <code>plot_morris_scatter</code>"
   ],
   "metadata": {
    "collapsed": false
   }
  },
  {
   "cell_type": "code",
   "execution_count": null,
   "outputs": [],
   "source": [
    "from energytool.sensitivity import plot_morris_scatter"
   ],
   "metadata": {
    "collapsed": false
   }
  },
  {
   "cell_type": "code",
   "execution_count": null,
   "outputs": [],
   "source": [
    "plot_morris_scatter(salib_res=sa_analysis.sensitivity_results, title='Building heat needs', unit='J', autosize=True)"
   ],
   "metadata": {
    "collapsed": false
   }
  },
  {
   "cell_type": "markdown",
   "source": [
    "In the figure above:\n",
    "- Circle size indicate the total effect of the parameter on the chosen indicator. The bigger, the more influential.\n",
    "- The x axis is the mean elementary effect of the parameters. It represents \"linear\" effect of the parameter.\n",
    "- The y axis is the standard deviation. It represents interactions between parameters and non linearities.\n",
    "- The 3 lines separates the figure in 4 regions. From the closer to the x axis : linear, monotonic, almost monotonic and non-linear and/or non-monotonic effects. See [publication](http://www.ibpsa.org/proceedings/BSO2016/p1101.pdf) for more details\n",
    "- The segment represent the uncertainty on the sensitivity index calculation.\n",
    "\n",
    "In this use case. Several conclusions can be drawn:\n",
    "- 4 parameters have an influence on the chosen indicator. Two indicators can be neglected.\n",
    "- The 4 main parameters have an almost linear influence on the indicator\n",
    "- The confidence on the sensitivity index calculation is high"
   ],
   "metadata": {
    "collapsed": false
   }
  },
  {
   "cell_type": "markdown",
   "source": [
    "## Sobol method"
   ],
   "metadata": {
    "collapsed": false
   }
  },
  {
   "cell_type": "markdown",
   "source": [
    "Sobol index indicates the contribution of each uncertain parameters to the variance of the output indicator.\n",
    "It is a more accurate method to quantify the effect of an uncertain parameter. The second order index also gives more information on the effect of parameters interactions.\n",
    "... But it comes at a much higher computational cost.\n",
    "In energytool, the index are computed using SALib. The method gives an estimation of the index value. It reduces the simulation sample size.\n",
    "\n",
    "Below is an example of a <code>SAnalisys</code> configuration to perform Sobol index calculation\n",
    "It is very similar to Morris"
   ],
   "metadata": {
    "collapsed": false
   }
  },
  {
   "cell_type": "code",
   "execution_count": null,
   "outputs": [],
   "source": [
    "sa_analysis_sob = SAnalysis(\n",
    "    building=building,\n",
    "    sensitivity_method=\"Sobol\",\n",
    "    parameters=uncertain_param_list,\n",
    ")"
   ],
   "metadata": {
    "collapsed": false
   }
  },
  {
   "cell_type": "code",
   "execution_count": null,
   "outputs": [],
   "source": [
    "# Salib command an n = 2^x. In this case x shall be >= 6\n",
    "sa_analysis_sob.draw_sample(n=2**6)"
   ],
   "metadata": {
    "collapsed": false
   }
  },
  {
   "cell_type": "code",
   "execution_count": null,
   "outputs": [],
   "source": [
    "sa_analysis_sob.run_simulations(epw_file_path=Path(TUTORIAL_DIR) / r\"resources/FRA_Bordeaux.075100_IWEC.epw\")"
   ],
   "metadata": {
    "collapsed": false
   }
  },
  {
   "cell_type": "code",
   "execution_count": null,
   "outputs": [],
   "source": [
    "sa_analysis_sob.analyze(indicator='IdealBoiler_Energy')"
   ],
   "metadata": {
    "collapsed": false
   }
  },
  {
   "cell_type": "markdown",
   "source": [
    "Similarly to Morris, a function is designed to plot preformatted Sobol total index graph"
   ],
   "metadata": {
    "collapsed": false
   }
  },
  {
   "cell_type": "code",
   "execution_count": null,
   "outputs": [],
   "source": [
    "from energytool.sensitivity import plot_sobol_st_bar"
   ],
   "metadata": {
    "collapsed": false
   }
  },
  {
   "cell_type": "code",
   "execution_count": null,
   "outputs": [],
   "source": [
    "plot_sobol_st_bar(sa_analysis_sob.sensitivity_results)"
   ],
   "metadata": {
    "collapsed": false
   }
  },
  {
   "cell_type": "markdown",
   "source": [
    "The Sobol total index represent an uncertain parameter single effect plus the sum of all its interactions on the considered indicator.\n",
    "The sum of all the index shall be equal to one.\n",
    "Salib computes an estimation of this index. Therefore, the sum of the above index is ~0.94. The uncertainty bar shows the confidence interval of the index value.\n",
    "\n",
    "In this use case, the Sobol method sorted the uncertain parameters in the same order as Morris.\n",
    "However, the confidence intervals of the index overlap and the sum is around 0.94. A bigger sample could improve the results."
   ],
   "metadata": {
    "collapsed": false
   }
  },
  {
   "cell_type": "markdown",
   "source": [
    "## TODO Second order Sobol index"
   ],
   "metadata": {
    "collapsed": false
   }
  }
 ],
 "metadata": {
  "kernelspec": {
   "display_name": "Python 3",
   "language": "python",
   "name": "python3"
  },
  "language_info": {
   "codemirror_mode": {
    "name": "ipython",
    "version": 2
   },
   "file_extension": ".py",
   "mimetype": "text/x-python",
   "name": "python",
   "nbconvert_exporter": "python",
   "pygments_lexer": "ipython2",
   "version": "2.7.6"
  }
 },
 "nbformat": 4,
 "nbformat_minor": 0
}
