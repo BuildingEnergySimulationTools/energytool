{
 "cells": [
  {
   "cell_type": "code",
   "execution_count": 1,
   "metadata": {
    "collapsed": true
   },
   "outputs": [],
   "source": [
    "import os\n",
    "from pathlib import Path\n",
    "\n",
    "TUTORIAL_DIR = Path(os.getcwd()).as_posix()"
   ]
  },
  {
   "cell_type": "markdown",
   "source": [
    "# Energytool Modifier"
   ],
   "metadata": {
    "collapsed": false,
    "pycharm": {
     "name": "#%% md\n"
    }
   }
  },
  {
   "cell_type": "markdown",
   "source": [
    "In a renovation process, choosing between Energy Efficiency Measure (EEM) is a difficult tasks. There is often a lot of measures, and they can be combined (insulate walls + change boiler), (insulate walls + change windows), (change windows + change boiler).\n",
    "Also several indicator are used to make a choice :\n",
    "- EEM cost\n",
    "- EEM effect on energy savings\n",
    "- EEM effect on occupant thermal comfort\n",
    "- EEM CO2 cost\n",
    "- ...\n",
    "\n",
    "The objective of the <code>modifier</code> module is to provide a framework to specify all the possible EEM. Simulate every possible combination, and provide metrics to the user to guide him in his choice."
   ],
   "metadata": {
    "collapsed": false,
    "pycharm": {
     "name": "#%% md\n"
    }
   }
  },
  {
   "cell_type": "markdown",
   "source": [
    "## Building definition"
   ],
   "metadata": {
    "collapsed": false,
    "pycharm": {
     "name": "#%% md\n"
    }
   }
  },
  {
   "cell_type": "markdown",
   "source": [
    "In this tutorial we will use the same building as the one describe in the Building tutorial. Please refer to this file to understand <code>Building</code> and hvac system modeling.\n",
    "\n",
    "The use case is a 2 floors 4 apartments residential building."
   ],
   "metadata": {
    "collapsed": false,
    "pycharm": {
     "name": "#%% md\n"
    }
   }
  },
  {
   "cell_type": "code",
   "execution_count": 46,
   "outputs": [],
   "source": [
    "from energytool.building import Building\n",
    "from energytool.indicators import AddOutputVariables\n",
    "import energytool.system as st"
   ],
   "metadata": {
    "collapsed": false,
    "pycharm": {
     "name": "#%%\n"
    }
   }
  },
  {
   "cell_type": "code",
   "execution_count": 47,
   "outputs": [],
   "source": [
    "building = Building(idf_path=Path(TUTORIAL_DIR) / \"resources/tuto_building.idf\")"
   ],
   "metadata": {
    "collapsed": false,
    "pycharm": {
     "name": "#%%\n"
    }
   }
  },
  {
   "cell_type": "code",
   "execution_count": 48,
   "outputs": [],
   "source": [
    "# Simulate a boiler, multiplying the heat needs by a constant COP\n",
    "building.heating_system[\"Main_boiler\"] = st.HeaterSimple(\n",
    "    name=\"Gaz_boiler\",\n",
    "    building=building,\n",
    "    cop=0.89\n",
    ")\n",
    "\n",
    "# Estimate circulation pumps energy consumption multiplying the heat needs by a constant (default 0.05)\n",
    "building.heating_system[\"Circulation_pumps\"] = st.AuxiliarySimplified(\n",
    "    name=\"Heater_aux\",\n",
    "    building=building\n",
    ")\n",
    "\n",
    "# Simulate fan consumption multiplying extracted air volume by a constant coefficient\n",
    "# Do not have a heat exchanger\n",
    "building.ventilation_system[\"Main_AHU\"] = st.AirHandlingUnit(\n",
    "    name=\"Extraction_fan\",\n",
    "    building=building,\n",
    "    fan_energy_coefficient=0.23, # Wh/m3\n",
    "    heat_recovery_efficiency=False\n",
    ")\n",
    "\n",
    "# Simulate clock regulation\n",
    "# Ventilation works according to specified schedule\n",
    "#  is defined in the energytool/resources/resources_idf.idf file\n",
    "building.ventilation_system[\"AHU_control\"] = st.AHUControl(\n",
    "    name=\"Hygro_intakes\",\n",
    "    building=building,\n",
    "    control_strategy=\"Schedule\",\n",
    "    schedule_name=\"OFF_09h_18h_ON_18h_24h_ON_WE_FULL_YEAR\",\n",
    ")\n",
    "\n",
    "# Estimate Domestic Hot Water production energy needs\n",
    "# Use the number of people defined in the idf file to estimate the total volume.\n",
    "# Otherwise, energy calculation is independent of energyplus\n",
    "building.dwh_system[\"DHW_production\"] = st.DHWIdealExternal(\n",
    "    name=\"Electric_accumulation\",\n",
    "    building=building,\n",
    "    cop=0.85,\n",
    ")\n",
    "\n",
    "# Estimate Domestic Hot Water production energy needs\n",
    "# Use the number of people defined in the idf file to estimate the total volume.\n",
    "# Otherwise, energy calculation is independent of energyplus\n",
    "building.dwh_system[\"DHW_production\"] = st.DHWIdealExternal(\n",
    "    name=\"Electric_accumulation\",\n",
    "    building=building,\n",
    "    cop=0.85,\n",
    ")\n",
    "\n",
    "# Estimate Lighting consumption using a constant power ratio.\n",
    "# Modify the existing energyplus object\n",
    "building.artificial_lighting_system[\"Lights\"] = st.ArtificialLightingSimple(\n",
    "    name=\"Random_lights\",\n",
    "    building=building,\n",
    "    power_ratio=4 # W/m²\n",
    ")\n",
    "\n",
    "# Add 2 variables for summer thermal comfort calculation\n",
    "building.other[\"Thermal_comfort_variables\"] = AddOutputVariables(\n",
    "    name=\"HQE_discomfort\",\n",
    "    building=building,\n",
    "    variables=[\"Zone Operative Temperature\", \"Zone People Occupant Count\"]\n",
    ")"
   ],
   "metadata": {
    "collapsed": false,
    "pycharm": {
     "name": "#%%\n"
    }
   }
  },
  {
   "cell_type": "markdown",
   "source": [
    "## EEM specifications"
   ],
   "metadata": {
    "collapsed": false,
    "pycharm": {
     "name": "#%% md\n"
    }
   }
  },
  {
   "cell_type": "markdown",
   "source": [
    "In this tutorial, to reduce computation time, we will define 4 EEM and 3 modifiers :\n",
    "- _EEM1_Wall_int_insulation_ : 15mm of glass wool on the inside of the building\n",
    "- _EEM2_Wall_ext_insulation_ : 30mm of glass wool on the external face\n",
    "- _EEM3_Double_glazing_ : Replace outside windows\n",
    "- _EEM4_HP_main_heater_ : Replace existing heater by a heatpump"
   ],
   "metadata": {
    "collapsed": false,
    "pycharm": {
     "name": "#%% md\n"
    }
   }
  },
  {
   "cell_type": "markdown",
   "source": [
    "Let's initialize a modifier <code>list</code> where we will append all our modifications"
   ],
   "metadata": {
    "collapsed": false,
    "pycharm": {
     "name": "#%% md\n"
    }
   }
  },
  {
   "cell_type": "code",
   "execution_count": 70,
   "outputs": [],
   "source": [
    "modifier_list = []"
   ],
   "metadata": {
    "collapsed": false,
    "pycharm": {
     "name": "#%%\n"
    }
   }
  },
  {
   "cell_type": "markdown",
   "source": [
    "## External wall EEM\n",
    "\n",
    "External surface modification are done the same way using a python <code>dict</code>. The <code>keys</code> are the EEMs names, the <code>values</code> are a list of <code>dict</code> containing wall materials thermal properties.\n",
    "\n",
    "The following example configure 2 EEMs named \"EEM1_Wall_int_insulation\" and \"EEM2_Wall_ext_insulation\". The first EEM have a 15cm glass wool internal insulation, the second have a 30cm glass wool external insulation"
   ],
   "metadata": {
    "collapsed": false,
    "pycharm": {
     "name": "#%% md\n"
    }
   }
  },
  {
   "cell_type": "code",
   "execution_count": 71,
   "outputs": [],
   "source": [
    "import energytool.modifier as mo"
   ],
   "metadata": {
    "collapsed": false,
    "pycharm": {
     "name": "#%%\n"
    }
   }
  },
  {
   "cell_type": "code",
   "execution_count": 72,
   "outputs": [],
   "source": [
    "wall_variant_dict = {\n",
    "    \"EEM1_Wall_int_insulation\": [\n",
    "        # Outside Layer\n",
    "        {\n",
    "            \"Name\": \"Project medium concrete block_.2\",\n",
    "            \"Thickness\": 0.2,\n",
    "            \"Conductivity\": 0.51,\n",
    "            \"Density\": 1400,\n",
    "            \"Specific_Heat\": 1000,\n",
    "        },\n",
    "        {\n",
    "            \"Name\": \"Laine_15cm\",\n",
    "            \"Thickness\": 0.15,\n",
    "            \"Conductivity\": 0.032,\n",
    "            \"Density\": 40,\n",
    "            \"Specific_Heat\": 1000,\n",
    "        },\n",
    "    ],\n",
    "    \"EEM2_Wall_ext_insulation\": [\n",
    "        # Outside Layer\n",
    "        {\n",
    "            \"Name\": \"Coating\",\n",
    "            \"Thickness\": 0.01,\n",
    "            \"Conductivity\": 0.1,\n",
    "            \"Density\": 400,\n",
    "            \"Specific_Heat\": 1200,\n",
    "        },\n",
    "        {\n",
    "            \"Name\": \"Laine_30cm\",\n",
    "            \"Thickness\": 0.30,\n",
    "            \"Conductivity\": 0.032,\n",
    "            \"Density\": 40,\n",
    "            \"Specific_Heat\": 1000,\n",
    "        },\n",
    "        {\n",
    "            \"Name\": \"Project medium concrete block_.2\",\n",
    "            \"Thickness\": 0.2,\n",
    "            \"Conductivity\": 0.51,\n",
    "            \"Density\": 1400,\n",
    "            \"Specific_Heat\": 1000,\n",
    "        },\n",
    "    ]\n",
    "}"
   ],
   "metadata": {
    "collapsed": false,
    "pycharm": {
     "name": "#%%\n"
    }
   }
  },
  {
   "cell_type": "code",
   "execution_count": 73,
   "outputs": [],
   "source": [
    "modifier_list.append(mo.OpaqueSurfaceModifier(\n",
    "    name=\"ext_wall_mod\",\n",
    "    building=building,\n",
    "    surface_type=\"Wall\",\n",
    "    outside_boundary_condition=\"Outdoors\",\n",
    "    variant_dict=wall_variant_dict\n",
    "))"
   ],
   "metadata": {
    "collapsed": false,
    "pycharm": {
     "name": "#%%\n"
    }
   }
  },
  {
   "cell_type": "markdown",
   "source": [
    "In the above code, we append to the <code>modifier_list</code> an <code>OpaqueSurfaceModifier</code> object.\n",
    "\n",
    "This class is designed to replace the surface referenced by energyplus _surface_type_ and _outside_boundary_condition_ by one of the constructions defined in the <code>wall_variant_dict</code>.\n",
    "\n",
    "Note that a \"modifier\" is NOT and EEM. In this case it holds 2 EEM (internal 15cm insulation and external 30cm insulation).\n",
    "\n",
    "A modifier is designed to replace a part of the building model : replace wall, windows, infiltrations, hvac system, etc.."
   ],
   "metadata": {
    "collapsed": false,
    "pycharm": {
     "name": "#%% md\n"
    }
   }
  },
  {
   "cell_type": "markdown",
   "source": [
    "## External windows EEM"
   ],
   "metadata": {
    "collapsed": false,
    "pycharm": {
     "name": "#%% md\n"
    }
   }
  },
  {
   "cell_type": "markdown",
   "source": [
    "Similarly, we define EEM as a <code>dict</code>. <code>keys</code> are EEM names and <code>values</code> are dict defining energyplus object _WindowMaterial:SimpleGlazingSystem_"
   ],
   "metadata": {
    "collapsed": false,
    "pycharm": {
     "name": "#%% md\n"
    }
   }
  },
  {
   "cell_type": "code",
   "execution_count": 76,
   "outputs": [],
   "source": [
    "ext_win_variant_dict = {\n",
    "    \"EEM3_Double_glazing\": {\n",
    "        \"Name\": \"Double_glazing\",\n",
    "        \"UFactor\": 1.1,\n",
    "        \"Solar_Heat_Gain_Coefficient\": 0.41,\n",
    "        \"Visible_Transmittance\": 0.71,\n",
    "    },\n",
    "}"
   ],
   "metadata": {
    "collapsed": false,
    "pycharm": {
     "name": "#%%\n"
    }
   }
  },
  {
   "cell_type": "code",
   "execution_count": 77,
   "outputs": [],
   "source": [
    "modifier_list.append(mo.ExternalWindowsModifier(\n",
    "    name=\"Window_modifier\",\n",
    "    building=building,\n",
    "    variant_dict=ext_win_variant_dict\n",
    "))"
   ],
   "metadata": {
    "collapsed": false,
    "pycharm": {
     "name": "#%%\n"
    }
   }
  },
  {
   "cell_type": "markdown",
   "source": [
    "## HVAC EEM\n",
    "HVAC EEM definition is a bit different. We first have to define a new <code>energytool.system</code>. Than we instantiate a <code>SystemModifier</code>, specifying the <code>Building</code> dictionary and the <code>key</code> holding the system that needs to be replaced.\n",
    "\n",
    "For example, to replace the \"Main_boiler\":"
   ],
   "metadata": {
    "collapsed": false,
    "pycharm": {
     "name": "#%% md\n"
    }
   }
  },
  {
   "cell_type": "code",
   "execution_count": 78,
   "outputs": [],
   "source": [
    "boiler_variant_dict = {\n",
    "    \"EEM4_HP_main_heater\": st.HeaterSimple(\n",
    "        name=\"PAC\", building=building, cop=3)\n",
    "}"
   ],
   "metadata": {
    "collapsed": false,
    "pycharm": {
     "name": "#%%\n"
    }
   }
  },
  {
   "cell_type": "code",
   "execution_count": 79,
   "outputs": [],
   "source": [
    "modifier_list.append(mo.SystemModifier(\n",
    "    name=\"heater_modifier\",\n",
    "    building=building,\n",
    "    category=\"heating_system\",\n",
    "    system_name=\"Main_boiler\",\n",
    "    variant_dict=boiler_variant_dict\n",
    "))"
   ],
   "metadata": {
    "collapsed": false,
    "pycharm": {
     "name": "#%%\n"
    }
   }
  },
  {
   "cell_type": "markdown",
   "source": [
    "## Combine EEM and run simulations\n",
    "\n",
    "In order to combine all the EEM and to simulate their effect, we need to pass the previously defined list of modifiers to a <code>Combiner</code>"
   ],
   "metadata": {
    "collapsed": false,
    "pycharm": {
     "name": "#%% md\n"
    }
   }
  },
  {
   "cell_type": "code",
   "execution_count": 80,
   "outputs": [],
   "source": [
    "combiner = mo.Combiner(building, modifier_list=modifier_list)"
   ],
   "metadata": {
    "collapsed": false,
    "pycharm": {
     "name": "#%%\n"
    }
   }
  },
  {
   "cell_type": "markdown",
   "source": [
    "The combinations can be found using THE property <code>combination_list</code>"
   ],
   "metadata": {
    "collapsed": false,
    "pycharm": {
     "name": "#%% md\n"
    }
   }
  },
  {
   "cell_type": "code",
   "execution_count": 81,
   "outputs": [
    {
     "data": {
      "text/plain": "[('Existing', 'Existing', 'Existing'),\n ('Existing', 'Existing', 'EEM4_HP_main_heater'),\n ('Existing', 'EEM3_Double_glazing', 'Existing'),\n ('Existing', 'EEM3_Double_glazing', 'EEM4_HP_main_heater'),\n ('EEM1_Wall_int_insulation', 'Existing', 'Existing'),\n ('EEM1_Wall_int_insulation', 'Existing', 'EEM4_HP_main_heater'),\n ('EEM1_Wall_int_insulation', 'EEM3_Double_glazing', 'Existing'),\n ('EEM1_Wall_int_insulation', 'EEM3_Double_glazing', 'EEM4_HP_main_heater'),\n ('EEM2_Wall_ext_insulation', 'Existing', 'Existing'),\n ('EEM2_Wall_ext_insulation', 'Existing', 'EEM4_HP_main_heater'),\n ('EEM2_Wall_ext_insulation', 'EEM3_Double_glazing', 'Existing'),\n ('EEM2_Wall_ext_insulation', 'EEM3_Double_glazing', 'EEM4_HP_main_heater')]"
     },
     "execution_count": 81,
     "metadata": {},
     "output_type": "execute_result"
    }
   ],
   "source": [
    "combiner.combination_list"
   ],
   "metadata": {
    "collapsed": false,
    "pycharm": {
     "name": "#%%\n"
    }
   }
  },
  {
   "cell_type": "markdown",
   "source": [
    "Note that the combiner takes into account the Existing state when combining the EEMs. In fact the 1st simulation.\n",
    "Running the simulations to get the sample is easy"
   ],
   "metadata": {
    "collapsed": false,
    "pycharm": {
     "name": "#%% md\n"
    }
   }
  },
  {
   "cell_type": "code",
   "execution_count": 82,
   "outputs": [
    {
     "name": "stdout",
     "output_type": "stream",
     "text": [
      " |████████████████████████████████████████| 100.00% [3/3 00:21<00:00 batch]\r"
     ]
    }
   ],
   "source": [
    "combiner.run(\n",
    "    epw_file_path=Path(TUTORIAL_DIR) / \"resources/FRA_Bordeaux.075100_IWEC.epw\",\n",
    "    timestep_per_hour=1,\n",
    "    nb_simu_per_batch=5\n",
    ")"
   ],
   "metadata": {
    "collapsed": false,
    "pycharm": {
     "name": "#%%\n"
    }
   }
  },
  {
   "cell_type": "markdown",
   "source": [
    "The <code>Combiner</code> method <code>get_annual_system_results</code> simplify the results formatting and gives annual results on hvac system consumption.\n",
    "For now, summer thermal comfort has to be computed manually."
   ],
   "metadata": {
    "collapsed": false,
    "pycharm": {
     "name": "#%% md\n"
    }
   }
  },
  {
   "cell_type": "code",
   "execution_count": 90,
   "outputs": [],
   "source": [
    "res = combiner.get_annual_system_results(per_square_meter=True)"
   ],
   "metadata": {
    "collapsed": false,
    "pycharm": {
     "name": "#%%\n"
    }
   }
  },
  {
   "cell_type": "code",
   "execution_count": 92,
   "outputs": [
    {
     "data": {
      "text/plain": "                ext_wall_mod      Window_modifier      heater_modifier  \\\n0                   Existing             Existing             Existing   \n1                   Existing             Existing  EEM4_HP_main_heater   \n2                   Existing  EEM3_Double_glazing             Existing   \n3                   Existing  EEM3_Double_glazing  EEM4_HP_main_heater   \n4   EEM1_Wall_int_insulation             Existing             Existing   \n5   EEM1_Wall_int_insulation             Existing  EEM4_HP_main_heater   \n6   EEM1_Wall_int_insulation  EEM3_Double_glazing             Existing   \n7   EEM1_Wall_int_insulation  EEM3_Double_glazing  EEM4_HP_main_heater   \n8   EEM2_Wall_ext_insulation             Existing             Existing   \n9   EEM2_Wall_ext_insulation             Existing  EEM4_HP_main_heater   \n10  EEM2_Wall_ext_insulation  EEM3_Double_glazing             Existing   \n11  EEM2_Wall_ext_insulation  EEM3_Double_glazing  EEM4_HP_main_heater   \n\n      Heating  Cooling  Ventilation  Lighting        DHW  Local_production  \\\n0   44.030458      0.0     2.186344    24.388  24.137987               0.0   \n1   14.381737      0.0     2.186344    24.388  24.137987               0.0   \n2   40.476353      0.0     2.186344    24.388  24.137987               0.0   \n3   13.220854      0.0     2.186344    24.388  24.137987               0.0   \n4   11.995722      0.0     2.186344    24.388  24.137987               0.0   \n5    3.918181      0.0     2.186344    24.388  24.137987               0.0   \n6    9.421616      0.0     2.186344    24.388  24.137987               0.0   \n7    3.077397      0.0     2.186344    24.388  24.137987               0.0   \n8    8.705653      0.0     2.186344    24.388  24.137987               0.0   \n9    2.843541      0.0     2.186344    24.388  24.137987               0.0   \n10   6.510909      0.0     2.186344    24.388  24.137987               0.0   \n11   2.126668      0.0     2.186344    24.388  24.137987               0.0   \n\n        Total  \n0   94.742789  \n1   65.094068  \n2   91.188683  \n3   63.933185  \n4   62.708052  \n5   54.630512  \n6   60.133947  \n7   53.789728  \n8   59.417984  \n9   53.555872  \n10  57.223240  \n11  52.838999  ",
      "text/html": "<div>\n<style scoped>\n    .dataframe tbody tr th:only-of-type {\n        vertical-align: middle;\n    }\n\n    .dataframe tbody tr th {\n        vertical-align: top;\n    }\n\n    .dataframe thead th {\n        text-align: right;\n    }\n</style>\n<table border=\"1\" class=\"dataframe\">\n  <thead>\n    <tr style=\"text-align: right;\">\n      <th></th>\n      <th>ext_wall_mod</th>\n      <th>Window_modifier</th>\n      <th>heater_modifier</th>\n      <th>Heating</th>\n      <th>Cooling</th>\n      <th>Ventilation</th>\n      <th>Lighting</th>\n      <th>DHW</th>\n      <th>Local_production</th>\n      <th>Total</th>\n    </tr>\n  </thead>\n  <tbody>\n    <tr>\n      <th>0</th>\n      <td>Existing</td>\n      <td>Existing</td>\n      <td>Existing</td>\n      <td>44.030458</td>\n      <td>0.0</td>\n      <td>2.186344</td>\n      <td>24.388</td>\n      <td>24.137987</td>\n      <td>0.0</td>\n      <td>94.742789</td>\n    </tr>\n    <tr>\n      <th>1</th>\n      <td>Existing</td>\n      <td>Existing</td>\n      <td>EEM4_HP_main_heater</td>\n      <td>14.381737</td>\n      <td>0.0</td>\n      <td>2.186344</td>\n      <td>24.388</td>\n      <td>24.137987</td>\n      <td>0.0</td>\n      <td>65.094068</td>\n    </tr>\n    <tr>\n      <th>2</th>\n      <td>Existing</td>\n      <td>EEM3_Double_glazing</td>\n      <td>Existing</td>\n      <td>40.476353</td>\n      <td>0.0</td>\n      <td>2.186344</td>\n      <td>24.388</td>\n      <td>24.137987</td>\n      <td>0.0</td>\n      <td>91.188683</td>\n    </tr>\n    <tr>\n      <th>3</th>\n      <td>Existing</td>\n      <td>EEM3_Double_glazing</td>\n      <td>EEM4_HP_main_heater</td>\n      <td>13.220854</td>\n      <td>0.0</td>\n      <td>2.186344</td>\n      <td>24.388</td>\n      <td>24.137987</td>\n      <td>0.0</td>\n      <td>63.933185</td>\n    </tr>\n    <tr>\n      <th>4</th>\n      <td>EEM1_Wall_int_insulation</td>\n      <td>Existing</td>\n      <td>Existing</td>\n      <td>11.995722</td>\n      <td>0.0</td>\n      <td>2.186344</td>\n      <td>24.388</td>\n      <td>24.137987</td>\n      <td>0.0</td>\n      <td>62.708052</td>\n    </tr>\n    <tr>\n      <th>5</th>\n      <td>EEM1_Wall_int_insulation</td>\n      <td>Existing</td>\n      <td>EEM4_HP_main_heater</td>\n      <td>3.918181</td>\n      <td>0.0</td>\n      <td>2.186344</td>\n      <td>24.388</td>\n      <td>24.137987</td>\n      <td>0.0</td>\n      <td>54.630512</td>\n    </tr>\n    <tr>\n      <th>6</th>\n      <td>EEM1_Wall_int_insulation</td>\n      <td>EEM3_Double_glazing</td>\n      <td>Existing</td>\n      <td>9.421616</td>\n      <td>0.0</td>\n      <td>2.186344</td>\n      <td>24.388</td>\n      <td>24.137987</td>\n      <td>0.0</td>\n      <td>60.133947</td>\n    </tr>\n    <tr>\n      <th>7</th>\n      <td>EEM1_Wall_int_insulation</td>\n      <td>EEM3_Double_glazing</td>\n      <td>EEM4_HP_main_heater</td>\n      <td>3.077397</td>\n      <td>0.0</td>\n      <td>2.186344</td>\n      <td>24.388</td>\n      <td>24.137987</td>\n      <td>0.0</td>\n      <td>53.789728</td>\n    </tr>\n    <tr>\n      <th>8</th>\n      <td>EEM2_Wall_ext_insulation</td>\n      <td>Existing</td>\n      <td>Existing</td>\n      <td>8.705653</td>\n      <td>0.0</td>\n      <td>2.186344</td>\n      <td>24.388</td>\n      <td>24.137987</td>\n      <td>0.0</td>\n      <td>59.417984</td>\n    </tr>\n    <tr>\n      <th>9</th>\n      <td>EEM2_Wall_ext_insulation</td>\n      <td>Existing</td>\n      <td>EEM4_HP_main_heater</td>\n      <td>2.843541</td>\n      <td>0.0</td>\n      <td>2.186344</td>\n      <td>24.388</td>\n      <td>24.137987</td>\n      <td>0.0</td>\n      <td>53.555872</td>\n    </tr>\n    <tr>\n      <th>10</th>\n      <td>EEM2_Wall_ext_insulation</td>\n      <td>EEM3_Double_glazing</td>\n      <td>Existing</td>\n      <td>6.510909</td>\n      <td>0.0</td>\n      <td>2.186344</td>\n      <td>24.388</td>\n      <td>24.137987</td>\n      <td>0.0</td>\n      <td>57.223240</td>\n    </tr>\n    <tr>\n      <th>11</th>\n      <td>EEM2_Wall_ext_insulation</td>\n      <td>EEM3_Double_glazing</td>\n      <td>EEM4_HP_main_heater</td>\n      <td>2.126668</td>\n      <td>0.0</td>\n      <td>2.186344</td>\n      <td>24.388</td>\n      <td>24.137987</td>\n      <td>0.0</td>\n      <td>52.838999</td>\n    </tr>\n  </tbody>\n</table>\n</div>"
     },
     "execution_count": 92,
     "metadata": {},
     "output_type": "execute_result"
    }
   ],
   "source": [
    "res"
   ],
   "metadata": {
    "collapsed": false,
    "pycharm": {
     "name": "#%%\n"
    }
   }
  },
  {
   "cell_type": "markdown",
   "source": [
    "Sorted results ar useful to easily determine the best combination.\n",
    "The <code>Combiner</code> method <code>plot_consumption_stacked_bar</code> gives a graphical representation of the results."
   ],
   "metadata": {
    "collapsed": false,
    "pycharm": {
     "name": "#%% md\n"
    }
   }
  },
  {
   "cell_type": "code",
   "execution_count": 96,
   "outputs": [
    {
     "data": {
      "text/plain": "                ext_wall_mod      Window_modifier      heater_modifier  \\\n0                   Existing             Existing             Existing   \n2                   Existing  EEM3_Double_glazing             Existing   \n1                   Existing             Existing  EEM4_HP_main_heater   \n3                   Existing  EEM3_Double_glazing  EEM4_HP_main_heater   \n4   EEM1_Wall_int_insulation             Existing             Existing   \n6   EEM1_Wall_int_insulation  EEM3_Double_glazing             Existing   \n8   EEM2_Wall_ext_insulation             Existing             Existing   \n10  EEM2_Wall_ext_insulation  EEM3_Double_glazing             Existing   \n5   EEM1_Wall_int_insulation             Existing  EEM4_HP_main_heater   \n7   EEM1_Wall_int_insulation  EEM3_Double_glazing  EEM4_HP_main_heater   \n9   EEM2_Wall_ext_insulation             Existing  EEM4_HP_main_heater   \n11  EEM2_Wall_ext_insulation  EEM3_Double_glazing  EEM4_HP_main_heater   \n\n      Heating  Cooling  Ventilation  Lighting        DHW  Local_production  \\\n0   44.030458      0.0     2.186344    24.388  24.137987               0.0   \n2   40.476353      0.0     2.186344    24.388  24.137987               0.0   \n1   14.381737      0.0     2.186344    24.388  24.137987               0.0   \n3   13.220854      0.0     2.186344    24.388  24.137987               0.0   \n4   11.995722      0.0     2.186344    24.388  24.137987               0.0   \n6    9.421616      0.0     2.186344    24.388  24.137987               0.0   \n8    8.705653      0.0     2.186344    24.388  24.137987               0.0   \n10   6.510909      0.0     2.186344    24.388  24.137987               0.0   \n5    3.918181      0.0     2.186344    24.388  24.137987               0.0   \n7    3.077397      0.0     2.186344    24.388  24.137987               0.0   \n9    2.843541      0.0     2.186344    24.388  24.137987               0.0   \n11   2.126668      0.0     2.186344    24.388  24.137987               0.0   \n\n        Total  \n0   94.742789  \n2   91.188683  \n1   65.094068  \n3   63.933185  \n4   62.708052  \n6   60.133947  \n8   59.417984  \n10  57.223240  \n5   54.630512  \n7   53.789728  \n9   53.555872  \n11  52.838999  ",
      "text/html": "<div>\n<style scoped>\n    .dataframe tbody tr th:only-of-type {\n        vertical-align: middle;\n    }\n\n    .dataframe tbody tr th {\n        vertical-align: top;\n    }\n\n    .dataframe thead th {\n        text-align: right;\n    }\n</style>\n<table border=\"1\" class=\"dataframe\">\n  <thead>\n    <tr style=\"text-align: right;\">\n      <th></th>\n      <th>ext_wall_mod</th>\n      <th>Window_modifier</th>\n      <th>heater_modifier</th>\n      <th>Heating</th>\n      <th>Cooling</th>\n      <th>Ventilation</th>\n      <th>Lighting</th>\n      <th>DHW</th>\n      <th>Local_production</th>\n      <th>Total</th>\n    </tr>\n  </thead>\n  <tbody>\n    <tr>\n      <th>0</th>\n      <td>Existing</td>\n      <td>Existing</td>\n      <td>Existing</td>\n      <td>44.030458</td>\n      <td>0.0</td>\n      <td>2.186344</td>\n      <td>24.388</td>\n      <td>24.137987</td>\n      <td>0.0</td>\n      <td>94.742789</td>\n    </tr>\n    <tr>\n      <th>2</th>\n      <td>Existing</td>\n      <td>EEM3_Double_glazing</td>\n      <td>Existing</td>\n      <td>40.476353</td>\n      <td>0.0</td>\n      <td>2.186344</td>\n      <td>24.388</td>\n      <td>24.137987</td>\n      <td>0.0</td>\n      <td>91.188683</td>\n    </tr>\n    <tr>\n      <th>1</th>\n      <td>Existing</td>\n      <td>Existing</td>\n      <td>EEM4_HP_main_heater</td>\n      <td>14.381737</td>\n      <td>0.0</td>\n      <td>2.186344</td>\n      <td>24.388</td>\n      <td>24.137987</td>\n      <td>0.0</td>\n      <td>65.094068</td>\n    </tr>\n    <tr>\n      <th>3</th>\n      <td>Existing</td>\n      <td>EEM3_Double_glazing</td>\n      <td>EEM4_HP_main_heater</td>\n      <td>13.220854</td>\n      <td>0.0</td>\n      <td>2.186344</td>\n      <td>24.388</td>\n      <td>24.137987</td>\n      <td>0.0</td>\n      <td>63.933185</td>\n    </tr>\n    <tr>\n      <th>4</th>\n      <td>EEM1_Wall_int_insulation</td>\n      <td>Existing</td>\n      <td>Existing</td>\n      <td>11.995722</td>\n      <td>0.0</td>\n      <td>2.186344</td>\n      <td>24.388</td>\n      <td>24.137987</td>\n      <td>0.0</td>\n      <td>62.708052</td>\n    </tr>\n    <tr>\n      <th>6</th>\n      <td>EEM1_Wall_int_insulation</td>\n      <td>EEM3_Double_glazing</td>\n      <td>Existing</td>\n      <td>9.421616</td>\n      <td>0.0</td>\n      <td>2.186344</td>\n      <td>24.388</td>\n      <td>24.137987</td>\n      <td>0.0</td>\n      <td>60.133947</td>\n    </tr>\n    <tr>\n      <th>8</th>\n      <td>EEM2_Wall_ext_insulation</td>\n      <td>Existing</td>\n      <td>Existing</td>\n      <td>8.705653</td>\n      <td>0.0</td>\n      <td>2.186344</td>\n      <td>24.388</td>\n      <td>24.137987</td>\n      <td>0.0</td>\n      <td>59.417984</td>\n    </tr>\n    <tr>\n      <th>10</th>\n      <td>EEM2_Wall_ext_insulation</td>\n      <td>EEM3_Double_glazing</td>\n      <td>Existing</td>\n      <td>6.510909</td>\n      <td>0.0</td>\n      <td>2.186344</td>\n      <td>24.388</td>\n      <td>24.137987</td>\n      <td>0.0</td>\n      <td>57.223240</td>\n    </tr>\n    <tr>\n      <th>5</th>\n      <td>EEM1_Wall_int_insulation</td>\n      <td>Existing</td>\n      <td>EEM4_HP_main_heater</td>\n      <td>3.918181</td>\n      <td>0.0</td>\n      <td>2.186344</td>\n      <td>24.388</td>\n      <td>24.137987</td>\n      <td>0.0</td>\n      <td>54.630512</td>\n    </tr>\n    <tr>\n      <th>7</th>\n      <td>EEM1_Wall_int_insulation</td>\n      <td>EEM3_Double_glazing</td>\n      <td>EEM4_HP_main_heater</td>\n      <td>3.077397</td>\n      <td>0.0</td>\n      <td>2.186344</td>\n      <td>24.388</td>\n      <td>24.137987</td>\n      <td>0.0</td>\n      <td>53.789728</td>\n    </tr>\n    <tr>\n      <th>9</th>\n      <td>EEM2_Wall_ext_insulation</td>\n      <td>Existing</td>\n      <td>EEM4_HP_main_heater</td>\n      <td>2.843541</td>\n      <td>0.0</td>\n      <td>2.186344</td>\n      <td>24.388</td>\n      <td>24.137987</td>\n      <td>0.0</td>\n      <td>53.555872</td>\n    </tr>\n    <tr>\n      <th>11</th>\n      <td>EEM2_Wall_ext_insulation</td>\n      <td>EEM3_Double_glazing</td>\n      <td>EEM4_HP_main_heater</td>\n      <td>2.126668</td>\n      <td>0.0</td>\n      <td>2.186344</td>\n      <td>24.388</td>\n      <td>24.137987</td>\n      <td>0.0</td>\n      <td>52.838999</td>\n    </tr>\n  </tbody>\n</table>\n</div>"
     },
     "execution_count": 96,
     "metadata": {},
     "output_type": "execute_result"
    }
   ],
   "source": [
    "res.sort_values(by=\"Total\", ascending=False)"
   ],
   "metadata": {
    "collapsed": false,
    "pycharm": {
     "name": "#%%\n"
    }
   }
  },
  {
   "cell_type": "code",
   "execution_count": 97,
   "outputs": [
    {
     "data": {
      "application/vnd.plotly.v1+json": {
       "data": [
        {
         "alignmentgroup": "True",
         "hovertemplate": "variable=Heating<br>index=%{x}<br>value=%{y}<extra></extra>",
         "legendgroup": "Heating",
         "marker": {
          "color": "#636efa",
          "pattern": {
           "shape": ""
          }
         },
         "name": "Heating",
         "offsetgroup": "Heating",
         "orientation": "v",
         "showlegend": true,
         "textposition": "auto",
         "x": [
          0,
          1,
          2,
          3,
          4,
          5,
          6,
          7,
          8,
          9,
          10,
          11
         ],
         "xaxis": "x",
         "y": [
          44.03045819541187,
          40.47635280478194,
          14.381737342589453,
          13.220854346798887,
          11.995722002522887,
          9.421616144080089,
          8.705653340335097,
          6.510909106947386,
          3.918181416812565,
          3.077397199127484,
          2.8435411500982837,
          2.1266684126250675
         ],
         "yaxis": "y",
         "type": "bar"
        },
        {
         "alignmentgroup": "True",
         "hovertemplate": "variable=Cooling<br>index=%{x}<br>value=%{y}<extra></extra>",
         "legendgroup": "Cooling",
         "marker": {
          "color": "#EF553B",
          "pattern": {
           "shape": ""
          }
         },
         "name": "Cooling",
         "offsetgroup": "Cooling",
         "orientation": "v",
         "showlegend": true,
         "textposition": "auto",
         "x": [
          0,
          1,
          2,
          3,
          4,
          5,
          6,
          7,
          8,
          9,
          10,
          11
         ],
         "xaxis": "x",
         "y": [
          0.0,
          0.0,
          0.0,
          0.0,
          0.0,
          0.0,
          0.0,
          0.0,
          0.0,
          0.0,
          0.0,
          0.0
         ],
         "yaxis": "y",
         "type": "bar"
        },
        {
         "alignmentgroup": "True",
         "hovertemplate": "variable=Ventilation<br>index=%{x}<br>value=%{y}<extra></extra>",
         "legendgroup": "Ventilation",
         "marker": {
          "color": "#00cc96",
          "pattern": {
           "shape": ""
          }
         },
         "name": "Ventilation",
         "offsetgroup": "Ventilation",
         "orientation": "v",
         "showlegend": true,
         "textposition": "auto",
         "x": [
          0,
          1,
          2,
          3,
          4,
          5,
          6,
          7,
          8,
          9,
          10,
          11
         ],
         "xaxis": "x",
         "y": [
          2.1863436972161137,
          2.1863436972161137,
          2.1863436972161137,
          2.1863436972161137,
          2.1863436972161137,
          2.1863436972161137,
          2.1863436972161137,
          2.1863436972161137,
          2.1863436972161137,
          2.1863436972161137,
          2.1863436972161137,
          2.1863436972161137
         ],
         "yaxis": "y",
         "type": "bar"
        },
        {
         "alignmentgroup": "True",
         "hovertemplate": "variable=Lighting<br>index=%{x}<br>value=%{y}<extra></extra>",
         "legendgroup": "Lighting",
         "marker": {
          "color": "#ab63fa",
          "pattern": {
           "shape": ""
          }
         },
         "name": "Lighting",
         "offsetgroup": "Lighting",
         "orientation": "v",
         "showlegend": true,
         "textposition": "auto",
         "x": [
          0,
          1,
          2,
          3,
          4,
          5,
          6,
          7,
          8,
          9,
          10,
          11
         ],
         "xaxis": "x",
         "y": [
          24.38799999999999,
          24.38799999999999,
          24.38799999999999,
          24.38799999999999,
          24.38799999999999,
          24.38799999999999,
          24.38799999999999,
          24.38799999999999,
          24.38799999999999,
          24.38799999999999,
          24.38799999999999,
          24.38799999999999
         ],
         "yaxis": "y",
         "type": "bar"
        },
        {
         "alignmentgroup": "True",
         "hovertemplate": "variable=DHW<br>index=%{x}<br>value=%{y}<extra></extra>",
         "legendgroup": "DHW",
         "marker": {
          "color": "#FFA15A",
          "pattern": {
           "shape": ""
          }
         },
         "name": "DHW",
         "offsetgroup": "DHW",
         "orientation": "v",
         "showlegend": true,
         "textposition": "auto",
         "x": [
          0,
          1,
          2,
          3,
          4,
          5,
          6,
          7,
          8,
          9,
          10,
          11
         ],
         "xaxis": "x",
         "y": [
          24.137986764705875,
          24.137986764705875,
          24.137986764705875,
          24.137986764705875,
          24.137986764705875,
          24.137986764705875,
          24.137986764705875,
          24.137986764705875,
          24.137986764705875,
          24.137986764705875,
          24.137986764705875,
          24.137986764705875
         ],
         "yaxis": "y",
         "type": "bar"
        },
        {
         "alignmentgroup": "True",
         "hovertemplate": "variable=Local_production<br>index=%{x}<br>value=%{y}<extra></extra>",
         "legendgroup": "Local_production",
         "marker": {
          "color": "#19d3f3",
          "pattern": {
           "shape": ""
          }
         },
         "name": "Local_production",
         "offsetgroup": "Local_production",
         "orientation": "v",
         "showlegend": true,
         "textposition": "auto",
         "x": [
          0,
          1,
          2,
          3,
          4,
          5,
          6,
          7,
          8,
          9,
          10,
          11
         ],
         "xaxis": "x",
         "y": [
          0.0,
          0.0,
          0.0,
          0.0,
          0.0,
          0.0,
          0.0,
          0.0,
          0.0,
          0.0,
          0.0,
          0.0
         ],
         "yaxis": "y",
         "type": "bar"
        }
       ],
       "layout": {
        "template": {
         "data": {
          "histogram2dcontour": [
           {
            "type": "histogram2dcontour",
            "colorbar": {
             "outlinewidth": 0,
             "ticks": ""
            },
            "colorscale": [
             [
              0.0,
              "#0d0887"
             ],
             [
              0.1111111111111111,
              "#46039f"
             ],
             [
              0.2222222222222222,
              "#7201a8"
             ],
             [
              0.3333333333333333,
              "#9c179e"
             ],
             [
              0.4444444444444444,
              "#bd3786"
             ],
             [
              0.5555555555555556,
              "#d8576b"
             ],
             [
              0.6666666666666666,
              "#ed7953"
             ],
             [
              0.7777777777777778,
              "#fb9f3a"
             ],
             [
              0.8888888888888888,
              "#fdca26"
             ],
             [
              1.0,
              "#f0f921"
             ]
            ]
           }
          ],
          "choropleth": [
           {
            "type": "choropleth",
            "colorbar": {
             "outlinewidth": 0,
             "ticks": ""
            }
           }
          ],
          "histogram2d": [
           {
            "type": "histogram2d",
            "colorbar": {
             "outlinewidth": 0,
             "ticks": ""
            },
            "colorscale": [
             [
              0.0,
              "#0d0887"
             ],
             [
              0.1111111111111111,
              "#46039f"
             ],
             [
              0.2222222222222222,
              "#7201a8"
             ],
             [
              0.3333333333333333,
              "#9c179e"
             ],
             [
              0.4444444444444444,
              "#bd3786"
             ],
             [
              0.5555555555555556,
              "#d8576b"
             ],
             [
              0.6666666666666666,
              "#ed7953"
             ],
             [
              0.7777777777777778,
              "#fb9f3a"
             ],
             [
              0.8888888888888888,
              "#fdca26"
             ],
             [
              1.0,
              "#f0f921"
             ]
            ]
           }
          ],
          "heatmap": [
           {
            "type": "heatmap",
            "colorbar": {
             "outlinewidth": 0,
             "ticks": ""
            },
            "colorscale": [
             [
              0.0,
              "#0d0887"
             ],
             [
              0.1111111111111111,
              "#46039f"
             ],
             [
              0.2222222222222222,
              "#7201a8"
             ],
             [
              0.3333333333333333,
              "#9c179e"
             ],
             [
              0.4444444444444444,
              "#bd3786"
             ],
             [
              0.5555555555555556,
              "#d8576b"
             ],
             [
              0.6666666666666666,
              "#ed7953"
             ],
             [
              0.7777777777777778,
              "#fb9f3a"
             ],
             [
              0.8888888888888888,
              "#fdca26"
             ],
             [
              1.0,
              "#f0f921"
             ]
            ]
           }
          ],
          "heatmapgl": [
           {
            "type": "heatmapgl",
            "colorbar": {
             "outlinewidth": 0,
             "ticks": ""
            },
            "colorscale": [
             [
              0.0,
              "#0d0887"
             ],
             [
              0.1111111111111111,
              "#46039f"
             ],
             [
              0.2222222222222222,
              "#7201a8"
             ],
             [
              0.3333333333333333,
              "#9c179e"
             ],
             [
              0.4444444444444444,
              "#bd3786"
             ],
             [
              0.5555555555555556,
              "#d8576b"
             ],
             [
              0.6666666666666666,
              "#ed7953"
             ],
             [
              0.7777777777777778,
              "#fb9f3a"
             ],
             [
              0.8888888888888888,
              "#fdca26"
             ],
             [
              1.0,
              "#f0f921"
             ]
            ]
           }
          ],
          "contourcarpet": [
           {
            "type": "contourcarpet",
            "colorbar": {
             "outlinewidth": 0,
             "ticks": ""
            }
           }
          ],
          "contour": [
           {
            "type": "contour",
            "colorbar": {
             "outlinewidth": 0,
             "ticks": ""
            },
            "colorscale": [
             [
              0.0,
              "#0d0887"
             ],
             [
              0.1111111111111111,
              "#46039f"
             ],
             [
              0.2222222222222222,
              "#7201a8"
             ],
             [
              0.3333333333333333,
              "#9c179e"
             ],
             [
              0.4444444444444444,
              "#bd3786"
             ],
             [
              0.5555555555555556,
              "#d8576b"
             ],
             [
              0.6666666666666666,
              "#ed7953"
             ],
             [
              0.7777777777777778,
              "#fb9f3a"
             ],
             [
              0.8888888888888888,
              "#fdca26"
             ],
             [
              1.0,
              "#f0f921"
             ]
            ]
           }
          ],
          "surface": [
           {
            "type": "surface",
            "colorbar": {
             "outlinewidth": 0,
             "ticks": ""
            },
            "colorscale": [
             [
              0.0,
              "#0d0887"
             ],
             [
              0.1111111111111111,
              "#46039f"
             ],
             [
              0.2222222222222222,
              "#7201a8"
             ],
             [
              0.3333333333333333,
              "#9c179e"
             ],
             [
              0.4444444444444444,
              "#bd3786"
             ],
             [
              0.5555555555555556,
              "#d8576b"
             ],
             [
              0.6666666666666666,
              "#ed7953"
             ],
             [
              0.7777777777777778,
              "#fb9f3a"
             ],
             [
              0.8888888888888888,
              "#fdca26"
             ],
             [
              1.0,
              "#f0f921"
             ]
            ]
           }
          ],
          "mesh3d": [
           {
            "type": "mesh3d",
            "colorbar": {
             "outlinewidth": 0,
             "ticks": ""
            }
           }
          ],
          "scatter": [
           {
            "fillpattern": {
             "fillmode": "overlay",
             "size": 10,
             "solidity": 0.2
            },
            "type": "scatter"
           }
          ],
          "parcoords": [
           {
            "type": "parcoords",
            "line": {
             "colorbar": {
              "outlinewidth": 0,
              "ticks": ""
             }
            }
           }
          ],
          "scatterpolargl": [
           {
            "type": "scatterpolargl",
            "marker": {
             "colorbar": {
              "outlinewidth": 0,
              "ticks": ""
             }
            }
           }
          ],
          "bar": [
           {
            "error_x": {
             "color": "#2a3f5f"
            },
            "error_y": {
             "color": "#2a3f5f"
            },
            "marker": {
             "line": {
              "color": "#E5ECF6",
              "width": 0.5
             },
             "pattern": {
              "fillmode": "overlay",
              "size": 10,
              "solidity": 0.2
             }
            },
            "type": "bar"
           }
          ],
          "scattergeo": [
           {
            "type": "scattergeo",
            "marker": {
             "colorbar": {
              "outlinewidth": 0,
              "ticks": ""
             }
            }
           }
          ],
          "scatterpolar": [
           {
            "type": "scatterpolar",
            "marker": {
             "colorbar": {
              "outlinewidth": 0,
              "ticks": ""
             }
            }
           }
          ],
          "histogram": [
           {
            "marker": {
             "pattern": {
              "fillmode": "overlay",
              "size": 10,
              "solidity": 0.2
             }
            },
            "type": "histogram"
           }
          ],
          "scattergl": [
           {
            "type": "scattergl",
            "marker": {
             "colorbar": {
              "outlinewidth": 0,
              "ticks": ""
             }
            }
           }
          ],
          "scatter3d": [
           {
            "type": "scatter3d",
            "line": {
             "colorbar": {
              "outlinewidth": 0,
              "ticks": ""
             }
            },
            "marker": {
             "colorbar": {
              "outlinewidth": 0,
              "ticks": ""
             }
            }
           }
          ],
          "scattermapbox": [
           {
            "type": "scattermapbox",
            "marker": {
             "colorbar": {
              "outlinewidth": 0,
              "ticks": ""
             }
            }
           }
          ],
          "scatterternary": [
           {
            "type": "scatterternary",
            "marker": {
             "colorbar": {
              "outlinewidth": 0,
              "ticks": ""
             }
            }
           }
          ],
          "scattercarpet": [
           {
            "type": "scattercarpet",
            "marker": {
             "colorbar": {
              "outlinewidth": 0,
              "ticks": ""
             }
            }
           }
          ],
          "carpet": [
           {
            "aaxis": {
             "endlinecolor": "#2a3f5f",
             "gridcolor": "white",
             "linecolor": "white",
             "minorgridcolor": "white",
             "startlinecolor": "#2a3f5f"
            },
            "baxis": {
             "endlinecolor": "#2a3f5f",
             "gridcolor": "white",
             "linecolor": "white",
             "minorgridcolor": "white",
             "startlinecolor": "#2a3f5f"
            },
            "type": "carpet"
           }
          ],
          "table": [
           {
            "cells": {
             "fill": {
              "color": "#EBF0F8"
             },
             "line": {
              "color": "white"
             }
            },
            "header": {
             "fill": {
              "color": "#C8D4E3"
             },
             "line": {
              "color": "white"
             }
            },
            "type": "table"
           }
          ],
          "barpolar": [
           {
            "marker": {
             "line": {
              "color": "#E5ECF6",
              "width": 0.5
             },
             "pattern": {
              "fillmode": "overlay",
              "size": 10,
              "solidity": 0.2
             }
            },
            "type": "barpolar"
           }
          ],
          "pie": [
           {
            "automargin": true,
            "type": "pie"
           }
          ]
         },
         "layout": {
          "autotypenumbers": "strict",
          "colorway": [
           "#636efa",
           "#EF553B",
           "#00cc96",
           "#ab63fa",
           "#FFA15A",
           "#19d3f3",
           "#FF6692",
           "#B6E880",
           "#FF97FF",
           "#FECB52"
          ],
          "font": {
           "color": "#2a3f5f"
          },
          "hovermode": "closest",
          "hoverlabel": {
           "align": "left"
          },
          "paper_bgcolor": "white",
          "plot_bgcolor": "#E5ECF6",
          "polar": {
           "bgcolor": "#E5ECF6",
           "angularaxis": {
            "gridcolor": "white",
            "linecolor": "white",
            "ticks": ""
           },
           "radialaxis": {
            "gridcolor": "white",
            "linecolor": "white",
            "ticks": ""
           }
          },
          "ternary": {
           "bgcolor": "#E5ECF6",
           "aaxis": {
            "gridcolor": "white",
            "linecolor": "white",
            "ticks": ""
           },
           "baxis": {
            "gridcolor": "white",
            "linecolor": "white",
            "ticks": ""
           },
           "caxis": {
            "gridcolor": "white",
            "linecolor": "white",
            "ticks": ""
           }
          },
          "coloraxis": {
           "colorbar": {
            "outlinewidth": 0,
            "ticks": ""
           }
          },
          "colorscale": {
           "sequential": [
            [
             0.0,
             "#0d0887"
            ],
            [
             0.1111111111111111,
             "#46039f"
            ],
            [
             0.2222222222222222,
             "#7201a8"
            ],
            [
             0.3333333333333333,
             "#9c179e"
            ],
            [
             0.4444444444444444,
             "#bd3786"
            ],
            [
             0.5555555555555556,
             "#d8576b"
            ],
            [
             0.6666666666666666,
             "#ed7953"
            ],
            [
             0.7777777777777778,
             "#fb9f3a"
            ],
            [
             0.8888888888888888,
             "#fdca26"
            ],
            [
             1.0,
             "#f0f921"
            ]
           ],
           "sequentialminus": [
            [
             0.0,
             "#0d0887"
            ],
            [
             0.1111111111111111,
             "#46039f"
            ],
            [
             0.2222222222222222,
             "#7201a8"
            ],
            [
             0.3333333333333333,
             "#9c179e"
            ],
            [
             0.4444444444444444,
             "#bd3786"
            ],
            [
             0.5555555555555556,
             "#d8576b"
            ],
            [
             0.6666666666666666,
             "#ed7953"
            ],
            [
             0.7777777777777778,
             "#fb9f3a"
            ],
            [
             0.8888888888888888,
             "#fdca26"
            ],
            [
             1.0,
             "#f0f921"
            ]
           ],
           "diverging": [
            [
             0,
             "#8e0152"
            ],
            [
             0.1,
             "#c51b7d"
            ],
            [
             0.2,
             "#de77ae"
            ],
            [
             0.3,
             "#f1b6da"
            ],
            [
             0.4,
             "#fde0ef"
            ],
            [
             0.5,
             "#f7f7f7"
            ],
            [
             0.6,
             "#e6f5d0"
            ],
            [
             0.7,
             "#b8e186"
            ],
            [
             0.8,
             "#7fbc41"
            ],
            [
             0.9,
             "#4d9221"
            ],
            [
             1,
             "#276419"
            ]
           ]
          },
          "xaxis": {
           "gridcolor": "white",
           "linecolor": "white",
           "ticks": "",
           "title": {
            "standoff": 15
           },
           "zerolinecolor": "white",
           "automargin": true,
           "zerolinewidth": 2
          },
          "yaxis": {
           "gridcolor": "white",
           "linecolor": "white",
           "ticks": "",
           "title": {
            "standoff": 15
           },
           "zerolinecolor": "white",
           "automargin": true,
           "zerolinewidth": 2
          },
          "scene": {
           "xaxis": {
            "backgroundcolor": "#E5ECF6",
            "gridcolor": "white",
            "linecolor": "white",
            "showbackground": true,
            "ticks": "",
            "zerolinecolor": "white",
            "gridwidth": 2
           },
           "yaxis": {
            "backgroundcolor": "#E5ECF6",
            "gridcolor": "white",
            "linecolor": "white",
            "showbackground": true,
            "ticks": "",
            "zerolinecolor": "white",
            "gridwidth": 2
           },
           "zaxis": {
            "backgroundcolor": "#E5ECF6",
            "gridcolor": "white",
            "linecolor": "white",
            "showbackground": true,
            "ticks": "",
            "zerolinecolor": "white",
            "gridwidth": 2
           }
          },
          "shapedefaults": {
           "line": {
            "color": "#2a3f5f"
           }
          },
          "annotationdefaults": {
           "arrowcolor": "#2a3f5f",
           "arrowhead": 0,
           "arrowwidth": 1
          },
          "geo": {
           "bgcolor": "white",
           "landcolor": "#E5ECF6",
           "subunitcolor": "white",
           "showland": true,
           "showlakes": true,
           "lakecolor": "white"
          },
          "title": {
           "x": 0.05
          },
          "mapbox": {
           "style": "light"
          }
         }
        },
        "xaxis": {
         "anchor": "y",
         "domain": [
          0.0,
          1.0
         ],
         "title": {
          "text": "index"
         }
        },
        "yaxis": {
         "anchor": "x",
         "domain": [
          0.0,
          1.0
         ],
         "title": {
          "text": "Hvac system consumption [kWh/m²]"
         }
        },
        "legend": {
         "title": {
          "text": "HVAC"
         },
         "tracegroupgap": 0
        },
        "margin": {
         "t": 60
        },
        "barmode": "relative",
        "title": {
         "text": "Annual HVAC system consumption"
        }
       },
       "config": {
        "plotlyServerURL": "https://plot.ly"
       }
      },
      "text/html": "<div>                            <div id=\"0576dbb6-39f1-4f35-a283-b1f3e59d9509\" class=\"plotly-graph-div\" style=\"height:525px; width:100%;\"></div>            <script type=\"text/javascript\">                require([\"plotly\"], function(Plotly) {                    window.PLOTLYENV=window.PLOTLYENV || {};                                    if (document.getElementById(\"0576dbb6-39f1-4f35-a283-b1f3e59d9509\")) {                    Plotly.newPlot(                        \"0576dbb6-39f1-4f35-a283-b1f3e59d9509\",                        [{\"alignmentgroup\":\"True\",\"hovertemplate\":\"variable=Heating<br>index=%{x}<br>value=%{y}<extra></extra>\",\"legendgroup\":\"Heating\",\"marker\":{\"color\":\"#636efa\",\"pattern\":{\"shape\":\"\"}},\"name\":\"Heating\",\"offsetgroup\":\"Heating\",\"orientation\":\"v\",\"showlegend\":true,\"textposition\":\"auto\",\"x\":[0,1,2,3,4,5,6,7,8,9,10,11],\"xaxis\":\"x\",\"y\":[44.03045819541187,40.47635280478194,14.381737342589453,13.220854346798887,11.995722002522887,9.421616144080089,8.705653340335097,6.510909106947386,3.918181416812565,3.077397199127484,2.8435411500982837,2.1266684126250675],\"yaxis\":\"y\",\"type\":\"bar\"},{\"alignmentgroup\":\"True\",\"hovertemplate\":\"variable=Cooling<br>index=%{x}<br>value=%{y}<extra></extra>\",\"legendgroup\":\"Cooling\",\"marker\":{\"color\":\"#EF553B\",\"pattern\":{\"shape\":\"\"}},\"name\":\"Cooling\",\"offsetgroup\":\"Cooling\",\"orientation\":\"v\",\"showlegend\":true,\"textposition\":\"auto\",\"x\":[0,1,2,3,4,5,6,7,8,9,10,11],\"xaxis\":\"x\",\"y\":[0.0,0.0,0.0,0.0,0.0,0.0,0.0,0.0,0.0,0.0,0.0,0.0],\"yaxis\":\"y\",\"type\":\"bar\"},{\"alignmentgroup\":\"True\",\"hovertemplate\":\"variable=Ventilation<br>index=%{x}<br>value=%{y}<extra></extra>\",\"legendgroup\":\"Ventilation\",\"marker\":{\"color\":\"#00cc96\",\"pattern\":{\"shape\":\"\"}},\"name\":\"Ventilation\",\"offsetgroup\":\"Ventilation\",\"orientation\":\"v\",\"showlegend\":true,\"textposition\":\"auto\",\"x\":[0,1,2,3,4,5,6,7,8,9,10,11],\"xaxis\":\"x\",\"y\":[2.1863436972161137,2.1863436972161137,2.1863436972161137,2.1863436972161137,2.1863436972161137,2.1863436972161137,2.1863436972161137,2.1863436972161137,2.1863436972161137,2.1863436972161137,2.1863436972161137,2.1863436972161137],\"yaxis\":\"y\",\"type\":\"bar\"},{\"alignmentgroup\":\"True\",\"hovertemplate\":\"variable=Lighting<br>index=%{x}<br>value=%{y}<extra></extra>\",\"legendgroup\":\"Lighting\",\"marker\":{\"color\":\"#ab63fa\",\"pattern\":{\"shape\":\"\"}},\"name\":\"Lighting\",\"offsetgroup\":\"Lighting\",\"orientation\":\"v\",\"showlegend\":true,\"textposition\":\"auto\",\"x\":[0,1,2,3,4,5,6,7,8,9,10,11],\"xaxis\":\"x\",\"y\":[24.38799999999999,24.38799999999999,24.38799999999999,24.38799999999999,24.38799999999999,24.38799999999999,24.38799999999999,24.38799999999999,24.38799999999999,24.38799999999999,24.38799999999999,24.38799999999999],\"yaxis\":\"y\",\"type\":\"bar\"},{\"alignmentgroup\":\"True\",\"hovertemplate\":\"variable=DHW<br>index=%{x}<br>value=%{y}<extra></extra>\",\"legendgroup\":\"DHW\",\"marker\":{\"color\":\"#FFA15A\",\"pattern\":{\"shape\":\"\"}},\"name\":\"DHW\",\"offsetgroup\":\"DHW\",\"orientation\":\"v\",\"showlegend\":true,\"textposition\":\"auto\",\"x\":[0,1,2,3,4,5,6,7,8,9,10,11],\"xaxis\":\"x\",\"y\":[24.137986764705875,24.137986764705875,24.137986764705875,24.137986764705875,24.137986764705875,24.137986764705875,24.137986764705875,24.137986764705875,24.137986764705875,24.137986764705875,24.137986764705875,24.137986764705875],\"yaxis\":\"y\",\"type\":\"bar\"},{\"alignmentgroup\":\"True\",\"hovertemplate\":\"variable=Local_production<br>index=%{x}<br>value=%{y}<extra></extra>\",\"legendgroup\":\"Local_production\",\"marker\":{\"color\":\"#19d3f3\",\"pattern\":{\"shape\":\"\"}},\"name\":\"Local_production\",\"offsetgroup\":\"Local_production\",\"orientation\":\"v\",\"showlegend\":true,\"textposition\":\"auto\",\"x\":[0,1,2,3,4,5,6,7,8,9,10,11],\"xaxis\":\"x\",\"y\":[0.0,0.0,0.0,0.0,0.0,0.0,0.0,0.0,0.0,0.0,0.0,0.0],\"yaxis\":\"y\",\"type\":\"bar\"}],                        {\"template\":{\"data\":{\"histogram2dcontour\":[{\"type\":\"histogram2dcontour\",\"colorbar\":{\"outlinewidth\":0,\"ticks\":\"\"},\"colorscale\":[[0.0,\"#0d0887\"],[0.1111111111111111,\"#46039f\"],[0.2222222222222222,\"#7201a8\"],[0.3333333333333333,\"#9c179e\"],[0.4444444444444444,\"#bd3786\"],[0.5555555555555556,\"#d8576b\"],[0.6666666666666666,\"#ed7953\"],[0.7777777777777778,\"#fb9f3a\"],[0.8888888888888888,\"#fdca26\"],[1.0,\"#f0f921\"]]}],\"choropleth\":[{\"type\":\"choropleth\",\"colorbar\":{\"outlinewidth\":0,\"ticks\":\"\"}}],\"histogram2d\":[{\"type\":\"histogram2d\",\"colorbar\":{\"outlinewidth\":0,\"ticks\":\"\"},\"colorscale\":[[0.0,\"#0d0887\"],[0.1111111111111111,\"#46039f\"],[0.2222222222222222,\"#7201a8\"],[0.3333333333333333,\"#9c179e\"],[0.4444444444444444,\"#bd3786\"],[0.5555555555555556,\"#d8576b\"],[0.6666666666666666,\"#ed7953\"],[0.7777777777777778,\"#fb9f3a\"],[0.8888888888888888,\"#fdca26\"],[1.0,\"#f0f921\"]]}],\"heatmap\":[{\"type\":\"heatmap\",\"colorbar\":{\"outlinewidth\":0,\"ticks\":\"\"},\"colorscale\":[[0.0,\"#0d0887\"],[0.1111111111111111,\"#46039f\"],[0.2222222222222222,\"#7201a8\"],[0.3333333333333333,\"#9c179e\"],[0.4444444444444444,\"#bd3786\"],[0.5555555555555556,\"#d8576b\"],[0.6666666666666666,\"#ed7953\"],[0.7777777777777778,\"#fb9f3a\"],[0.8888888888888888,\"#fdca26\"],[1.0,\"#f0f921\"]]}],\"heatmapgl\":[{\"type\":\"heatmapgl\",\"colorbar\":{\"outlinewidth\":0,\"ticks\":\"\"},\"colorscale\":[[0.0,\"#0d0887\"],[0.1111111111111111,\"#46039f\"],[0.2222222222222222,\"#7201a8\"],[0.3333333333333333,\"#9c179e\"],[0.4444444444444444,\"#bd3786\"],[0.5555555555555556,\"#d8576b\"],[0.6666666666666666,\"#ed7953\"],[0.7777777777777778,\"#fb9f3a\"],[0.8888888888888888,\"#fdca26\"],[1.0,\"#f0f921\"]]}],\"contourcarpet\":[{\"type\":\"contourcarpet\",\"colorbar\":{\"outlinewidth\":0,\"ticks\":\"\"}}],\"contour\":[{\"type\":\"contour\",\"colorbar\":{\"outlinewidth\":0,\"ticks\":\"\"},\"colorscale\":[[0.0,\"#0d0887\"],[0.1111111111111111,\"#46039f\"],[0.2222222222222222,\"#7201a8\"],[0.3333333333333333,\"#9c179e\"],[0.4444444444444444,\"#bd3786\"],[0.5555555555555556,\"#d8576b\"],[0.6666666666666666,\"#ed7953\"],[0.7777777777777778,\"#fb9f3a\"],[0.8888888888888888,\"#fdca26\"],[1.0,\"#f0f921\"]]}],\"surface\":[{\"type\":\"surface\",\"colorbar\":{\"outlinewidth\":0,\"ticks\":\"\"},\"colorscale\":[[0.0,\"#0d0887\"],[0.1111111111111111,\"#46039f\"],[0.2222222222222222,\"#7201a8\"],[0.3333333333333333,\"#9c179e\"],[0.4444444444444444,\"#bd3786\"],[0.5555555555555556,\"#d8576b\"],[0.6666666666666666,\"#ed7953\"],[0.7777777777777778,\"#fb9f3a\"],[0.8888888888888888,\"#fdca26\"],[1.0,\"#f0f921\"]]}],\"mesh3d\":[{\"type\":\"mesh3d\",\"colorbar\":{\"outlinewidth\":0,\"ticks\":\"\"}}],\"scatter\":[{\"fillpattern\":{\"fillmode\":\"overlay\",\"size\":10,\"solidity\":0.2},\"type\":\"scatter\"}],\"parcoords\":[{\"type\":\"parcoords\",\"line\":{\"colorbar\":{\"outlinewidth\":0,\"ticks\":\"\"}}}],\"scatterpolargl\":[{\"type\":\"scatterpolargl\",\"marker\":{\"colorbar\":{\"outlinewidth\":0,\"ticks\":\"\"}}}],\"bar\":[{\"error_x\":{\"color\":\"#2a3f5f\"},\"error_y\":{\"color\":\"#2a3f5f\"},\"marker\":{\"line\":{\"color\":\"#E5ECF6\",\"width\":0.5},\"pattern\":{\"fillmode\":\"overlay\",\"size\":10,\"solidity\":0.2}},\"type\":\"bar\"}],\"scattergeo\":[{\"type\":\"scattergeo\",\"marker\":{\"colorbar\":{\"outlinewidth\":0,\"ticks\":\"\"}}}],\"scatterpolar\":[{\"type\":\"scatterpolar\",\"marker\":{\"colorbar\":{\"outlinewidth\":0,\"ticks\":\"\"}}}],\"histogram\":[{\"marker\":{\"pattern\":{\"fillmode\":\"overlay\",\"size\":10,\"solidity\":0.2}},\"type\":\"histogram\"}],\"scattergl\":[{\"type\":\"scattergl\",\"marker\":{\"colorbar\":{\"outlinewidth\":0,\"ticks\":\"\"}}}],\"scatter3d\":[{\"type\":\"scatter3d\",\"line\":{\"colorbar\":{\"outlinewidth\":0,\"ticks\":\"\"}},\"marker\":{\"colorbar\":{\"outlinewidth\":0,\"ticks\":\"\"}}}],\"scattermapbox\":[{\"type\":\"scattermapbox\",\"marker\":{\"colorbar\":{\"outlinewidth\":0,\"ticks\":\"\"}}}],\"scatterternary\":[{\"type\":\"scatterternary\",\"marker\":{\"colorbar\":{\"outlinewidth\":0,\"ticks\":\"\"}}}],\"scattercarpet\":[{\"type\":\"scattercarpet\",\"marker\":{\"colorbar\":{\"outlinewidth\":0,\"ticks\":\"\"}}}],\"carpet\":[{\"aaxis\":{\"endlinecolor\":\"#2a3f5f\",\"gridcolor\":\"white\",\"linecolor\":\"white\",\"minorgridcolor\":\"white\",\"startlinecolor\":\"#2a3f5f\"},\"baxis\":{\"endlinecolor\":\"#2a3f5f\",\"gridcolor\":\"white\",\"linecolor\":\"white\",\"minorgridcolor\":\"white\",\"startlinecolor\":\"#2a3f5f\"},\"type\":\"carpet\"}],\"table\":[{\"cells\":{\"fill\":{\"color\":\"#EBF0F8\"},\"line\":{\"color\":\"white\"}},\"header\":{\"fill\":{\"color\":\"#C8D4E3\"},\"line\":{\"color\":\"white\"}},\"type\":\"table\"}],\"barpolar\":[{\"marker\":{\"line\":{\"color\":\"#E5ECF6\",\"width\":0.5},\"pattern\":{\"fillmode\":\"overlay\",\"size\":10,\"solidity\":0.2}},\"type\":\"barpolar\"}],\"pie\":[{\"automargin\":true,\"type\":\"pie\"}]},\"layout\":{\"autotypenumbers\":\"strict\",\"colorway\":[\"#636efa\",\"#EF553B\",\"#00cc96\",\"#ab63fa\",\"#FFA15A\",\"#19d3f3\",\"#FF6692\",\"#B6E880\",\"#FF97FF\",\"#FECB52\"],\"font\":{\"color\":\"#2a3f5f\"},\"hovermode\":\"closest\",\"hoverlabel\":{\"align\":\"left\"},\"paper_bgcolor\":\"white\",\"plot_bgcolor\":\"#E5ECF6\",\"polar\":{\"bgcolor\":\"#E5ECF6\",\"angularaxis\":{\"gridcolor\":\"white\",\"linecolor\":\"white\",\"ticks\":\"\"},\"radialaxis\":{\"gridcolor\":\"white\",\"linecolor\":\"white\",\"ticks\":\"\"}},\"ternary\":{\"bgcolor\":\"#E5ECF6\",\"aaxis\":{\"gridcolor\":\"white\",\"linecolor\":\"white\",\"ticks\":\"\"},\"baxis\":{\"gridcolor\":\"white\",\"linecolor\":\"white\",\"ticks\":\"\"},\"caxis\":{\"gridcolor\":\"white\",\"linecolor\":\"white\",\"ticks\":\"\"}},\"coloraxis\":{\"colorbar\":{\"outlinewidth\":0,\"ticks\":\"\"}},\"colorscale\":{\"sequential\":[[0.0,\"#0d0887\"],[0.1111111111111111,\"#46039f\"],[0.2222222222222222,\"#7201a8\"],[0.3333333333333333,\"#9c179e\"],[0.4444444444444444,\"#bd3786\"],[0.5555555555555556,\"#d8576b\"],[0.6666666666666666,\"#ed7953\"],[0.7777777777777778,\"#fb9f3a\"],[0.8888888888888888,\"#fdca26\"],[1.0,\"#f0f921\"]],\"sequentialminus\":[[0.0,\"#0d0887\"],[0.1111111111111111,\"#46039f\"],[0.2222222222222222,\"#7201a8\"],[0.3333333333333333,\"#9c179e\"],[0.4444444444444444,\"#bd3786\"],[0.5555555555555556,\"#d8576b\"],[0.6666666666666666,\"#ed7953\"],[0.7777777777777778,\"#fb9f3a\"],[0.8888888888888888,\"#fdca26\"],[1.0,\"#f0f921\"]],\"diverging\":[[0,\"#8e0152\"],[0.1,\"#c51b7d\"],[0.2,\"#de77ae\"],[0.3,\"#f1b6da\"],[0.4,\"#fde0ef\"],[0.5,\"#f7f7f7\"],[0.6,\"#e6f5d0\"],[0.7,\"#b8e186\"],[0.8,\"#7fbc41\"],[0.9,\"#4d9221\"],[1,\"#276419\"]]},\"xaxis\":{\"gridcolor\":\"white\",\"linecolor\":\"white\",\"ticks\":\"\",\"title\":{\"standoff\":15},\"zerolinecolor\":\"white\",\"automargin\":true,\"zerolinewidth\":2},\"yaxis\":{\"gridcolor\":\"white\",\"linecolor\":\"white\",\"ticks\":\"\",\"title\":{\"standoff\":15},\"zerolinecolor\":\"white\",\"automargin\":true,\"zerolinewidth\":2},\"scene\":{\"xaxis\":{\"backgroundcolor\":\"#E5ECF6\",\"gridcolor\":\"white\",\"linecolor\":\"white\",\"showbackground\":true,\"ticks\":\"\",\"zerolinecolor\":\"white\",\"gridwidth\":2},\"yaxis\":{\"backgroundcolor\":\"#E5ECF6\",\"gridcolor\":\"white\",\"linecolor\":\"white\",\"showbackground\":true,\"ticks\":\"\",\"zerolinecolor\":\"white\",\"gridwidth\":2},\"zaxis\":{\"backgroundcolor\":\"#E5ECF6\",\"gridcolor\":\"white\",\"linecolor\":\"white\",\"showbackground\":true,\"ticks\":\"\",\"zerolinecolor\":\"white\",\"gridwidth\":2}},\"shapedefaults\":{\"line\":{\"color\":\"#2a3f5f\"}},\"annotationdefaults\":{\"arrowcolor\":\"#2a3f5f\",\"arrowhead\":0,\"arrowwidth\":1},\"geo\":{\"bgcolor\":\"white\",\"landcolor\":\"#E5ECF6\",\"subunitcolor\":\"white\",\"showland\":true,\"showlakes\":true,\"lakecolor\":\"white\"},\"title\":{\"x\":0.05},\"mapbox\":{\"style\":\"light\"}}},\"xaxis\":{\"anchor\":\"y\",\"domain\":[0.0,1.0],\"title\":{\"text\":\"index\"}},\"yaxis\":{\"anchor\":\"x\",\"domain\":[0.0,1.0],\"title\":{\"text\":\"Hvac system consumption [kWh/m\\u00b2]\"}},\"legend\":{\"title\":{\"text\":\"HVAC\"},\"tracegroupgap\":0},\"margin\":{\"t\":60},\"barmode\":\"relative\",\"title\":{\"text\":\"Annual HVAC system consumption\"}},                        {\"responsive\": true}                    ).then(function(){\n                            \nvar gd = document.getElementById('0576dbb6-39f1-4f35-a283-b1f3e59d9509');\nvar x = new MutationObserver(function (mutations, observer) {{\n        var display = window.getComputedStyle(gd).display;\n        if (!display || display === 'none') {{\n            console.log([gd, 'removed!']);\n            Plotly.purge(gd);\n            observer.disconnect();\n        }}\n}});\n\n// Listen for the removal of the full notebook cells\nvar notebookContainer = gd.closest('#notebook-container');\nif (notebookContainer) {{\n    x.observe(notebookContainer, {childList: true});\n}}\n\n// Listen for the clearing of the current output cell\nvar outputEl = gd.closest('.output');\nif (outputEl) {{\n    x.observe(outputEl, {childList: true});\n}}\n\n                        })                };                });            </script>        </div>"
     },
     "metadata": {},
     "output_type": "display_data"
    }
   ],
   "source": [
    "combiner.plot_consumption_stacked_bar(per_square_meter=True)"
   ],
   "metadata": {
    "collapsed": false,
    "pycharm": {
     "name": "#%%\n"
    }
   }
  }
 ],
 "metadata": {
  "kernelspec": {
   "display_name": "Python 3",
   "language": "python",
   "name": "python3"
  },
  "language_info": {
   "codemirror_mode": {
    "name": "ipython",
    "version": 2
   },
   "file_extension": ".py",
   "mimetype": "text/x-python",
   "name": "python",
   "nbconvert_exporter": "python",
   "pygments_lexer": "ipython2",
   "version": "2.7.6"
  }
 },
 "nbformat": 4,
 "nbformat_minor": 0
}