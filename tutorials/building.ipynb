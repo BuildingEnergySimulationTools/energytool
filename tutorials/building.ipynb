{
 "cells": [
  {
   "cell_type": "code",
   "execution_count": 1,
   "metadata": {
    "collapsed": true
   },
   "outputs": [],
   "source": [
    "import os\n",
    "from pathlib import Path\n",
    "\n",
    "import matplotlib.pyplot as plt\n",
    "\n",
    "TUTORIAL_DIR = Path(os.getcwd()).as_posix()"
   ]
  },
  {
   "cell_type": "markdown",
   "source": [
    "# Energytool Building"
   ],
   "metadata": {
    "collapsed": false,
    "pycharm": {
     "name": "#%% md\n"
    }
   }
  },
  {
   "cell_type": "markdown",
   "source": [
    "The aim of the tutorial is to introduce the energytool <code>Building</code> class.\n",
    "It is build on top of [energyplus](https://energyplus.net/) and of the python library [eppy](https://github.com/santoshphilip/eppy).\n",
    "It has been designed to simplify the HVAC, Domestic Hot Water (DHW) production and local energy production (Photovoltaic)\n",
    "\n",
    "<img src=\"resources/building_class.png\"  height=\"300\">\n",
    "\n",
    "- It has only one positional argument \"idf_path\". When instantiated it uses eppy.modeleditor <code>IDF</code> to read the idf file\n",
    "- 7 <code>dict</code> are used to organise the HVAC DHW and production equipments objects. Additional objects can be stored in the \"other\" <code>dict</code>, such as thermal comfort indicator objects.\n",
    "\n",
    "- <code>property</code> are defined to compute specific results.\n",
    "\n",
    "During simulation :\n",
    "\n",
    "1- The <code>pre_process()</code> method is called. It calls the <code>pre_process()</code> method of each object contained in the previously described <code>dict</code>. Be careful, order matters in some cases\n",
    "\n",
    "2- Energyplus is called and the simulation runs.\n",
    "\n",
    "3- The <code>post_process()</code> method is called. It calls the <code>post_process()</code> method of each object contained in the previously described <code>dict</code>."
   ],
   "metadata": {
    "collapsed": false,
    "pycharm": {
     "name": "#%% md\n"
    }
   }
  },
  {
   "cell_type": "markdown",
   "source": [
    "## 1- Instantiate a Building"
   ],
   "metadata": {
    "collapsed": false,
    "pycharm": {
     "name": "#%% md\n"
    }
   }
  },
  {
   "cell_type": "markdown",
   "source": [
    "Let's load an example idf file that model a 2 storey and 4 apartments building:\n",
    "\n",
    "|             Figure 1: Building model perspective              |                 Figure 2: Building first floor                  |\n",
    "|:-------------------------------------------------------------:|:---------------------------------------------------------------:|\n",
    "| <img height=\"300\" src=\"resources/building_tuto_3d_pers.png\"/> | <img src=\"resources/building_tuto_1st_floor.png\"  height=\"300\"> |"
   ],
   "metadata": {
    "collapsed": false,
    "pycharm": {
     "name": "#%% md\n"
    }
   }
  },
  {
   "cell_type": "code",
   "execution_count": 2,
   "outputs": [],
   "source": [
    "from energytool.building import Building"
   ],
   "metadata": {
    "collapsed": false,
    "pycharm": {
     "name": "#%%\n"
    }
   }
  },
  {
   "cell_type": "code",
   "execution_count": 3,
   "outputs": [],
   "source": [
    "building = Building(idf_path=Path(TUTORIAL_DIR) / \"resources/tuto_building.idf\")"
   ],
   "metadata": {
    "collapsed": false,
    "pycharm": {
     "name": "#%%\n"
    }
   }
  },
  {
   "cell_type": "markdown",
   "source": [
    "<code>Building</code> method <code>infos()</code> displays information on the model"
   ],
   "metadata": {
    "collapsed": false,
    "pycharm": {
     "name": "#%% md\n"
    }
   }
  },
  {
   "cell_type": "code",
   "execution_count": 4,
   "outputs": [
    {
     "name": "stdout",
     "output_type": "stream",
     "text": [
      "==Building==\n",
      "\n",
      "Number of occupants : 3.8\n",
      "Building surface : 176.89350000000002 m²\n",
      "Building volume : 521.6447000000001 m3\n",
      "Zone number : 5\n",
      "\n",
      "==HVAC systems==\n",
      "\n",
      "Heating systems : []\n",
      "Cooling systems : []\n",
      "Ventilation system : []\n",
      "Artificial lighting system : []\n",
      "DHW production : []\n",
      "PV production : []\n",
      "Others : []\n"
     ]
    }
   ],
   "source": [
    "building.infos()"
   ],
   "metadata": {
    "collapsed": false,
    "pycharm": {
     "name": "#%%\n"
    }
   }
  },
  {
   "cell_type": "markdown",
   "source": [
    "Building surface, zone number, etc. are calculated from the imported idf file.\n",
    "In the HVAC section we can see that the 7 dictionaries are empty.\n",
    "\n",
    "However, it doesn't mean that no HVAC system are  modeled in the idf file.\n",
    " - Heating and ventilation are modeled using IdealLoadsAirSystem\n",
    " - Artificial Lighting is defined with the object Lights\n",
    "\n",
    "__*The <code>Building</code> class allows you to add \"Systems\" that will edit a part of the  idf file and/or select and apply a post treatment to the simulation results. It cannot replace proper idf HVAC configuration. The use of IdealLoadsAirSystem is recommended.*__\n"
   ],
   "metadata": {
    "collapsed": false,
    "pycharm": {
     "name": "#%% md\n"
    }
   }
  },
  {
   "cell_type": "markdown",
   "source": [
    "## 2- Add systems"
   ],
   "metadata": {
    "collapsed": false,
    "pycharm": {
     "name": "#%% md\n"
    }
   }
  },
  {
   "cell_type": "markdown",
   "source": [
    "In energytool, a system is a class that modify an idf file or post process results.\n",
    "The module <code>energytool.system</code> holds several examples of system class.\n",
    "Custom class can be written as long as they have the following structure :\n",
    "\n",
    "<img src=\"resources/system_class.png\"  height=\"300\">\n",
    "\n",
    "- The attribute <code>building</code> is the only mandatory attribute. It references the building object where the system will be connected\n",
    "- The other attributes depends on the system (COP, list of zone names, etc.)\n",
    "- Every system have a <code>pre-process()</code> and a <code>post-process()</code> methods\n"
   ],
   "metadata": {
    "collapsed": false,
    "pycharm": {
     "name": "#%% md\n"
    }
   }
  },
  {
   "cell_type": "markdown",
   "source": [
    "In the following lines we add most of the systems present in <code>energytool.system</code> module.\n",
    " For more information on the effects of each system on the simulation, see the <code>energytool.system</code> documentation."
   ],
   "metadata": {
    "collapsed": false,
    "pycharm": {
     "name": "#%% md\n"
    }
   }
  },
  {
   "cell_type": "code",
   "execution_count": 5,
   "outputs": [],
   "source": [
    "from energytool.system import HeaterSimple\n",
    "from energytool.system import AuxiliarySimplified\n",
    "from energytool.system import AirHandlingUnit\n",
    "from energytool.system import AHUControl\n",
    "from energytool.system import DHWIdealExternal\n",
    "from energytool.system import ArtificialLightingSimple"
   ],
   "metadata": {
    "collapsed": false,
    "pycharm": {
     "name": "#%%\n"
    }
   }
  },
  {
   "cell_type": "code",
   "execution_count": 6,
   "outputs": [],
   "source": [
    "# Simulate a boiler, multiplying the heat needs by a constant COP\n",
    "building.heating_system[\"Main_boiler\"] = HeaterSimple(\n",
    "    name=\"Gaz_boiler\",\n",
    "    building=building,\n",
    "    cop=0.89\n",
    ")\n",
    "\n",
    "# Estimate circulation pumps energy consumption multiplying the heat needs by a constant (default 0.05)\n",
    "building.heating_system[\"Circulation_pumps\"] = AuxiliarySimplified(\n",
    "    name=\"Heater_aux\",\n",
    "    building=building\n",
    ")\n",
    "\n",
    "# Simulate fan consumption multiplying extracted air volume by a constant coefficient\n",
    "# Do not have a heat exchanger\n",
    "building.ventilation_system[\"Main_AHU\"] = AirHandlingUnit(\n",
    "    name=\"Extraction_fan\",\n",
    "    building=building,\n",
    "    fan_energy_coefficient=0.23, # Wh/m3\n",
    "    heat_recovery_efficiency=False\n",
    ")\n",
    "\n",
    "# Simulate clock regulation\n",
    "# Ventilation works according to specified schedule\n",
    "#  is defined in the energytool/resources/resources_idf.idf file\n",
    "building.ventilation_system[\"AHU_control\"] = AHUControl(\n",
    "    name=\"Hygro_intakes\",\n",
    "    building=building,\n",
    "    control_strategy=\"Schedule\",\n",
    "    schedule_name=\"OFF_09h_18h_ON_18h_24h_ON_WE_FULL_YEAR\",\n",
    ")\n",
    "\n",
    "# Estimate Domestic Hot Water production energy needs\n",
    "# Use the number of people defined in the idf file to estimate the total volume.\n",
    "# Otherwise, energy calculation is independent of energyplus\n",
    "building.dwh_system[\"DHW_production\"] = DHWIdealExternal(\n",
    "    name=\"Electric_accumulation\",\n",
    "    building=building,\n",
    "    cop=0.85,\n",
    ")\n",
    "\n",
    "# Estimate Domestic Hot Water production energy needs\n",
    "# Use the number of people defined in the idf file to estimate the total volume.\n",
    "# Otherwise, energy calculation is independent of energyplus\n",
    "building.dwh_system[\"DHW_production\"] = DHWIdealExternal(\n",
    "    name=\"Electric_accumulation\",\n",
    "    building=building,\n",
    "    cop=0.85,\n",
    ")\n",
    "\n",
    "# Estimate Lighting consumption using a constant power ratio.\n",
    "# Modify the existing energyplus object\n",
    "building.artificial_lighting_system[\"Lights\"] = ArtificialLightingSimple(\n",
    "    name=\"Random_lights\",\n",
    "    building=building,\n",
    "    power_ratio=4 # W/m²\n",
    ")"
   ],
   "metadata": {
    "collapsed": false,
    "pycharm": {
     "name": "#%%\n"
    }
   }
  },
  {
   "cell_type": "markdown",
   "source": [
    "## 3- Thermal comfort and other post treatment"
   ],
   "metadata": {
    "collapsed": false,
    "pycharm": {
     "name": "#%% md\n"
    }
   }
  },
  {
   "cell_type": "markdown",
   "source": [
    "For now, occupant thermal comfort is a property of <code>Building</code>. It is often computed from several simulation outputs. They need to be specified 'a-priori'. The <code>Building</code> dictionary <code>other</code> is designed to hold the objects that don't belong to HVAC systems but that will apply pre- or post-process methods.\n",
    "\n",
    "In this example, we use the French HQE definition of occupant thermal comfort. Thus we need to obtain the Zones Operative Temperature and the occupancy schedule for each zone."
   ],
   "metadata": {
    "collapsed": false,
    "pycharm": {
     "name": "#%% md\n"
    }
   }
  },
  {
   "cell_type": "code",
   "execution_count": 7,
   "outputs": [],
   "source": [
    "from energytool.indicators import AddOutputVariables"
   ],
   "metadata": {
    "collapsed": false,
    "pycharm": {
     "name": "#%%\n"
    }
   }
  },
  {
   "cell_type": "code",
   "execution_count": 8,
   "outputs": [],
   "source": [
    "building.other[\"Thermal_comfort_variables\"] = AddOutputVariables(\n",
    "    name=\"HQE_discomfort\",\n",
    "    building=building,\n",
    "    variables=[\"Zone Operative Temperature\", \"Zone People Occupant Count\"]\n",
    ")"
   ],
   "metadata": {
    "collapsed": false,
    "pycharm": {
     "name": "#%%\n"
    }
   }
  },
  {
   "cell_type": "markdown",
   "source": [
    "Using <code>infos</code> you can check the systems you just added"
   ],
   "metadata": {
    "collapsed": false
   }
  },
  {
   "cell_type": "code",
   "execution_count": 9,
   "outputs": [
    {
     "name": "stdout",
     "output_type": "stream",
     "text": [
      "==Building==\n",
      "\n",
      "Number of occupants : 3.8\n",
      "Building surface : 176.89350000000002 m²\n",
      "Building volume : 521.6447000000001 m3\n",
      "Zone number : 5\n",
      "\n",
      "==HVAC systems==\n",
      "\n",
      "Heating systems : ['Main_boiler', 'Circulation_pumps']\n",
      "Cooling systems : []\n",
      "Ventilation system : ['Main_AHU', 'AHU_control']\n",
      "Artificial lighting system : ['Lights']\n",
      "DHW production : ['DHW_production']\n",
      "PV production : []\n",
      "Others : ['Thermal_comfort_variables']\n"
     ]
    }
   ],
   "source": [
    "building.infos()"
   ],
   "metadata": {
    "collapsed": false,
    "pycharm": {
     "name": "#%%\n"
    }
   }
  },
  {
   "cell_type": "markdown",
   "source": [
    "## 4. Building simulation"
   ],
   "metadata": {
    "collapsed": false,
    "pycharm": {
     "name": "#%% md\n"
    }
   }
  },
  {
   "cell_type": "markdown",
   "source": [
    "### 4.1 Single simulation"
   ],
   "metadata": {
    "collapsed": false,
    "pycharm": {
     "name": "#%% md\n"
    }
   }
  },
  {
   "cell_type": "markdown",
   "source": [
    "Energytool is designed to execute batch of several simulations in parallel. Therefore two <code>class</code> of the <code>energytool.simulate</code> are used:\n",
    "- <code>Simulation</code> is used to define the simulation parameters and weather file\n",
    "- <code>SimulationRunner</code> is used to run a <code>list</code> of <code>Simulation</code>"
   ],
   "metadata": {
    "collapsed": false,
    "pycharm": {
     "name": "#%% md\n"
    }
   }
  },
  {
   "cell_type": "code",
   "execution_count": 10,
   "outputs": [],
   "source": [
    "from energytool.simulate import Simulation\n",
    "from energytool.simulate import SimulationsRunner"
   ],
   "metadata": {
    "collapsed": false,
    "pycharm": {
     "name": "#%%\n"
    }
   }
  },
  {
   "cell_type": "code",
   "execution_count": 11,
   "outputs": [],
   "source": [
    "import datetime as dt"
   ],
   "metadata": {
    "collapsed": false,
    "pycharm": {
     "name": "#%%\n"
    }
   }
  },
  {
   "cell_type": "code",
   "execution_count": 12,
   "outputs": [],
   "source": [
    "# Define a simulation\n",
    "my_simulation = Simulation(\n",
    "    building=building,\n",
    "    epw_file_path=Path(TUTORIAL_DIR) / \"resources/FRA_Bordeaux.075100_IWEC.epw\",\n",
    "    simulation_start=dt.datetime(2022, 1, 1, 0, 0, 0),\n",
    "    simulation_stop=dt.datetime(2022, 12, 31, 23, 0, 0),\n",
    "    timestep_per_hour=1,\n",
    ")"
   ],
   "metadata": {
    "collapsed": false,
    "pycharm": {
     "name": "#%%\n"
    }
   }
  },
  {
   "cell_type": "markdown",
   "source": [
    "Energyplus doesn't care about the year. But it can be useful if you are calibrating a simulation, or if you need the right day of week (monda, tuesday, etc.). That's why the notion of \"year\" have been added to energytool. If you don't need it, you can leave <code>simulation_start</code> and <code>simulation_stop</code> to default. It will run the simulation for a full year."
   ],
   "metadata": {
    "collapsed": false,
    "pycharm": {
     "name": "#%% md\n"
    }
   }
  },
  {
   "cell_type": "code",
   "execution_count": 13,
   "outputs": [],
   "source": [
    "# Define a runner with a list of 1 simulation\n",
    "simulation_runner = SimulationsRunner(simu_list=[my_simulation])"
   ],
   "metadata": {
    "collapsed": false,
    "pycharm": {
     "name": "#%%\n"
    }
   }
  },
  {
   "cell_type": "code",
   "execution_count": 14,
   "outputs": [
    {
     "name": "stdout",
     "output_type": "stream",
     "text": [
      " |████████████████████████████████████████| 100.00% [1/1 00:03<00:00 batch]\r"
     ]
    }
   ],
   "source": [
    "# Run it !!!\n",
    "simulation_runner.run()"
   ],
   "metadata": {
    "collapsed": false,
    "pycharm": {
     "name": "#%%\n"
    }
   }
  },
  {
   "cell_type": "markdown",
   "source": [
    "Simulation results are available at building level. They are stored in a <code>DataFrame</code> at an hourly timestep :\n",
    " - <code>energyplus_results</code> contains raw energyplus results\n",
    " - <code>building_results</code> contains HVAC objects post treated results\n",
    " - <code>system_energy_results</code> property contains RT 2020 type results"
   ],
   "metadata": {
    "collapsed": false,
    "pycharm": {
     "name": "#%% md\n"
    }
   }
  },
  {
   "cell_type": "code",
   "execution_count": 15,
   "outputs": [
    {
     "data": {
      "text/plain": "<Figure size 432x288 with 1 Axes>",
      "image/png": "[encoded data removed]"
     },
     "metadata": {},
     "output_type": "display_data"
    }
   ],
   "source": [
    "# At building level\n",
    "building.building_results.sum().plot(kind=\"pie\")\n",
    "plt.show()"
   ],
   "metadata": {
    "collapsed": false,
    "pycharm": {
     "name": "#%%\n"
    }
   }
  },
  {
   "cell_type": "markdown",
   "source": [],
   "metadata": {
    "collapsed": false
   }
  },
  {
   "cell_type": "markdown",
   "source": [
    "### 4.2 Building modifications and batch simulation"
   ],
   "metadata": {
    "collapsed": false,
    "pycharm": {
     "name": "#%% md\n"
    }
   }
  },
  {
   "cell_type": "markdown",
   "source": [
    "The aim af energytool is to make batch simulation building in order to quickly simulate and compare building variant.\n",
    "To make a building variant, you have to make a <code>deepcopy()</code> of your building, and pass it to a new <code>Simulation</code> object\n",
    "\n",
    "In the following example, we will make to variants.\n",
    "1- Changing the Main boiler COP to 2.5\n",
    "2- changing the lights power ratio to 2W/m²"
   ],
   "metadata": {
    "collapsed": false,
    "pycharm": {
     "name": "#%% md\n"
    }
   }
  },
  {
   "cell_type": "code",
   "execution_count": 16,
   "outputs": [],
   "source": [
    "from copy import deepcopy"
   ],
   "metadata": {
    "collapsed": false,
    "pycharm": {
     "name": "#%%\n"
    }
   }
  },
  {
   "cell_type": "code",
   "execution_count": 17,
   "outputs": [],
   "source": [
    "variant_1 = deepcopy(building)\n",
    "variant_1.heating_system[\"Main_boiler\"].cop = 2"
   ],
   "metadata": {
    "collapsed": false,
    "pycharm": {
     "name": "#%%\n"
    }
   }
  },
  {
   "cell_type": "code",
   "execution_count": 18,
   "outputs": [],
   "source": [
    "variant_2 = deepcopy(building)\n",
    "variant_2.artificial_lighting_system[\"Lights\"].power_ratio = 2"
   ],
   "metadata": {
    "collapsed": false,
    "pycharm": {
     "name": "#%%\n"
    }
   }
  },
  {
   "cell_type": "code",
   "execution_count": 19,
   "outputs": [],
   "source": [
    "simu_var_1 = Simulation(\n",
    "    building=variant_1,\n",
    "    epw_file_path=Path(TUTORIAL_DIR) / \"resources/FRA_Bordeaux.075100_IWEC.epw\")\n",
    "\n",
    "simu_var_2 = Simulation(\n",
    "    building=variant_2,\n",
    "    epw_file_path=Path(TUTORIAL_DIR) / \"resources/FRA_Bordeaux.075100_IWEC.epw\")"
   ],
   "metadata": {
    "collapsed": false,
    "pycharm": {
     "name": "#%%\n"
    }
   }
  },
  {
   "cell_type": "markdown",
   "source": [
    "The new simulations can be passed to a <code>SimulationRunner</code>.\n",
    "Following arguments can be passed :\n",
    "- <code>run_dir</code> provide a <code>Path</code> object to specify the folder where the simulations will be executed. By default, energytool creates a temporary folder. The argument is useful mainly for debug purpose\n",
    "- <code>nb_cpus</code> specify the number of CPUs you want energytool to use. Default is -1 meaning all the CPUs available\n",
    "- <code>nb_simu_per_batch</code> default is 10. We recommend that this number is superior or equal to the number of CPUs"
   ],
   "metadata": {
    "collapsed": false,
    "pycharm": {
     "name": "#%% md\n"
    }
   }
  },
  {
   "cell_type": "code",
   "execution_count": 20,
   "outputs": [
    {
     "name": "stdout",
     "output_type": "stream",
     "text": [
      " |████████████████████████████████████████| 100.00% [1/1 00:12<00:00 batch]\r"
     ]
    }
   ],
   "source": [
    "runner = SimulationsRunner(\n",
    "    simu_list=[simu_var_1, simu_var_2])\n",
    "runner.run()"
   ],
   "metadata": {
    "collapsed": false,
    "pycharm": {
     "name": "#%%\n"
    }
   }
  },
  {
   "cell_type": "markdown",
   "source": [
    "After some Pandas and matplolib manipulation, you can easily compare the results"
   ],
   "metadata": {
    "collapsed": false,
    "pycharm": {
     "name": "#%% md\n"
    }
   }
  },
  {
   "cell_type": "code",
   "execution_count": 21,
   "outputs": [],
   "source": [
    "import pandas as pd"
   ],
   "metadata": {
    "collapsed": false,
    "pycharm": {
     "name": "#%%\n"
    }
   }
  },
  {
   "cell_type": "code",
   "execution_count": 22,
   "outputs": [],
   "source": [
    "combine_df = pd.concat(\n",
    "    [var.building_results.sum()\n",
    "     for var in [building, variant_1, variant_2]],\n",
    "    axis=1)\n",
    "combine_df.columns = [\"Existing\", \"variant_1\", \"variant_2\"]\n",
    "combine_df = combine_df / 3600 / 1000"
   ],
   "metadata": {
    "collapsed": false,
    "pycharm": {
     "name": "#%%\n"
    }
   }
  },
  {
   "cell_type": "code",
   "execution_count": 23,
   "outputs": [
    {
     "data": {
      "text/plain": "Text(0, 0.5, 'Building consumption [kWh]')"
     },
     "execution_count": 23,
     "metadata": {},
     "output_type": "execute_result"
    },
    {
     "data": {
      "text/plain": "<Figure size 432x288 with 1 Axes>",
      "image/png": "[encoded data removed]"
     },
     "metadata": {
      "needs_background": "light"
     },
     "output_type": "display_data"
    }
   ],
   "source": [
    "combine_df.T.plot(kind=\"bar\", stacked=True)\n",
    "plt.title(\"Variant comparison\")\n",
    "plt.ylabel(\"Building consumption [kWh]\")"
   ],
   "metadata": {
    "collapsed": false,
    "pycharm": {
     "name": "#%%\n"
    }
   }
  },
  {
   "cell_type": "code",
   "execution_count": 25,
   "outputs": [
    {
     "data": {
      "text/plain": "BLOCK1:APPTX1E     48.644986\nBLOCK1:APPTX1E1    50.271003\nBLOCK1:APPTX1W     51.016260\nBLOCK2:APPTX2E     51.693767\nBLOCK2:APPTX2W     52.506775\ndtype: float64"
     },
     "execution_count": 25,
     "metadata": {},
     "output_type": "execute_result"
    }
   ],
   "source": [
    "building.overshoot_thermal_comfort"
   ],
   "metadata": {
    "collapsed": false,
    "pycharm": {
     "name": "#%%\n"
    }
   }
  }
 ],
 "metadata": {
  "kernelspec": {
   "display_name": "Python 3",
   "language": "python",
   "name": "python3"
  },
  "language_info": {
   "codemirror_mode": {
    "name": "ipython",
    "version": 2
   },
   "file_extension": ".py",
   "mimetype": "text/x-python",
   "name": "python",
   "nbconvert_exporter": "python",
   "pygments_lexer": "ipython2",
   "version": "2.7.6"
  }
 },
 "nbformat": 4,
 "nbformat_minor": 0
}